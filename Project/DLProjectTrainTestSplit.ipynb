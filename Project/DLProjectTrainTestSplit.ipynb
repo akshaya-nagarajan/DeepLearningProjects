{
  "nbformat": 4,
  "nbformat_minor": 0,
  "metadata": {
    "colab": {
      "name": "DLProjectTrainTestSplit.ipynb",
      "provenance": [],
      "collapsed_sections": [],
      "include_colab_link": true
    },
    "kernelspec": {
      "name": "python3",
      "display_name": "Python 3"
    },
    "accelerator": "TPU"
  },
  "cells": [
    {
      "cell_type": "markdown",
      "metadata": {
        "id": "view-in-github",
        "colab_type": "text"
      },
      "source": [
        "<a href=\"https://colab.research.google.com/github/akshaya-nagarajan/DeepLearningProjects/blob/master/Project/DLProjectTrainTestSplit.ipynb\" target=\"_parent\"><img src=\"https://colab.research.google.com/assets/colab-badge.svg\" alt=\"Open In Colab\"/></a>"
      ]
    },
    {
      "cell_type": "markdown",
      "metadata": {
        "id": "9E23EE7QBX0q",
        "colab_type": "text"
      },
      "source": [
        "## Mount the Drive"
      ]
    },
    {
      "cell_type": "code",
      "metadata": {
        "id": "D07JV6Tdl_ML",
        "colab_type": "code",
        "outputId": "cbf93112-fcef-4223-ba51-90884a21c2dd",
        "colab": {
          "base_uri": "https://localhost:8080/",
          "height": 122
        }
      },
      "source": [
        "from google.colab import drive\n",
        "drive.mount('/content/gdrive/', force_remount=True)\n",
        "root_dir = \"/content/gdrive/My Drive/Deep Learning project/\"\n",
        "image_dir = root_dir + 'Images/'"
      ],
      "execution_count": 0,
      "outputs": [
        {
          "output_type": "stream",
          "text": [
            "Go to this URL in a browser: https://accounts.google.com/o/oauth2/auth?client_id=947318989803-6bn6qk8qdgf4n4g3pfee6491hc0brc4i.apps.googleusercontent.com&redirect_uri=urn%3aietf%3awg%3aoauth%3a2.0%3aoob&response_type=code&scope=email%20https%3a%2f%2fwww.googleapis.com%2fauth%2fdocs.test%20https%3a%2f%2fwww.googleapis.com%2fauth%2fdrive%20https%3a%2f%2fwww.googleapis.com%2fauth%2fdrive.photos.readonly%20https%3a%2f%2fwww.googleapis.com%2fauth%2fpeopleapi.readonly\n",
            "\n",
            "Enter your authorization code:\n",
            "··········\n",
            "Mounted at /content/gdrive/\n"
          ],
          "name": "stdout"
        }
      ]
    },
    {
      "cell_type": "markdown",
      "metadata": {
        "id": "-g1Wci7pBaOr",
        "colab_type": "text"
      },
      "source": [
        "## Import the required Libraries"
      ]
    },
    {
      "cell_type": "code",
      "metadata": {
        "id": "RwNpZJ46Lalb",
        "colab_type": "code",
        "colab": {}
      },
      "source": [
        "import os\n",
        "import shutil\n",
        "import numpy as np"
      ],
      "execution_count": 0,
      "outputs": []
    },
    {
      "cell_type": "markdown",
      "metadata": {
        "id": "NnZHpnkIBhpQ",
        "colab_type": "text"
      },
      "source": [
        "# Below functions are to be run only once.So, commenting out all the lines."
      ]
    },
    {
      "cell_type": "markdown",
      "metadata": {
        "id": "PEZytfUWBqyu",
        "colab_type": "text"
      },
      "source": [
        "## Specify the Source Folders and Destination Folders. \n",
        "1. Move 20% of images from source folders to Test Set folders.\n",
        "2. Move rest of the images from source folders to Train Set folders."
      ]
    },
    {
      "cell_type": "code",
      "metadata": {
        "id": "GcTJd4zinzOY",
        "colab_type": "code",
        "colab": {}
      },
      "source": [
        "# source = image_dir + 'CleanedImages/'\n",
        "# destination = image_dir + 'Split/Test/'\n",
        "# folders = ['LowLunge', 'DownwardFacingDog', 'TreePose', 'WarriorPose', 'Planks', 'ReversePlanks', 'SidePlanks', 'SeatedForwardBend', 'TrianglePose']\n",
        "\n",
        "# # ONE TIME RUN - DONOT RUN AGAIN\n",
        "\n",
        "# for folder in folders:\n",
        "#   files = os.listdir(source+folder)\n",
        "#   for f in files:\n",
        "#       if np.random.rand(1) < 0.2:\n",
        "#           shutil.move(source + folder + '/'+ f, destination + folder + '/'+ f)"
      ],
      "execution_count": 0,
      "outputs": []
    },
    {
      "cell_type": "code",
      "metadata": {
        "id": "jjM3yNznecCh",
        "colab_type": "code",
        "colab": {}
      },
      "source": [
        "# source = image_dir + 'Split/Test/'\n",
        "# trainDestination = image_dir + 'Split/Train/'\n",
        "# folders = ['LowLunge', 'DownwardFacingDog', 'TreePose', 'WarriorPose', 'Planks', 'ReversePlanks', 'SidePlanks', 'SeatedForwardBend', 'TrianglePose']\n",
        "# for folder in folders:\n",
        "#   files = os.listdir(source+folder)\n",
        "#   for f in files:\n",
        "#     if np.random.rand(1) < 0.2:\n",
        "#       shutil.move(source + folder + '/'+ f, trainDestination + folder + '/'+ f)"
      ],
      "execution_count": 0,
      "outputs": []
    },
    {
      "cell_type": "code",
      "metadata": {
        "id": "y4F1ZHhjZcbs",
        "colab_type": "code",
        "colab": {}
      },
      "source": [
        "# # ONE TIME RUN - DONOT RUN AGAIN\n",
        "\n",
        "# trainDestination = image_dir + 'Split/Train/'\n",
        "# for folder in folders:\n",
        "#   files = os.listdir(source+folder)\n",
        "#   for f in files:\n",
        "#       shutil.move(source + folder + '/'+ f, trainDestination + folder + '/'+ f)"
      ],
      "execution_count": 0,
      "outputs": []
    },
    {
      "cell_type": "code",
      "metadata": {
        "id": "oURSlVyGR2RS",
        "colab_type": "code",
        "colab": {}
      },
      "source": [
        "# source = image_dir + 'downwarddog/'\n",
        "# destination = image_dir + 'NewSet/DownwardFacingDog'\n",
        "# files = os.listdir(source)\n",
        "# for f in files:\n",
        "#   shutil.move(source + '/'+ f, destination + '/'+ f)"
      ],
      "execution_count": 0,
      "outputs": []
    },
    {
      "cell_type": "code",
      "metadata": {
        "id": "dXv59-FMS3Pf",
        "colab_type": "code",
        "colab": {}
      },
      "source": [
        "# source = image_dir + 'Seated/'\n",
        "# destination = image_dir + 'NewSet/SeatedForwardBend'\n",
        "# files = os.listdir(source)\n",
        "# for f in files:\n",
        "#   shutil.move(source + '/'+ f, destination + '/'+ f)"
      ],
      "execution_count": 0,
      "outputs": []
    },
    {
      "cell_type": "code",
      "metadata": {
        "id": "4Jmjc28OUA1n",
        "colab_type": "code",
        "colab": {}
      },
      "source": [
        "# source = image_dir + 'TP/'\n",
        "# destination = image_dir + 'NewSet/TreePose'\n",
        "# files = os.listdir(source)\n",
        "# for f in files:\n",
        "#     shutil.move(source + '/'+ f, destination + '/'+ f)"
      ],
      "execution_count": 0,
      "outputs": []
    },
    {
      "cell_type": "code",
      "metadata": {
        "id": "ay_nusHwU46C",
        "colab_type": "code",
        "colab": {}
      },
      "source": [
        "# source = image_dir + 'war pose/'\n",
        "# destination = image_dir + 'NewSet/WarriorPose'\n",
        "# files = os.listdir(source)\n",
        "# for f in files:\n",
        "#     shutil.move(source + '/'+ f, destination + '/'+ f)"
      ],
      "execution_count": 0,
      "outputs": []
    },
    {
      "cell_type": "code",
      "metadata": {
        "id": "aiaE5URCcVdl",
        "colab_type": "code",
        "colab": {}
      },
      "source": [
        "# source = image_dir + 'war pose 2/'\n",
        "# destination = image_dir + 'NewSet/WarriorPose'\n",
        "# files = os.listdir(source)\n",
        "# for f in files:\n",
        "#     shutil.move(source + '/'+ f, destination + '/'+ f)"
      ],
      "execution_count": 0,
      "outputs": []
    },
    {
      "cell_type": "code",
      "metadata": {
        "id": "7yXKywFvVRKC",
        "colab_type": "code",
        "colab": {}
      },
      "source": [
        "# source = image_dir + 'lunges/'\n",
        "# destination = image_dir + 'NewSet/LowLunge'\n",
        "# files = os.listdir(source)\n",
        "# for f in files:\n",
        "#     shutil.move(source + '/'+ f, destination + '/'+ f)"
      ],
      "execution_count": 0,
      "outputs": []
    }
  ]
}