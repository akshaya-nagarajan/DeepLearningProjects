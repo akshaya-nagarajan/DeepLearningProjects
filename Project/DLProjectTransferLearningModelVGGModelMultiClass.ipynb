{
  "nbformat": 4,
  "nbformat_minor": 0,
  "metadata": {
    "colab": {
      "name": "DLProjectTransferLearningModelVGGModelMultiClass.ipynb",
      "provenance": [],
      "collapsed_sections": [],
      "include_colab_link": true
    },
    "kernelspec": {
      "name": "python3",
      "display_name": "Python 3"
    },
    "accelerator": "GPU"
  },
  "cells": [
    {
      "cell_type": "markdown",
      "metadata": {
        "id": "view-in-github",
        "colab_type": "text"
      },
      "source": [
        "<a href=\"https://colab.research.google.com/github/akshaya-nagarajan/DeepLearningProjects/blob/master/Project/DLProjectTransferLearningModelVGGModelMultiClass.ipynb\" target=\"_parent\"><img src=\"https://colab.research.google.com/assets/colab-badge.svg\" alt=\"Open In Colab\"/></a>"
      ]
    },
    {
      "cell_type": "markdown",
      "metadata": {
        "id": "HrTdY4CVmj-A",
        "colab_type": "text"
      },
      "source": [
        "## Mounting the Drive"
      ]
    },
    {
      "cell_type": "code",
      "metadata": {
        "id": "vL6HRkt5w3sq",
        "colab_type": "code",
        "outputId": "080a2254-1663-4231-e16e-7cde597211c6",
        "colab": {
          "base_uri": "https://localhost:8080/",
          "height": 34
        }
      },
      "source": [
        "from google.colab import drive\n",
        "drive.mount('/content/gdrive/', force_remount=True)\n",
        "root_dir = \"/content/gdrive/My Drive/Deep Learning project/\"\n",
        "image_dir = root_dir + 'Images/'"
      ],
      "execution_count": 0,
      "outputs": [
        {
          "output_type": "stream",
          "text": [
            "Mounted at /content/gdrive/\n"
          ],
          "name": "stdout"
        }
      ]
    },
    {
      "cell_type": "markdown",
      "metadata": {
        "id": "ZNTa29dbmr5z",
        "colab_type": "text"
      },
      "source": [
        "## To determine which version of TensorFlow being used"
      ]
    },
    {
      "cell_type": "code",
      "metadata": {
        "id": "Qt4QFYdGZP4g",
        "colab_type": "code",
        "outputId": "accf289c-9001-4891-e95c-f690302ad10d",
        "colab": {
          "base_uri": "https://localhost:8080/",
          "height": 190
        }
      },
      "source": [
        "!pip show tensorflow"
      ],
      "execution_count": 0,
      "outputs": [
        {
          "output_type": "stream",
          "text": [
            "Name: tensorflow\n",
            "Version: 2.2.0\n",
            "Summary: TensorFlow is an open source machine learning framework for everyone.\n",
            "Home-page: https://www.tensorflow.org/\n",
            "Author: Google Inc.\n",
            "Author-email: packages@tensorflow.org\n",
            "License: Apache 2.0\n",
            "Location: /usr/local/lib/python3.6/dist-packages\n",
            "Requires: tensorflow-estimator, gast, absl-py, keras-preprocessing, tensorboard, grpcio, google-pasta, wrapt, wheel, numpy, opt-einsum, h5py, protobuf, astunparse, scipy, termcolor, six\n",
            "Required-by: fancyimpute\n"
          ],
          "name": "stdout"
        }
      ]
    },
    {
      "cell_type": "markdown",
      "metadata": {
        "id": "ZUMSPJpJmw_n",
        "colab_type": "text"
      },
      "source": [
        "## Install required Libraries"
      ]
    },
    {
      "cell_type": "code",
      "metadata": {
        "id": "prqeDU_-QkWs",
        "colab_type": "code",
        "outputId": "c121826d-414a-4dfa-e60e-67c30008cff9",
        "colab": {
          "base_uri": "https://localhost:8080/",
          "height": 52
        }
      },
      "source": [
        "import tensorflow\n",
        "import tensorflow as tf\n",
        "from tensorflow.keras.preprocessing.image import ImageDataGenerator, array_to_img, img_to_array, load_img, save_img\n",
        "from tensorflow.keras.layers import Input, Lambda, Dense, Flatten, GlobalAveragePooling2D\n",
        "from tensorflow.keras.models import Model\n",
        "from tensorflow.keras.applications.vgg16 import VGG16\n",
        "from tensorflow.keras.applications.vgg16 import preprocess_input\n",
        "from tensorflow.keras.preprocessing import image\n",
        "from tensorflow.keras.preprocessing.image import ImageDataGenerator\n",
        "from tensorflow.keras.models import Sequential\n",
        "from tensorflow.keras.utils import plot_model\n",
        "from tensorflow.keras.applications.inception_v3 import InceptionV3, preprocess_input\n",
        "\n",
        "from tensorflow.keras.optimizers import SGD\n",
        "from tensorflow.keras.callbacks import TensorBoard\n",
        "import time\n",
        "import datetime\n",
        "\n",
        "# Load the TensorBoard notebook extension\n",
        "%load_ext tensorboard \n",
        "\n",
        "from glob import glob\n",
        "import numpy as np\n",
        "from numpy import expand_dims\n",
        "import pandas as pd\n",
        "\n",
        "from sklearn.metrics import classification_report, accuracy_score, confusion_matrix\n",
        "\n",
        "import seaborn as sns\n",
        "sns.set(style=\"white\")\n",
        "sns.set(style=\"whitegrid\", color_codes=True)\n",
        "\n",
        "import os\n",
        "from shutil import copy\n",
        "from shutil import copytree, rmtree\n",
        "import argparse\n",
        "import matplotlib.pyplot as plt\n",
        "%matplotlib inline\n",
        "\n",
        "plt.style.use(\"ggplot\")"
      ],
      "execution_count": 0,
      "outputs": [
        {
          "output_type": "stream",
          "text": [
            "The tensorboard extension is already loaded. To reload it, use:\n",
            "  %reload_ext tensorboard\n"
          ],
          "name": "stdout"
        }
      ]
    },
    {
      "cell_type": "code",
      "metadata": {
        "id": "Pvq1fiDBn5O7",
        "colab_type": "code",
        "colab": {}
      },
      "source": [
        "# import tensorflow.compat.v1 as tf\n",
        "# #To make tf 2.0 compatible with tf1.0 code, we disable the tf2.0 functionalities\n",
        "# tf.disable_eager_execution()"
      ],
      "execution_count": 0,
      "outputs": []
    },
    {
      "cell_type": "markdown",
      "metadata": {
        "id": "l03zRM_Sm9OF",
        "colab_type": "text"
      },
      "source": [
        "## Detect hardware and return appropriate distribution strategies"
      ]
    },
    {
      "cell_type": "code",
      "metadata": {
        "id": "Ps_suY3TN-AY",
        "colab_type": "code",
        "outputId": "f09d1d0f-d128-4e74-b655-3f8f760e076e",
        "colab": {
          "base_uri": "https://localhost:8080/",
          "height": 34
        }
      },
      "source": [
        "try:\n",
        "    # TPU detection. No parameters necessary if TPU_NAME environment variable is set. On Kaggle this is always the case.\n",
        "    tpu = tf.distribute.cluster_resolver.TPUClusterResolver()\n",
        "    print('Running on TPU ', tpu.master())\n",
        "except ValueError:\n",
        "    tpu = None\n",
        "\n",
        "if tpu:\n",
        "    tf.config.experimental_connect_to_cluster(tpu)\n",
        "    tf.tpu.experimental.initialize_tpu_system(tpu)\n",
        "    strategy = tf.distribute.experimental.TPUStrategy(tpu)\n",
        "else:\n",
        "    # default distribution strategy in Tensorflow. Works on CPU and single GPU.\n",
        "    strategy = tf.distribute.get_strategy()\n",
        "\n",
        "print(\"REPLICAS: \", strategy.num_replicas_in_sync)"
      ],
      "execution_count": 0,
      "outputs": [
        {
          "output_type": "stream",
          "text": [
            "REPLICAS:  1\n"
          ],
          "name": "stdout"
        }
      ]
    },
    {
      "cell_type": "markdown",
      "metadata": {
        "id": "zkbfzgMynG3i",
        "colab_type": "text"
      },
      "source": [
        "## This is the TPU initialization code that has to be at the beginning."
      ]
    },
    {
      "cell_type": "code",
      "metadata": {
        "id": "HgT-7uCkjbe4",
        "colab_type": "code",
        "colab": {}
      },
      "source": [
        "# resolver = tf.distribute.cluster_resolver.TPUClusterResolver(tpu='grpc://' + os.environ['COLAB_TPU_ADDR'])\n",
        "# tf.config.experimental_connect_to_cluster(resolver)\n",
        "# tf.tpu.experimental.initialize_tpu_system(resolver)\n",
        "# strategy = tf.distribute.experimental.TPUStrategy(resolver)"
      ],
      "execution_count": 0,
      "outputs": []
    },
    {
      "cell_type": "markdown",
      "metadata": {
        "id": "pWqMtKnMnJLq",
        "colab_type": "text"
      },
      "source": [
        "## Displaying the Train Folder in the dataset"
      ]
    },
    {
      "cell_type": "code",
      "metadata": {
        "id": "bdIYsPp-dhaO",
        "colab_type": "code",
        "outputId": "f71ec900-9600-413e-fcea-0eb66fe6b7b6",
        "colab": {
          "base_uri": "https://localhost:8080/",
          "height": 173
        }
      },
      "source": [
        "train_folders = glob(image_dir+'Split/Train/*')\n",
        "# Lists all the folders in train set\n",
        "train_folders"
      ],
      "execution_count": 0,
      "outputs": [
        {
          "output_type": "execute_result",
          "data": {
            "text/plain": [
              "['/content/gdrive/My Drive/Deep Learning project/Images/Split/Train/LowLunge',\n",
              " '/content/gdrive/My Drive/Deep Learning project/Images/Split/Train/DownwardFacingDog',\n",
              " '/content/gdrive/My Drive/Deep Learning project/Images/Split/Train/TreePose',\n",
              " '/content/gdrive/My Drive/Deep Learning project/Images/Split/Train/WarriorPose',\n",
              " '/content/gdrive/My Drive/Deep Learning project/Images/Split/Train/Planks',\n",
              " '/content/gdrive/My Drive/Deep Learning project/Images/Split/Train/ReversePlanks',\n",
              " '/content/gdrive/My Drive/Deep Learning project/Images/Split/Train/SidePlanks',\n",
              " '/content/gdrive/My Drive/Deep Learning project/Images/Split/Train/SeatedForwardBend',\n",
              " '/content/gdrive/My Drive/Deep Learning project/Images/Split/Train/TrianglePose']"
            ]
          },
          "metadata": {
            "tags": []
          },
          "execution_count": 35
        }
      ]
    },
    {
      "cell_type": "markdown",
      "metadata": {
        "id": "12HVoGWynSVw",
        "colab_type": "text"
      },
      "source": [
        "## Displaying the Test Folder in the dataset"
      ]
    },
    {
      "cell_type": "code",
      "metadata": {
        "id": "Gkf84zU1d3Iw",
        "colab_type": "code",
        "outputId": "4b58fd9d-810a-4a8f-943d-41dcdd416ba1",
        "colab": {
          "base_uri": "https://localhost:8080/",
          "height": 173
        }
      },
      "source": [
        "test_folders = glob(image_dir+'Split/Test/*')\n",
        "# Lists all the folders in test set\n",
        "test_folders"
      ],
      "execution_count": 0,
      "outputs": [
        {
          "output_type": "execute_result",
          "data": {
            "text/plain": [
              "['/content/gdrive/My Drive/Deep Learning project/Images/Split/Test/LowLunge',\n",
              " '/content/gdrive/My Drive/Deep Learning project/Images/Split/Test/DownwardFacingDog',\n",
              " '/content/gdrive/My Drive/Deep Learning project/Images/Split/Test/TreePose',\n",
              " '/content/gdrive/My Drive/Deep Learning project/Images/Split/Test/WarriorPose',\n",
              " '/content/gdrive/My Drive/Deep Learning project/Images/Split/Test/Planks',\n",
              " '/content/gdrive/My Drive/Deep Learning project/Images/Split/Test/ReversePlanks',\n",
              " '/content/gdrive/My Drive/Deep Learning project/Images/Split/Test/SidePlanks',\n",
              " '/content/gdrive/My Drive/Deep Learning project/Images/Split/Test/SeatedForwardBend',\n",
              " '/content/gdrive/My Drive/Deep Learning project/Images/Split/Test/TrianglePose']"
            ]
          },
          "metadata": {
            "tags": []
          },
          "execution_count": 36
        }
      ]
    },
    {
      "cell_type": "markdown",
      "metadata": {
        "id": "1jBVuEdanUhT",
        "colab_type": "text"
      },
      "source": [
        "## Specifying the Train-Test paths "
      ]
    },
    {
      "cell_type": "code",
      "metadata": {
        "id": "k5jHoTGZd_e1",
        "colab_type": "code",
        "colab": {}
      },
      "source": [
        "# Actual train and test paths\n",
        "train_path = image_dir+'Split/Train'\n",
        "test_path = image_dir+'Split/Test'"
      ],
      "execution_count": 0,
      "outputs": []
    },
    {
      "cell_type": "markdown",
      "metadata": {
        "id": "fPW3MXAAnZCS",
        "colab_type": "text"
      },
      "source": [
        "## Creating a Mini Dataset for Testing Purposes and for other Multiple runs"
      ]
    },
    {
      "cell_type": "code",
      "metadata": {
        "id": "HaUnlfhXCSPF",
        "colab_type": "code",
        "colab": {}
      },
      "source": [
        "def create_dataset_mini(img_list, source, destination):\n",
        "  if os.path.exists(destination):\n",
        "    # removing Mini dataset folder (if it already exists) folders, so that we will have only the classes that we want\n",
        "    rmtree(destination) \n",
        "  # Make the destination directories\n",
        "  os.makedirs(destination)\n",
        "  # Iterate through each image specified in the image list and get all the images from that folder only\n",
        "  \n",
        "  for img_item in img_list :\n",
        "    print(\"Copying images into\",img_item)\n",
        "    # Copy the images from source to destination\n",
        "    copytree(os.path.join(source, img_item), os.path.join(destination, img_item))"
      ],
      "execution_count": 0,
      "outputs": []
    },
    {
      "cell_type": "markdown",
      "metadata": {
        "id": "yUXzR6YonjDv",
        "colab_type": "text"
      },
      "source": [
        "## Specifying the folder names/path for mini dataset"
      ]
    },
    {
      "cell_type": "code",
      "metadata": {
        "id": "3Qc0SKSaCVDM",
        "colab_type": "code",
        "colab": {}
      },
      "source": [
        "# Specify the folders to create a Mini Dataset of\n",
        "img_class_list = ['DownwardFacingDog','WarriorPose', 'ReversePlanks']\n",
        "\n",
        "# Specify where to create the Mini Dataset in\n",
        "train_path_mini = image_dir+'Split/mini'\n",
        "test_path_mini = image_dir+'Split/mini'"
      ],
      "execution_count": 0,
      "outputs": []
    },
    {
      "cell_type": "markdown",
      "metadata": {
        "id": "0rmIf0SAno_-",
        "colab_type": "text"
      },
      "source": [
        "## Below Commented out statements are one-time run. Each time a new folder will be created \"replacing\" the old one."
      ]
    },
    {
      "cell_type": "code",
      "metadata": {
        "id": "mgLzFfhkCX6v",
        "colab_type": "code",
        "colab": {}
      },
      "source": [
        "# print(\"Creating train data folder with new classes(specified in img_class_list)\")\n",
        "# create_dataset_mini(img_class_list, train_path, train_path_mini)"
      ],
      "execution_count": 0,
      "outputs": []
    },
    {
      "cell_type": "code",
      "metadata": {
        "id": "hqybXmm7CcD5",
        "colab_type": "code",
        "colab": {}
      },
      "source": [
        "# print(\"Creating test data folder with new classes(specified in img_class_list)\")\n",
        "# create_dataset_mini(img_class_list, test_path, test_path_mini)"
      ],
      "execution_count": 0,
      "outputs": []
    },
    {
      "cell_type": "markdown",
      "metadata": {
        "id": "eRQOrxJen1-7",
        "colab_type": "text"
      },
      "source": [
        "## Uncomment the below two lines if the mini dataset needs to be used"
      ]
    },
    {
      "cell_type": "code",
      "metadata": {
        "id": "1W4lS5MECemI",
        "colab_type": "code",
        "colab": {}
      },
      "source": [
        "# # Reassigning the train and test paths specified previously\n",
        "# train_path = train_path_mini\n",
        "# test_path = test_path_mini"
      ],
      "execution_count": 0,
      "outputs": []
    },
    {
      "cell_type": "markdown",
      "metadata": {
        "id": "rjNedNqAn_cb",
        "colab_type": "text"
      },
      "source": [
        "## List the Classes taken into consideration. The folder names were given in such a way that it'll be considered as Class names as well."
      ]
    },
    {
      "cell_type": "code",
      "metadata": {
        "id": "AJAFfK1afBIM",
        "colab_type": "code",
        "outputId": "ab56a5de-0d4f-48bc-d06a-df2a156eabe5",
        "colab": {
          "base_uri": "https://localhost:8080/",
          "height": 173
        }
      },
      "source": [
        "# List of classes Used'\n",
        "classes = os.listdir(train_path)\n",
        "classes"
      ],
      "execution_count": 0,
      "outputs": [
        {
          "output_type": "execute_result",
          "data": {
            "text/plain": [
              "['LowLunge',\n",
              " 'DownwardFacingDog',\n",
              " 'TreePose',\n",
              " 'WarriorPose',\n",
              " 'Planks',\n",
              " 'ReversePlanks',\n",
              " 'SidePlanks',\n",
              " 'SeatedForwardBend',\n",
              " 'TrianglePose']"
            ]
          },
          "metadata": {
            "tags": []
          },
          "execution_count": 43
        }
      ]
    },
    {
      "cell_type": "markdown",
      "metadata": {
        "id": "7dhcDD26oRpe",
        "colab_type": "text"
      },
      "source": [
        "## Get all the image files in the Train dataset folder."
      ]
    },
    {
      "cell_type": "code",
      "metadata": {
        "id": "aqDpggBFfIPm",
        "colab_type": "code",
        "colab": {}
      },
      "source": [
        "train_values = [] \n",
        "for c in classes:\n",
        "    train_values.append(len(os.listdir(train_path+'/'+c)))"
      ],
      "execution_count": 0,
      "outputs": []
    },
    {
      "cell_type": "markdown",
      "metadata": {
        "id": "qpS876sLoaYi",
        "colab_type": "text"
      },
      "source": [
        "## Display the number of images available in each of the folders in Train Set"
      ]
    },
    {
      "cell_type": "code",
      "metadata": {
        "id": "qsv7mBztfXhw",
        "colab_type": "code",
        "outputId": "3a5e02d5-3a1c-4157-f057-3ef0c18d499a",
        "colab": {
          "base_uri": "https://localhost:8080/",
          "height": 34
        }
      },
      "source": [
        "train_values"
      ],
      "execution_count": 0,
      "outputs": [
        {
          "output_type": "execute_result",
          "data": {
            "text/plain": [
              "[1416, 901, 4022, 1077, 187, 508, 222, 1878, 2090]"
            ]
          },
          "metadata": {
            "tags": []
          },
          "execution_count": 45
        }
      ]
    },
    {
      "cell_type": "markdown",
      "metadata": {
        "id": "zEsykAu9ogdF",
        "colab_type": "text"
      },
      "source": [
        "## Indices to plot the graph"
      ]
    },
    {
      "cell_type": "code",
      "metadata": {
        "id": "K0blQ7qffN_7",
        "colab_type": "code",
        "colab": {}
      },
      "source": [
        "indexes = [0,1,2,3,4,5,6,7,8]\n",
        "#indexes = [0, 1, 2]"
      ],
      "execution_count": 0,
      "outputs": []
    },
    {
      "cell_type": "markdown",
      "metadata": {
        "id": "n0kVNX1SokeX",
        "colab_type": "text"
      },
      "source": [
        "## Distribution plot to visualize the number of images in each folder classes"
      ]
    },
    {
      "cell_type": "code",
      "metadata": {
        "id": "Lj4AfJ08fSN6",
        "colab_type": "code",
        "outputId": "e83f2527-1af9-4e43-ad41-5e4124710533",
        "colab": {
          "base_uri": "https://localhost:8080/",
          "height": 628
        }
      },
      "source": [
        "fig, ax = plt.subplots(1, 1, figsize=(20,10))\n",
        "plt.bar(indexes,train_values)\n",
        "plt.xticks(indexes,classes)\n",
        "plt.title(\"Distribution of Classes in Training Set\")"
      ],
      "execution_count": 0,
      "outputs": [
        {
          "output_type": "execute_result",
          "data": {
            "text/plain": [
              "Text(0.5, 1.0, 'Distribution of Classes in Training Set')"
            ]
          },
          "metadata": {
            "tags": []
          },
          "execution_count": 47
        },
        {
          "output_type": "display_data",
          "data": {
            "image/png": "[encoded data removed]",
            "text/plain": [
              "<Figure size 1440x720 with 1 Axes>"
            ]
          },
          "metadata": {
            "tags": []
          }
        }
      ]
    },
    {
      "cell_type": "markdown",
      "metadata": {
        "id": "3pPvpXPkouxD",
        "colab_type": "text"
      },
      "source": [
        "## Form Fields to input the model Parameters. Defualt values are set."
      ]
    },
    {
      "cell_type": "code",
      "metadata": {
        "id": "Pgfd_aop-eHn",
        "colab_type": "code",
        "colab": {}
      },
      "source": [
        "#@title Parameters for Models\n",
        "\n",
        "#@markdown Enter the data to experiment with the model\n",
        "\n",
        "#@markdown ---\n",
        "\n",
        "image_width = 224 #@param {type:\"integer\"}\n",
        "\n",
        "image_height = 224 #@param {type:\"integer\"}\n",
        "\n",
        "epochs = 2 #@param {type:\"slider\", min:1, max:100, step:1}\n",
        "\n",
        "batchSize = 32 #@param [\"32\", \"64\", \"128\", \"256\"] {type:\"raw\"}\n",
        "\n",
        "fullConnectedLayer = 1024 #@param {type:\"integer\"}\n",
        "\n",
        "LayersToFreeze = 10 #@param {type:\"integer\"}\n",
        "\n",
        "#@markdown ---"
      ],
      "execution_count": 0,
      "outputs": []
    },
    {
      "cell_type": "markdown",
      "metadata": {
        "id": "xKmGY7Wfo09W",
        "colab_type": "text"
      },
      "source": [
        "## Model Parameters (Same like above)"
      ]
    },
    {
      "cell_type": "code",
      "metadata": {
        "id": "sTiMqJBjfSKU",
        "colab_type": "code",
        "colab": {}
      },
      "source": [
        "# image_width, image_height = 224, 224 #fixed size \n",
        "# epochs = 3\n",
        "# batchSize = 32ﬁ\n",
        "# fullConnectedLayer = 1024\n",
        "# LayersToFreeze = 10"
      ],
      "execution_count": 0,
      "outputs": []
    },
    {
      "cell_type": "markdown",
      "metadata": {
        "id": "917fpCU3o7Oi",
        "colab_type": "text"
      },
      "source": [
        "## Get the file count from the directory"
      ]
    },
    {
      "cell_type": "code",
      "metadata": {
        "id": "Wn6XZPKTgsxP",
        "colab_type": "code",
        "colab": {}
      },
      "source": [
        "def get_files_count(directory):\n",
        "  print('##### Getting the file Count #####')\n",
        "  # If there're no folders in the specified directly, send the count as 0\n",
        "  if not os.path.exists(directory):\n",
        "    return 0\n",
        "  count = 0\n",
        "\n",
        "  # Else, walk through the directory to get the total count\n",
        "  for val, dirs, files in os.walk(directory):\n",
        "    for dir in dirs:\n",
        "      count += len(glob(os.path.join(val, dir + \"/*\")))\n",
        "  return count"
      ],
      "execution_count": 0,
      "outputs": []
    },
    {
      "cell_type": "code",
      "metadata": {
        "id": "TYUfCzKrwfAI",
        "colab_type": "code",
        "colab": {}
      },
      "source": [
        "def setupTransferLearn(model, base_model):\n",
        "  print('##### Setting up the Transfer learning Model #####')\n",
        "  # base model is VGG model\n",
        "  # model is the additional Layers that was added\n",
        "  for layer in base_model.layers:\n",
        "    layer.trainable = False\n",
        "\n",
        "  # Make all the layes in the VGG model as trainable False to Freeze the layers. It can not be changes further.\n",
        "  # Compile the model.\n",
        "  # Optimizer used: RMSProp,\n",
        "  # Loss Calculated: categorical_crossentropy,\n",
        "  # Accuracy metrics is measured.\n",
        "\n",
        "  model.compile(optimizer='rmsprop', loss='categorical_crossentropy', metrics=['accuracy'])"
      ],
      "execution_count": 0,
      "outputs": []
    },
    {
      "cell_type": "code",
      "metadata": {
        "id": "r8dDpt4Gw9U0",
        "colab_type": "code",
        "colab": {}
      },
      "source": [
        "def addAdditionalLayesToBaseModel(base_model, classes):\n",
        "  print('##### Adding layers to the base model #####')\n",
        "  ## Add additional last layers to the Base Model\n",
        "  # base model is VGG model\n",
        "  # classes: Total number of classes in consideration\n",
        "  \n",
        "  x = base_model.output\n",
        "  x = GlobalAveragePooling2D()(x)\n",
        "\n",
        "  # Add a Fully Connected Layer, random init\n",
        "  x = Dense(fullConnectedLayer, activation='relu')(x)\n",
        "\n",
        "  # Add a Softmax Layer for predicting the output\n",
        "  outputLayer = Dense(classes, activation='softmax')(x) \n",
        "\n",
        "  # Returns: New model with added last layers\n",
        "  newModel = Model(base_model.input, outputLayer)\n",
        "  return newModel"
      ],
      "execution_count": 0,
      "outputs": []
    },
    {
      "cell_type": "code",
      "metadata": {
        "id": "bdGI-16uw9LH",
        "colab_type": "code",
        "colab": {}
      },
      "source": [
        "def changeLayerPropertyForFineTune(model):\n",
        "  print('##### Freeze/UnFreeze the layers #####')\n",
        "  # model: the Model that is used for training/testing\n",
        "  ## Freeze the bottom LayersToFreeze and retrain the remaining top layers.\n",
        "  ## LayersToFreeze corresponds to the top layers in the VGG Architecture\n",
        "\n",
        "  for layer in model.layers[:LayersToFreeze]:\n",
        "     layer.trainable = False\n",
        "\n",
        "  for layer in model.layers[LayersToFreeze:]:\n",
        "     layer.trainable = True\n",
        "\n",
        "  # Compile the model.\n",
        "  # Optimizer used: Stochastic gradient descent,\n",
        "  # Learning rate and momentum\n",
        "  # Loss Calculated: categorical_crossentropy,\n",
        "  # Accuracy metrics is measured.\n",
        "  \n",
        "  model.compile(optimizer=SGD(lr=0.0001, momentum=0.9), loss='categorical_crossentropy', metrics=['accuracy'])"
      ],
      "execution_count": 0,
      "outputs": []
    },
    {
      "cell_type": "code",
      "metadata": {
        "id": "lPpXP-UBw9HL",
        "colab_type": "code",
        "colab": {}
      },
      "source": [
        "def transferLearningModel():\n",
        "  print('##### Transfer Learning model to train on Yoga Dataset #####')\n",
        "\n",
        "  ## Get the file count in the Train path\n",
        "  totalTrainSamples = get_files_count(train_path)\n",
        "\n",
        "  ## Total Classes taken\n",
        "  totalClasses = len(glob(train_path+ \"/*\"))\n",
        "\n",
        "  ## Get the file count in the Test/Validation path\n",
        "  totalTestSamples = get_files_count(test_path)\n",
        "\n",
        "  ## Type Conversion, just in case if the enter number in the form field is not of type int.\n",
        "  epoch = int(epochs)\n",
        "\n",
        "  ## Type Conversion, just in case if the enter number in the form field is not of type int.\n",
        "  batch_size = int(batchSize)\n",
        "\n",
        "  print('##### Data Augmentation #####')\n",
        "  # Data Preparation for Train Set Using ImageDataGenerator\n",
        "  train_datagenerator =  ImageDataGenerator(\n",
        "      rescale = 1./255,\n",
        "      preprocessing_function=preprocess_input,\n",
        "      rotation_range = 30,\n",
        "      width_shift_range = 0.2,\n",
        "      height_shift_range = 0.2,\n",
        "      shear_range = 0.2,\n",
        "      zoom_range = 0.2,\n",
        "      horizontal_flip=True\n",
        "  )\n",
        "\n",
        "  # Data Preparation for Validation Set Using ImageDataGenerator\n",
        "  validation_datagenerator = ImageDataGenerator(\n",
        "      rescale = 1./255,\n",
        "      preprocessing_function = preprocess_input,\n",
        "      rotation_range = 30,\n",
        "      width_shift_range = 0.2,\n",
        "      height_shift_range = 0.2,\n",
        "      shear_range = 0.2,\n",
        "      zoom_range = 0.2,\n",
        "      horizontal_flip = True\n",
        "  )\n",
        "\n",
        "  ## Train set for the model\n",
        "  train_generator = train_datagenerator.flow_from_directory(\n",
        "    train_path,\n",
        "    target_size = (image_width, image_height),\n",
        "    batch_size = batch_size,\n",
        "  )\n",
        "\n",
        "  ## Validation set for the model\n",
        "  validation_generator = validation_datagenerator.flow_from_directory(\n",
        "    test_path,\n",
        "    target_size = (image_width, image_height),\n",
        "    batch_size = batch_size,\n",
        "  )\n",
        "\n",
        "  # Model Setup\n",
        "  ## VGG 16 Model\n",
        "  ## Input Shape is 224, 224, 3\n",
        "  ## Getting the weights from pretrained model on Imagenet dataset\n",
        "  ## include_top = False To exclude the final Fully Connected Layers\n",
        "\n",
        "  print('##### Create Model #####')\n",
        "  base_model = VGG16(input_shape = [image_width, image_height] + [3], weights='imagenet', include_top=False) \n",
        "\n",
        "  ## Save the inital model setup in base_model_vgg_initial.png file\n",
        "  plot_model(base_model, to_file='base_model_vgg_initial.png', show_shapes=True)\n",
        "\n",
        "  print('##### Add Layers in Model #####')\n",
        "  ## Add bottom layers with output layer specific to the dataset under consideration\n",
        "  model = addAdditionalLayesToBaseModel(base_model, totalClasses)\n",
        "\n",
        "  ## Save the model setup after adding output layers in base_model_vgg_initial.png file\n",
        "  plot_model(model, to_file='base_model_vgg_setup.png', show_shapes=True)\n",
        "\n",
        "  ## Transfer Learning model setup\n",
        "  setupTransferLearn(model, base_model)\n",
        "\n",
        "  print('##### Model Summary #####')\n",
        "  ## Print the Model Summary\n",
        "  model.summary()\n",
        "  \n",
        "  ## TensorBoard Integration\n",
        "  log_dir = \"logs/fit/\" + datetime.datetime.now().strftime(\"%Y%m%d-%H%M%S\")\n",
        "  tensorboard_callback = tf.keras.callbacks.TensorBoard(log_dir=log_dir, histogram_freq=1)\n",
        "  \n",
        "  ## History Object with model Accuracy and Loss values before fine tuning the model\n",
        "  history_1 = model.fit_generator(\n",
        "    train_generator,\n",
        "    epochs=epoch,\n",
        "    steps_per_epoch=totalTrainSamples,\n",
        "    validation_data=validation_generator,\n",
        "    validation_steps=totalTestSamples,\n",
        "    callbacks=[tensorboard_callback])\n",
        "\n",
        "  print('##### Plot Train and Validation Set - Accuracy and Loss Values Before Tuning #####')\n",
        "  plot_training(history_1)\n",
        "  \n",
        "  # Fine Tune the Model by changing the Layer Trainable property\n",
        "  changeLayerPropertyForFineTune(model)\n",
        "\n",
        "  ## History Object with model Accuracy and Loss values After fine tuning the model\n",
        "  history_2 = model.fit_generator(\n",
        "    train_generator,\n",
        "    steps_per_epoch=totalTrainSamples,\n",
        "    epochs=epoch,\n",
        "    validation_data=validation_generator,\n",
        "    validation_steps=totalTestSamples,\n",
        "    callbacks=[tensorboard_callback])\n",
        "  \n",
        "  print('##### Plot Train and Validation Set - Accuracy and Loss Values After Tuning #####')\n",
        "  plot_training(history_2)\n",
        "  model.save('vggmodel.h5')\n",
        "  ## Getting the file names from the validation set to get sample misclassified images\n",
        "  fnames = validation_generator.filenames\n",
        "\n",
        "  ## Actual classes\n",
        "  actualClass = validation_generator.classes\n",
        "  print('##### Actual Class #####', actualClass)\n",
        "\n",
        "  ## Converting the Labels to Indices\n",
        "  label2index = validation_generator.class_indices\n",
        "  idx2label = dict((v,k) for k,v in label2index.items())\n",
        "\n",
        "  ## To get the model Predictions based on Validation set\n",
        "  predictions= model.predict_generator(validation_generator, steps = validation_generator.samples/validation_generator.batch_size, verbose=0)\n",
        "\n",
        "  ## Predictions are in Float, Rounding them to get the actual classes\n",
        "  predicted_classes = np.argmax(predictions,axis=1)\n",
        "  ## print(predicted_classes)\n",
        "\n",
        "  print('##### Some Misclassified classes #####')\n",
        "  errors = np.where(predicted_classes != actualClass)[0]\n",
        "  print(\"No of errors = {}/{}\".format(len(errors),validation_generator.samples))\n",
        "\n",
        "  # for i in range(5):\n",
        "  #   pred_class = np.argmax(predictions[errors[i]])\n",
        "  #   pred_label = idx2label[pred_class]\n",
        "  #   title = 'Original label:{}, Prediction :{}, confidence : {:.3f}'.format(fnames[errors[i]].split('/')[0], pred_label, predictions[errors[i]][pred_class])\n",
        "  #   original = load_img('{}/{}'.format(test_path,fnames[errors[i]]))\n",
        "  #   plt.figure(figsize=[7,7])\n",
        "  #   plt.axis('off')\n",
        "  #   plt.title(title)\n",
        "  #   plt.imshow(original)\n",
        "  #   plt.show()\n",
        "\n",
        "  print('##### Class mapping to the Index #####')\n",
        "  print(idx2label)\n",
        "\n",
        "  print('##### Plotting Confusion Matrix #####')\n",
        "  results = confusion_matrix(actualClass, predicted_classes) \n",
        "  #print(results)\n",
        "\n",
        "  sns.set(font_scale=1.4) # for label size\n",
        "  sns.heatmap(results, annot=True)\n",
        "  plt.figure(figsize=(5,5))\n",
        "  plt.show()\n",
        "\n",
        "  print('##### Accuracy Score #####')\n",
        "  print(accuracy_score(actualClass, predicted_classes))\n",
        "\n",
        "  print('##### classification_report #####')\n",
        "  print(classification_report(actualClass, predicted_classes))\n"
      ],
      "execution_count": 0,
      "outputs": []
    },
    {
      "cell_type": "code",
      "metadata": {
        "id": "j_YT_ihGx35H",
        "colab_type": "code",
        "colab": {}
      },
      "source": [
        "def plot_training(history):\n",
        "  accuracy = history.history['accuracy']\n",
        "  val_accuracy = history.history['val_accuracy']\n",
        "  loss = history.history['loss']\n",
        "  val_loss = history.history['val_loss']\n",
        "  epochs = range(len(accuracy))\n",
        "\n",
        "  plt.plot(epochs, accuracy)\n",
        "  plt.plot(epochs, val_accuracy, color='b')\n",
        "  plt.title('Training and validation accuracy')\n",
        "  plt.figure()\n",
        "  \n",
        "  plt.plot(epochs, loss)\n",
        "  plt.plot(epochs, val_loss, color='b')\n",
        "  plt.title('Training and validation loss')\n",
        "  plt.show()"
      ],
      "execution_count": 0,
      "outputs": []
    },
    {
      "cell_type": "code",
      "metadata": {
        "id": "8zVkX9S2x30l",
        "colab_type": "code",
        "outputId": "c9aa4933-77da-4db2-d437-d41cd5d33449",
        "colab": {
          "base_uri": "https://localhost:8080/",
          "height": 1000
        }
      },
      "source": [
        "## To create and run the model in the specified device\n",
        "with strategy.scope():\n",
        "  transferLearningModel()"
      ],
      "execution_count": 0,
      "outputs": [
        {
          "output_type": "stream",
          "text": [
            "##### Transfer Learning model to train on Yoga Dataset #####\n",
            "##### Getting the file Count #####\n",
            "##### Getting the file Count #####\n",
            "##### Data Augmentation #####\n",
            "Found 12301 images belonging to 9 classes.\n",
            "Found 1686 images belonging to 9 classes.\n",
            "##### Create Model #####\n",
            "##### Add Layers in Model #####\n",
            "##### Adding layers to the base model #####\n",
            "##### Setting up the Transfer learning Model #####\n",
            "##### Model Summary #####\n",
            "Model: \"model_1\"\n",
            "_________________________________________________________________\n",
            "Layer (type)                 Output Shape              Param #   \n",
            "=================================================================\n",
            "input_2 (InputLayer)         [(None, 224, 224, 3)]     0         \n",
            "_________________________________________________________________\n",
            "block1_conv1 (Conv2D)        (None, 224, 224, 64)      1792      \n",
            "_________________________________________________________________\n",
            "block1_conv2 (Conv2D)        (None, 224, 224, 64)      36928     \n",
            "_________________________________________________________________\n",
            "block1_pool (MaxPooling2D)   (None, 112, 112, 64)      0         \n",
            "_________________________________________________________________\n",
            "block2_conv1 (Conv2D)        (None, 112, 112, 128)     73856     \n",
            "_________________________________________________________________\n",
            "block2_conv2 (Conv2D)        (None, 112, 112, 128)     147584    \n",
            "_________________________________________________________________\n",
            "block2_pool (MaxPooling2D)   (None, 56, 56, 128)       0         \n",
            "_________________________________________________________________\n",
            "block3_conv1 (Conv2D)        (None, 56, 56, 256)       295168    \n",
            "_________________________________________________________________\n",
            "block3_conv2 (Conv2D)        (None, 56, 56, 256)       590080    \n",
            "_________________________________________________________________\n",
            "block3_conv3 (Conv2D)        (None, 56, 56, 256)       590080    \n",
            "_________________________________________________________________\n",
            "block3_pool (MaxPooling2D)   (None, 28, 28, 256)       0         \n",
            "_________________________________________________________________\n",
            "block4_conv1 (Conv2D)        (None, 28, 28, 512)       1180160   \n",
            "_________________________________________________________________\n",
            "block4_conv2 (Conv2D)        (None, 28, 28, 512)       2359808   \n",
            "_________________________________________________________________\n",
            "block4_conv3 (Conv2D)        (None, 28, 28, 512)       2359808   \n",
            "_________________________________________________________________\n",
            "block4_pool (MaxPooling2D)   (None, 14, 14, 512)       0         \n",
            "_________________________________________________________________\n",
            "block5_conv1 (Conv2D)        (None, 14, 14, 512)       2359808   \n",
            "_________________________________________________________________\n",
            "block5_conv2 (Conv2D)        (None, 14, 14, 512)       2359808   \n",
            "_________________________________________________________________\n",
            "block5_conv3 (Conv2D)        (None, 14, 14, 512)       2359808   \n",
            "_________________________________________________________________\n",
            "block5_pool (MaxPooling2D)   (None, 7, 7, 512)         0         \n",
            "_________________________________________________________________\n",
            "global_average_pooling2d_1 ( (None, 512)               0         \n",
            "_________________________________________________________________\n",
            "dense_2 (Dense)              (None, 1024)              525312    \n",
            "_________________________________________________________________\n",
            "dense_3 (Dense)              (None, 9)                 9225      \n",
            "=================================================================\n",
            "Total params: 15,249,225\n",
            "Trainable params: 534,537\n",
            "Non-trainable params: 14,714,688\n",
            "_________________________________________________________________\n",
            "Epoch 1/2\n",
            "12301/12301 [==============================] - 7112s 578ms/step - loss: 1.8789 - accuracy: 0.3264 - val_loss: 1.8546 - val_accuracy: 0.3517\n",
            "Epoch 2/2\n",
            "12301/12301 [==============================] - 6466s 526ms/step - loss: 1.8756 - accuracy: 0.3270 - val_loss: 1.8475 - val_accuracy: 0.3521\n",
            "##### Plot Train and Validation Set - Accuracy and Loss Values Before Tuning #####\n"
          ],
          "name": "stdout"
        },
        {
          "output_type": "display_data",
          "data": {
            "image/png": "[encoded data removed]",
            "text/plain": [
              "<Figure size 432x288 with 1 Axes>"
            ]
          },
          "metadata": {
            "tags": []
          }
        },
        {
          "output_type": "display_data",
          "data": {
            "image/png": "[encoded data removed]",
            "text/plain": [
              "<Figure size 432x288 with 1 Axes>"
            ]
          },
          "metadata": {
            "tags": []
          }
        },
        {
          "output_type": "stream",
          "text": [
            "##### Freeze/UnFreeze the layers #####\n",
            "Epoch 1/2\n",
            "12301/12301 [==============================] - 7056s 574ms/step - loss: 1.8755 - accuracy: 0.3269 - val_loss: 1.8500 - val_accuracy: 0.3512\n",
            "Epoch 2/2\n",
            "12301/12301 [==============================] - ETA: 0s - loss: 1.8747 - accuracy: 0.3271"
          ],
          "name": "stdout"
        }
      ]
    },
    {
      "cell_type": "markdown",
      "metadata": {
        "id": "RgIvQjBc7yuD",
        "colab_type": "text"
      },
      "source": [
        "## Tensorboard Integration"
      ]
    },
    {
      "cell_type": "code",
      "metadata": {
        "id": "OUNpR0Oz3iFt",
        "colab_type": "code",
        "colab": {}
      },
      "source": [
        "%tensorboard --logdir logs/fit"
      ],
      "execution_count": 0,
      "outputs": []
    },
    {
      "cell_type": "code",
      "metadata": {
        "id": "OiYepi5yDbxA",
        "colab_type": "code",
        "colab": {}
      },
      "source": [
        "!tensorboard dev upload --logdir ./logs \\\n",
        "  --name \"VGG Model for Yoga Pose MultiClass Classification\" \\\n",
        "  --description \"Results from https://colab.research.google.com/drive/1oIKAn3leL7n6cryIJG7hjym5D0YdMt3n?usp=sharing\""
      ],
      "execution_count": 0,
      "outputs": []
    }
  ]
}