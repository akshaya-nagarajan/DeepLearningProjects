{
  "nbformat": 4,
  "nbformat_minor": 0,
  "metadata": {
    "colab": {
      "name": "Assignment5_NeuralMachineTranslationLSTMGRU.ipynb",
      "provenance": [],
      "collapsed_sections": [],
      "machine_shape": "hm",
      "include_colab_link": true
    },
    "kernelspec": {
      "name": "python3",
      "display_name": "Python 3"
    },
    "accelerator": "GPU"
  },
  "cells": [
    {
      "cell_type": "markdown",
      "metadata": {
        "id": "view-in-github",
        "colab_type": "text"
      },
      "source": [
        "<a href=\"https://colab.research.google.com/github/akshaya-nagarajan/DeepLearningProjects/blob/master/Assignment_5/Assignment5_NeuralMachineTranslationLSTMGRU.ipynb\" target=\"_parent\"><img src=\"https://colab.research.google.com/assets/colab-badge.svg\" alt=\"Open In Colab\"/></a>"
      ]
    },
    {
      "cell_type": "code",
      "metadata": {
        "id": "M4beO5kKm3qA",
        "colab_type": "code",
        "colab": {}
      },
      "source": [
        "import tensorflow as tf\n",
        "import matplotlib.pyplot as plt\n",
        "import matplotlib.ticker as ticker\n",
        "from sklearn.model_selection import train_test_split\n",
        "import unicodedata\n",
        "import re\n",
        "import numpy as np\n",
        "import os\n",
        "import io\n",
        "import time"
      ],
      "execution_count": 0,
      "outputs": []
    },
    {
      "cell_type": "code",
      "metadata": {
        "id": "bzQNdYCJKypp",
        "colab_type": "code",
        "outputId": "3cefc6c5-dcbd-401c-f814-e2514bf2b95e",
        "colab": {
          "base_uri": "https://localhost:8080/",
          "height": 122
        }
      },
      "source": [
        "from google.colab import drive\n",
        "drive.mount('/content/gdrive', force_remount=True)\n",
        "root_dir = \"/content/gdrive/My Drive/\"\n",
        "base_dir = root_dir + 'DeepLearningProjects/'"
      ],
      "execution_count": 1,
      "outputs": [
        {
          "output_type": "stream",
          "text": [
            "Go to this URL in a browser: https://accounts.google.com/o/oauth2/auth?client_id=947318989803-6bn6qk8qdgf4n4g3pfee6491hc0brc4i.apps.googleusercontent.com&redirect_uri=urn%3aietf%3awg%3aoauth%3a2.0%3aoob&response_type=code&scope=email%20https%3a%2f%2fwww.googleapis.com%2fauth%2fdocs.test%20https%3a%2f%2fwww.googleapis.com%2fauth%2fdrive%20https%3a%2f%2fwww.googleapis.com%2fauth%2fdrive.photos.readonly%20https%3a%2f%2fwww.googleapis.com%2fauth%2fpeopleapi.readonly\n",
            "\n",
            "Enter your authorization code:\n",
            "··········\n",
            "Mounted at /content/gdrive\n"
          ],
          "name": "stdout"
        }
      ]
    },
    {
      "cell_type": "code",
      "metadata": {
        "id": "dTuMsAYzLI_v",
        "colab_type": "code",
        "colab": {}
      },
      "source": [
        "filePath = root_dir+'deu.txt'"
      ],
      "execution_count": 0,
      "outputs": []
    },
    {
      "cell_type": "code",
      "metadata": {
        "id": "UuTaRPqfqpKt",
        "colab_type": "code",
        "colab": {}
      },
      "source": [
        "with open(filePath, 'r', encoding='utf-8') as f:\n",
        "    lines = f.read().split('\\n')"
      ],
      "execution_count": 0,
      "outputs": []
    },
    {
      "cell_type": "code",
      "metadata": {
        "id": "Vusw8ckq_ap0",
        "colab_type": "code",
        "colab": {}
      },
      "source": [
        "rows = len(lines)"
      ],
      "execution_count": 0,
      "outputs": []
    },
    {
      "cell_type": "code",
      "metadata": {
        "id": "X87O3ZCB_kBN",
        "colab_type": "code",
        "colab": {}
      },
      "source": [
        "trainlen = 100000"
      ],
      "execution_count": 0,
      "outputs": []
    },
    {
      "cell_type": "code",
      "metadata": {
        "id": "3ISsx-vm_p0U",
        "colab_type": "code",
        "outputId": "090a723a-9119-407e-8736-c04248dffc70",
        "colab": {
          "base_uri": "https://localhost:8080/",
          "height": 34
        }
      },
      "source": [
        "trainlen"
      ],
      "execution_count": 0,
      "outputs": [
        {
          "output_type": "execute_result",
          "data": {
            "text/plain": [
              "100000"
            ]
          },
          "metadata": {
            "tags": []
          },
          "execution_count": 73
        }
      ]
    },
    {
      "cell_type": "code",
      "metadata": {
        "id": "cB3TZR3y_uaj",
        "colab_type": "code",
        "colab": {}
      },
      "source": [
        "itexts = []\n",
        "ttexts = []\n",
        "for i in range(trainlen):\n",
        "  text = lines[i]\n",
        "  itext, ttext, _ = text.split('\\t')\n",
        "\n",
        "  ttext = '\\t' + ttext + '\\n'\n",
        "  itexts.append(itext)\n",
        "  ttexts.append(ttext)"
      ],
      "execution_count": 0,
      "outputs": []
    },
    {
      "cell_type": "code",
      "metadata": {
        "id": "Xzn74xh5A40d",
        "colab_type": "code",
        "colab": {}
      },
      "source": [
        "engchars = set()\n",
        "gerchars = set()\n",
        "max_inp_len = 0\n",
        "max_out_len = 0\n",
        "for itext in itexts:\n",
        "  max_inp_len = max(len(itext), max_inp_len)\n",
        "  for char in itext:\n",
        "    if char not in engchars:\n",
        "      engchars.add(char)\n",
        "for ttext in ttexts:\n",
        "  max_out_len = max(len(ttext), max_out_len)\n",
        "  for char in ttext:\n",
        "    if char not in gerchars:\n",
        "      gerchars.add(char)"
      ],
      "execution_count": 0,
      "outputs": []
    },
    {
      "cell_type": "code",
      "metadata": {
        "id": "c4LoolqTB63T",
        "colab_type": "code",
        "colab": {}
      },
      "source": [
        "engchars = sorted(list(engchars))\n",
        "gerchars = sorted(list(gerchars))\n",
        "inp_tokens = len(engchars)\n",
        "out_tokens = len(gerchars)"
      ],
      "execution_count": 0,
      "outputs": []
    },
    {
      "cell_type": "code",
      "metadata": {
        "id": "yrI3UdJODbIk",
        "colab_type": "code",
        "colab": {}
      },
      "source": [
        "inp_token_idx = {}\n",
        "for i, c in enumerate(engchars):\n",
        "  inp_token_idx[c] = i\n",
        "\n",
        "target_token_idx = {}\n",
        "for i, c in enumerate(gerchars):\n",
        "  target_token_idx[c] = i"
      ],
      "execution_count": 0,
      "outputs": []
    },
    {
      "cell_type": "code",
      "metadata": {
        "id": "Jnb3_ek0WLMD",
        "colab_type": "code",
        "colab": {}
      },
      "source": [
        "encoder_input_data = np.zeros(\n",
        "    (len(itexts), max_inp_len, inp_tokens),\n",
        "    dtype='float32')\n",
        "decoder_input_data = np.zeros(\n",
        "    (len(itexts), max_out_len, out_tokens),\n",
        "    dtype='float32')\n",
        "decoder_target_data = np.zeros(\n",
        "    (len(itexts), max_out_len, out_tokens),\n",
        "    dtype='float32')"
      ],
      "execution_count": 0,
      "outputs": []
    },
    {
      "cell_type": "code",
      "metadata": {
        "id": "tJZmrDJtXVw1",
        "colab_type": "code",
        "colab": {}
      },
      "source": [
        "for i, (itext, ttext) in enumerate(zip(itexts, ttexts)):\n",
        "    for t, char in enumerate(itext):\n",
        "        encoder_input_data[i, t, inp_token_idx[char]] = 1.\n",
        "    encoder_input_data[i, t + 1:, inp_token_idx[' ']] = 1.\n",
        "    for t, char in enumerate(ttext):\n",
        "        decoder_input_data[i, t, target_token_idx[char]] = 1.\n",
        "        if t > 0:\n",
        "            decoder_target_data[i, t - 1, target_token_idx[char]] = 1.\n",
        "    decoder_input_data[i, t + 1:, target_token_idx[' ']] = 1.\n",
        "    decoder_target_data[i, t:, target_token_idx[' ']] = 1."
      ],
      "execution_count": 0,
      "outputs": []
    },
    {
      "cell_type": "code",
      "metadata": {
        "id": "lt-ndopQaC3c",
        "colab_type": "code",
        "colab": {}
      },
      "source": [
        "from keras.models import Model\n",
        "from keras.layers import Input, LSTM, Dense\n",
        "import numpy as np"
      ],
      "execution_count": 0,
      "outputs": []
    },
    {
      "cell_type": "code",
      "metadata": {
        "id": "mLiRsB3jaYHI",
        "colab_type": "code",
        "colab": {}
      },
      "source": [
        "batch_size = 100\n",
        "epochs = 10\n",
        "latent_dim = 256"
      ],
      "execution_count": 0,
      "outputs": []
    },
    {
      "cell_type": "code",
      "metadata": {
        "id": "DK1CAdPqZ5ms",
        "colab_type": "code",
        "colab": {}
      },
      "source": [
        "encoder_inputs = Input(shape=(None, inp_tokens))\n",
        "encoder = LSTM(latent_dim, return_state=True)\n",
        "encoder_outputs, state_h, state_c = encoder(encoder_inputs)\n",
        "encoder_states = [state_h, state_c]"
      ],
      "execution_count": 0,
      "outputs": []
    },
    {
      "cell_type": "code",
      "metadata": {
        "id": "OvghwY-aapol",
        "colab_type": "code",
        "colab": {}
      },
      "source": [
        "decoder_inputs = Input(shape=(None, out_tokens))\n",
        "decoder_lstm = LSTM(latent_dim, return_sequences=True, return_state=True)\n",
        "decoder_outputs, _, _ = decoder_lstm(decoder_inputs,\n",
        "                                     initial_state=encoder_states)\n",
        "decoder_dense = Dense(out_tokens, activation='softmax')\n",
        "decoder_outputs = decoder_dense(decoder_outputs)"
      ],
      "execution_count": 0,
      "outputs": []
    },
    {
      "cell_type": "code",
      "metadata": {
        "id": "kmoHeN7cbJEK",
        "colab_type": "code",
        "outputId": "41f11eee-bea9-49c6-98c7-e4cb58ccff0f",
        "colab": {
          "base_uri": "https://localhost:8080/",
          "height": 1000
        }
      },
      "source": [
        "model = Model([encoder_inputs, decoder_inputs], decoder_outputs)\n",
        "model.compile(optimizer='rmsprop', loss='categorical_crossentropy',\n",
        "              metrics=['accuracy'])\n",
        "model.fit([encoder_input_data, decoder_input_data], decoder_target_data,\n",
        "          batch_size=batch_size,\n",
        "          epochs=epochs,\n",
        "          validation_split=0.2)\n",
        "model.save('/content/gdrive/My Drive/258-DeepLearning/Data/language/translate_2.h5')"
      ],
      "execution_count": 0,
      "outputs": [
        {
          "output_type": "stream",
          "text": [
            "Train on 80000 samples, validate on 20000 samples\n",
            "Epoch 1/30\n",
            "80000/80000 [==============================] - 418s 5ms/step - loss: 0.4507 - accuracy: 0.8769 - val_loss: 0.4408 - val_accuracy: 0.8694\n",
            "Epoch 2/30\n",
            "80000/80000 [==============================] - 415s 5ms/step - loss: 0.2826 - accuracy: 0.9159 - val_loss: 0.3567 - val_accuracy: 0.8935\n",
            "Epoch 3/30\n",
            "80000/80000 [==============================] - 411s 5ms/step - loss: 0.2397 - accuracy: 0.9285 - val_loss: 0.3224 - val_accuracy: 0.9033\n",
            "Epoch 4/30\n",
            "80000/80000 [==============================] - 404s 5ms/step - loss: 0.2175 - accuracy: 0.9350 - val_loss: 0.3023 - val_accuracy: 0.9094\n",
            "Epoch 5/30\n",
            "80000/80000 [==============================] - 400s 5ms/step - loss: 0.2030 - accuracy: 0.9395 - val_loss: 0.2894 - val_accuracy: 0.9137\n",
            "Epoch 6/30\n",
            "80000/80000 [==============================] - 393s 5ms/step - loss: 0.1924 - accuracy: 0.9426 - val_loss: 0.2817 - val_accuracy: 0.9160\n",
            "Epoch 7/30\n",
            "80000/80000 [==============================] - 391s 5ms/step - loss: 0.1841 - accuracy: 0.9451 - val_loss: 0.2758 - val_accuracy: 0.9182\n",
            "Epoch 8/30\n",
            "80000/80000 [==============================] - 400s 5ms/step - loss: 0.1771 - accuracy: 0.9471 - val_loss: 0.2709 - val_accuracy: 0.9195\n",
            "Epoch 9/30\n",
            "80000/80000 [==============================] - 396s 5ms/step - loss: 0.1712 - accuracy: 0.9489 - val_loss: 0.2669 - val_accuracy: 0.9210\n",
            "Epoch 10/30\n",
            "80000/80000 [==============================] - 391s 5ms/step - loss: 0.1662 - accuracy: 0.9503 - val_loss: 0.2637 - val_accuracy: 0.9221\n",
            "Epoch 11/30\n",
            "80000/80000 [==============================] - 391s 5ms/step - loss: 0.1617 - accuracy: 0.9516 - val_loss: 0.2616 - val_accuracy: 0.9230\n",
            "Epoch 12/30\n",
            "80000/80000 [==============================] - 394s 5ms/step - loss: 0.1576 - accuracy: 0.9528 - val_loss: 0.2588 - val_accuracy: 0.9238\n",
            "Epoch 13/30\n",
            "80000/80000 [==============================] - 397s 5ms/step - loss: 0.1539 - accuracy: 0.9540 - val_loss: 0.2576 - val_accuracy: 0.9244\n",
            "Epoch 14/30\n",
            "80000/80000 [==============================] - 396s 5ms/step - loss: 0.1505 - accuracy: 0.9550 - val_loss: 0.2573 - val_accuracy: 0.9249\n",
            "Epoch 15/30\n",
            "80000/80000 [==============================] - 396s 5ms/step - loss: 0.1474 - accuracy: 0.9559 - val_loss: 0.2571 - val_accuracy: 0.9249\n",
            "Epoch 16/30\n",
            "80000/80000 [==============================] - 396s 5ms/step - loss: 0.1445 - accuracy: 0.9568 - val_loss: 0.2561 - val_accuracy: 0.9255\n",
            "Epoch 17/30\n",
            "80000/80000 [==============================] - 398s 5ms/step - loss: 0.1420 - accuracy: 0.9575 - val_loss: 0.2571 - val_accuracy: 0.9254\n",
            "Epoch 18/30\n",
            "80000/80000 [==============================] - 397s 5ms/step - loss: 0.1396 - accuracy: 0.9582 - val_loss: 0.2565 - val_accuracy: 0.9257\n",
            "Epoch 19/30\n",
            "80000/80000 [==============================] - 395s 5ms/step - loss: 0.1374 - accuracy: 0.9588 - val_loss: 0.2560 - val_accuracy: 0.9263\n",
            "Epoch 20/30\n",
            "80000/80000 [==============================] - 391s 5ms/step - loss: 0.1354 - accuracy: 0.9594 - val_loss: 0.2580 - val_accuracy: 0.9261\n",
            "Epoch 21/30\n",
            "80000/80000 [==============================] - 390s 5ms/step - loss: 0.1334 - accuracy: 0.9600 - val_loss: 0.2584 - val_accuracy: 0.9259\n",
            "Epoch 22/30\n",
            "80000/80000 [==============================] - 389s 5ms/step - loss: 0.1315 - accuracy: 0.9606 - val_loss: 0.2598 - val_accuracy: 0.9258\n",
            "Epoch 23/30\n",
            "80000/80000 [==============================] - 394s 5ms/step - loss: 0.1298 - accuracy: 0.9611 - val_loss: 0.2604 - val_accuracy: 0.9258\n",
            "Epoch 24/30\n",
            "80000/80000 [==============================] - 390s 5ms/step - loss: 0.1281 - accuracy: 0.9615 - val_loss: 0.2615 - val_accuracy: 0.9258\n",
            "Epoch 25/30\n",
            "80000/80000 [==============================] - 391s 5ms/step - loss: 0.1265 - accuracy: 0.9620 - val_loss: 0.2618 - val_accuracy: 0.9261\n",
            "Epoch 26/30\n",
            "80000/80000 [==============================] - 393s 5ms/step - loss: 0.1251 - accuracy: 0.9625 - val_loss: 0.2633 - val_accuracy: 0.9259\n",
            "Epoch 27/30\n",
            "80000/80000 [==============================] - 391s 5ms/step - loss: 0.1237 - accuracy: 0.9629 - val_loss: 0.2639 - val_accuracy: 0.9259\n",
            "Epoch 28/30\n",
            "80000/80000 [==============================] - 399s 5ms/step - loss: 0.1223 - accuracy: 0.9633 - val_loss: 0.2659 - val_accuracy: 0.9256\n",
            "Epoch 29/30\n",
            "80000/80000 [==============================] - 397s 5ms/step - loss: 0.1210 - accuracy: 0.9636 - val_loss: 0.2670 - val_accuracy: 0.9257\n",
            "Epoch 30/30\n",
            "80000/80000 [==============================] - 397s 5ms/step - loss: 0.1198 - accuracy: 0.9640 - val_loss: 0.2682 - val_accuracy: 0.9254\n"
          ],
          "name": "stdout"
        }
      ]
    },
    {
      "cell_type": "code",
      "metadata": {
        "id": "Ot-UX8rZdWYk",
        "colab_type": "code",
        "colab": {}
      },
      "source": [
        "encoder_model = Model(encoder_inputs, encoder_states)\n",
        "\n",
        "decoder_state_input_h = Input(shape=(latent_dim,))\n",
        "decoder_state_input_c = Input(shape=(latent_dim,))\n",
        "decoder_states_inputs = [decoder_state_input_h, decoder_state_input_c]\n",
        "decoder_outputs, state_h, state_c = decoder_lstm(\n",
        "    decoder_inputs, initial_state=decoder_states_inputs)\n",
        "decoder_states = [state_h, state_c]\n",
        "decoder_outputs = decoder_dense(decoder_outputs)\n",
        "decoder_model = Model(\n",
        "    [decoder_inputs] + decoder_states_inputs,\n",
        "    [decoder_outputs] + decoder_states)\n"
      ],
      "execution_count": 0,
      "outputs": []
    },
    {
      "cell_type": "code",
      "metadata": {
        "id": "7BZdD9todpGl",
        "colab_type": "code",
        "colab": {}
      },
      "source": [
        "inp_inv_idx = {}\n",
        "target_inv_idx = {}\n",
        "for char, i in inp_token_idx.items():\n",
        "  inp_inv_idx[i] = char\n",
        "\n",
        "for char, i in target_token_idx.items():\n",
        "  target_inv_idx[i] = char"
      ],
      "execution_count": 0,
      "outputs": []
    },
    {
      "cell_type": "code",
      "metadata": {
        "id": "woIw6n8mdwd9",
        "colab_type": "code",
        "colab": {}
      },
      "source": [
        "def decode_sequence(input_seq):\n",
        "    states_value = encoder_model.predict(input_seq)\n",
        "    target_seq = np.zeros((1, 1, out_tokens))\n",
        "    target_seq[0, 0, target_token_idx['\\t']] = 1.\n",
        "\n",
        "    stop_condition = False\n",
        "    decoded_sentence = ''\n",
        "    while not stop_condition:\n",
        "        output_tokens, h, c = decoder_model.predict(\n",
        "            [target_seq] + states_value)\n",
        "\n",
        "        sampled_token_index = np.argmax(output_tokens[0, -1, :])\n",
        "        sampled_char = target_inv_idx[sampled_token_index]\n",
        "        decoded_sentence += sampled_char\n",
        "\n",
        "        if (sampled_char == '\\n' or\n",
        "           len(decoded_sentence) > max_out_len):\n",
        "            stop_condition = True\n",
        "\n",
        "        target_seq = np.zeros((1, 1, out_tokens))\n",
        "        target_seq[0, 0, sampled_token_index] = 1.\n",
        "\n",
        "        states_value = [h, c]\n",
        "\n",
        "    return decoded_sentence"
      ],
      "execution_count": 0,
      "outputs": []
    },
    {
      "cell_type": "code",
      "metadata": {
        "id": "3-_ee2cnf-mM",
        "colab_type": "code",
        "outputId": "09027f8c-d012-41f1-a7f2-b20608f3a1c5",
        "colab": {
          "base_uri": "https://localhost:8080/",
          "height": 712
        }
      },
      "source": [
        "for seq_index in range(10):\n",
        "    input_seq = encoder_input_data[seq_index: seq_index + 1]\n",
        "    decoded_sentence = decode_sequence(input_seq)\n",
        "    print('-')\n",
        "    print('Input sentence:', itexts[seq_index])\n",
        "    print('Decoded sentence:', decoded_sentence)"
      ],
      "execution_count": 0,
      "outputs": [
        {
          "output_type": "stream",
          "text": [
            "-\n",
            "Input sentence: Go.\n",
            "Decoded sentence: Geh weg!\n",
            "\n",
            "-\n",
            "Input sentence: Hi.\n",
            "Decoded sentence: Hallo!\n",
            "\n",
            "-\n",
            "Input sentence: Hi.\n",
            "Decoded sentence: Hallo!\n",
            "\n",
            "-\n",
            "Input sentence: Run!\n",
            "Decoded sentence: Lauf!\n",
            "\n",
            "-\n",
            "Input sentence: Run.\n",
            "Decoded sentence: Lacht das!\n",
            "\n",
            "-\n",
            "Input sentence: Wow!\n",
            "Decoded sentence: Frage get!\n",
            "\n",
            "-\n",
            "Input sentence: Wow!\n",
            "Decoded sentence: Frage get!\n",
            "\n",
            "-\n",
            "Input sentence: Fire!\n",
            "Decoded sentence: Schneide!\n",
            "\n",
            "-\n",
            "Input sentence: Help!\n",
            "Decoded sentence: Zuschalle ist es.\n",
            "\n",
            "-\n",
            "Input sentence: Help!\n",
            "Decoded sentence: Zuschalle ist es.\n",
            "\n"
          ],
          "name": "stdout"
        }
      ]
    }
  ]
}