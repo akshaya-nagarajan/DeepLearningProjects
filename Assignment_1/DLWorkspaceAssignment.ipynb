{
  "nbformat": 4,
  "nbformat_minor": 0,
  "metadata": {
    "colab": {
      "name": "DLWorkspaceAssignment.ipynb",
      "provenance": [],
      "collapsed_sections": [],
      "authorship_tag": "ABX9TyN6gOputYXACvwaH6zLHlB2",
      "include_colab_link": true
    },
    "kernelspec": {
      "name": "python3",
      "display_name": "Python 3"
    },
    "accelerator": "GPU"
  },
  "cells": [
    {
      "cell_type": "markdown",
      "metadata": {
        "id": "view-in-github",
        "colab_type": "text"
      },
      "source": [
        "<a href=\"https://colab.research.google.com/github/akshaya-nagarajan/DeepLearningProjects/blob/master/Assignment_1/DLWorkspaceAssignment.ipynb\" target=\"_parent\"><img src=\"https://colab.research.google.com/assets/colab-badge.svg\" alt=\"Open In Colab\"/></a>"
      ]
    },
    {
      "cell_type": "markdown",
      "metadata": {
        "id": "q2MzXUfgfuix",
        "colab_type": "text"
      },
      "source": [
        "### Load the libraries"
      ]
    },
    {
      "cell_type": "code",
      "metadata": {
        "id": "W3K7O_N87Ddx",
        "colab_type": "code",
        "colab": {}
      },
      "source": [
        "from keras.datasets import mnist\n",
        "import numpy as np\n",
        "import matplotlib.pyplot as plt\n",
        "from tqdm import trange\n",
        "from keras.preprocessing.image import ImageDataGenerator"
      ],
      "execution_count": 0,
      "outputs": []
    },
    {
      "cell_type": "code",
      "metadata": {
        "id": "P_83HljD9XFW",
        "colab_type": "code",
        "colab": {}
      },
      "source": [
        "np.random.seed(1) #Fix the random number generated"
      ],
      "execution_count": 0,
      "outputs": []
    },
    {
      "cell_type": "markdown",
      "metadata": {
        "id": "TxlJFqQXfy-q",
        "colab_type": "text"
      },
      "source": [
        "### Load the dataset"
      ]
    },
    {
      "cell_type": "code",
      "metadata": {
        "id": "Y04qLUr1QTTK",
        "colab_type": "code",
        "colab": {}
      },
      "source": [
        "(x_train, y_train), (x_test, y_test) = mnist.load_data()"
      ],
      "execution_count": 0,
      "outputs": []
    },
    {
      "cell_type": "markdown",
      "metadata": {
        "id": "W7V_0JF3f_ku",
        "colab_type": "text"
      },
      "source": [
        "## Shape of the dataset"
      ]
    },
    {
      "cell_type": "code",
      "metadata": {
        "id": "_WnzAXwlQ7hp",
        "colab_type": "code",
        "outputId": "39bba675-4239-4c26-d908-ecdfd7040dc9",
        "colab": {
          "base_uri": "https://localhost:8080/",
          "height": 85
        }
      },
      "source": [
        "print(x_train.shape)\n",
        "print(y_train.shape)\n",
        "print(x_test.shape)\n",
        "print(y_test.shape)"
      ],
      "execution_count": 0,
      "outputs": [
        {
          "output_type": "stream",
          "text": [
            "(60000, 28, 28)\n",
            "(60000,)\n",
            "(10000, 28, 28)\n",
            "(10000,)\n"
          ],
          "name": "stdout"
        }
      ]
    },
    {
      "cell_type": "markdown",
      "metadata": {
        "id": "TuB2z6uzgCp2",
        "colab_type": "text"
      },
      "source": [
        "## Check for Null values"
      ]
    },
    {
      "cell_type": "code",
      "metadata": {
        "id": "IUURLourVobS",
        "colab_type": "code",
        "outputId": "4ce64099-526c-4ed9-8802-02b91588f637",
        "colab": {
          "base_uri": "https://localhost:8080/",
          "height": 34
        }
      },
      "source": [
        "np.isnan(x_train).any()"
      ],
      "execution_count": 0,
      "outputs": [
        {
          "output_type": "execute_result",
          "data": {
            "text/plain": [
              "False"
            ]
          },
          "metadata": {
            "tags": []
          },
          "execution_count": 121
        }
      ]
    },
    {
      "cell_type": "markdown",
      "metadata": {
        "id": "261OnNsNDG9I",
        "colab_type": "text"
      },
      "source": [
        "## Augmentation"
      ]
    },
    {
      "cell_type": "code",
      "metadata": {
        "id": "mgo_wNtHRF-N",
        "colab_type": "code",
        "outputId": "bd42f7d7-a716-42dd-f80c-22575a2f065e",
        "colab": {
          "base_uri": "https://localhost:8080/",
          "height": 71
        }
      },
      "source": [
        "# datagen = ImageDataGenerator(rotation_range=10, zoom_range = 0.1, width_shift_range=0.1, height_shift_range=0.1)\n",
        "datagen = ImageDataGenerator()\n",
        "datagen.fit(x_train[None])"
      ],
      "execution_count": 0,
      "outputs": [
        {
          "output_type": "stream",
          "text": [
            "/usr/local/lib/python3.6/dist-packages/keras_preprocessing/image/image_data_generator.py:940: UserWarning: Expected input to be images (as Numpy array) following the data format convention \"channels_last\" (channels on axis 3), i.e. expected either 1, 3 or 4 channels on axis 3. However, it was passed an array with shape (1, 60000, 28, 28) (28 channels).\n",
            "  ' channels).')\n"
          ],
          "name": "stderr"
        }
      ]
    },
    {
      "cell_type": "markdown",
      "metadata": {
        "id": "yLyLJNFtfpLs",
        "colab_type": "text"
      },
      "source": [
        "## Normalize the input"
      ]
    },
    {
      "cell_type": "code",
      "metadata": {
        "id": "wiOwvEJCftFh",
        "colab_type": "code",
        "colab": {}
      },
      "source": [
        "x_train = x_train.astype(float) / 255.0\n",
        "x_test = x_test.astype(float) / 255.0"
      ],
      "execution_count": 0,
      "outputs": []
    },
    {
      "cell_type": "markdown",
      "metadata": {
        "id": "epWE9X99gb66",
        "colab_type": "text"
      },
      "source": [
        "## Split the validation Dataset"
      ]
    },
    {
      "cell_type": "code",
      "metadata": {
        "id": "mk8O3q6LggJU",
        "colab_type": "code",
        "colab": {}
      },
      "source": [
        "# x_train, x_validation = x_train[:-10000], x_train[-10000:]\n",
        "# y_train, y_val = y_train[:-10000], y_train[-10000:]"
      ],
      "execution_count": 0,
      "outputs": []
    },
    {
      "cell_type": "code",
      "metadata": {
        "id": "9vGjXYNngtLj",
        "colab_type": "code",
        "outputId": "b2ee7d9f-49e4-4f96-937f-938c00c092cd",
        "colab": {
          "base_uri": "https://localhost:8080/",
          "height": 34
        }
      },
      "source": [
        "x_train[0].shape"
      ],
      "execution_count": 0,
      "outputs": [
        {
          "output_type": "execute_result",
          "data": {
            "text/plain": [
              "(28, 28)"
            ]
          },
          "metadata": {
            "tags": []
          },
          "execution_count": 125
        }
      ]
    },
    {
      "cell_type": "code",
      "metadata": {
        "id": "bSHfSRY3j85q",
        "colab_type": "code",
        "colab": {}
      },
      "source": [
        "x_train = x_train.reshape([x_train.shape[0], -1])\n",
        "x_test = x_test.reshape([x_test.shape[0], -1])"
      ],
      "execution_count": 0,
      "outputs": []
    },
    {
      "cell_type": "code",
      "metadata": {
        "id": "trvbCFxTj_iI",
        "colab_type": "code",
        "outputId": "e3380030-0a47-476d-91a4-9668331eed94",
        "colab": {
          "base_uri": "https://localhost:8080/",
          "height": 34
        }
      },
      "source": [
        "x_train[0].shape"
      ],
      "execution_count": 0,
      "outputs": [
        {
          "output_type": "execute_result",
          "data": {
            "text/plain": [
              "(784,)"
            ]
          },
          "metadata": {
            "tags": []
          },
          "execution_count": 127
        }
      ]
    },
    {
      "cell_type": "markdown",
      "metadata": {
        "id": "51oYXZpvgTrw",
        "colab_type": "text"
      },
      "source": [
        "## Develop a FeedForwardNN"
      ]
    },
    {
      "cell_type": "markdown",
      "metadata": {
        "id": "hQIH9UV5Jkv2",
        "colab_type": "text"
      },
      "source": [
        "Initialize model paramters - weights and biases, number of inputs: 784,outputs: 10, 5 hidden layers. \n",
        "Activation functions used are sigmoid and Relu for hidden layers, Softmax for the output layer."
      ]
    },
    {
      "cell_type": "code",
      "metadata": {
        "id": "x29BdAm3dywg",
        "colab_type": "code",
        "colab": {}
      },
      "source": [
        "class SimpleFeedForwarddNN:\n",
        "  def __init__(self, input, output):\n",
        "    self.input = input\n",
        "    self.output = output\n",
        "    hiddenLayerNeuronsLayer1 = 2500\n",
        "    hiddenLayerNeuronsLayer2 = 2000\n",
        "    hiddenLayerNeuronsLayer3 = 1500\n",
        "    hiddenLayerNeuronsLayer4 = 1000\n",
        "    hiddenLayerNeuronsLayer5 = 500\n",
        "    self.learningRate = 1 #initial learning rate\n",
        "    numberInputNeurons = 784 #x_train[0].shape : 28*28\n",
        "    numberOutputNeurons = 10\n",
        "    self.dropoutVal = 0.1\n",
        "    self.weight1 = 0.2 * np.random.randn(numberInputNeurons, hiddenLayerNeuronsLayer1) - 0.1\n",
        "    self.bias1 = np.zeros((1, hiddenLayerNeuronsLayer1))\n",
        "    self.weight2 = 0.2 * np.random.randn(hiddenLayerNeuronsLayer1, hiddenLayerNeuronsLayer2) - 0.1\n",
        "    self.bias2 = np.zeros((1, hiddenLayerNeuronsLayer2)) # till this\n",
        "    self.weight3 = 0.2 * np.random.randn(hiddenLayerNeuronsLayer2, hiddenLayerNeuronsLayer3) - 0.1\n",
        "    self.bias3 = np.zeros((1, hiddenLayerNeuronsLayer3))\n",
        "    self.weight4 = 0.2 * np.random.randn(hiddenLayerNeuronsLayer3, hiddenLayerNeuronsLayer4) - 0.1\n",
        "    self.bias4 = np.zeros((1, hiddenLayerNeuronsLayer4))\n",
        "    self.weight5 = 0.2 * np.random.randn(hiddenLayerNeuronsLayer4, hiddenLayerNeuronsLayer5) - 0.1\n",
        "    self.bias5 = np.zeros((1, hiddenLayerNeuronsLayer5))\n",
        "    self.weight6 = 0.2 * np.random.randn(hiddenLayerNeuronsLayer5, numberOutputNeurons) - 0.1\n",
        "    self.bias6 = np.zeros((1, numberOutputNeurons))\n",
        "\n",
        "  def sigmoid(self, val):\n",
        "    s = 1/(1 + np.exp(-val))\n",
        "    return s\n",
        "\n",
        "  def relu(self, val):\n",
        "    r = np.maximum(0,val)\n",
        "    return r\n",
        "\n",
        "  def softmax(self, val):\n",
        "    exps = np.exp(val - np.max(val, axis=1, keepdims=True))\n",
        "    return exps/np.sum(exps, axis=1, keepdims=True) \n",
        "\n",
        "  # def dropout(self):\n",
        "  #   keep = 1 - self.dropoutVal\n",
        "  #   D1 = np.random.rand(self.a1.shape[0], self.a1.shape[1])\n",
        "  #   #print(D1)\n",
        "  #   D1 = D1 < keep\n",
        "  #   self.a1 = np.multiply(self.a1, D1) \n",
        "  #   self.a1 = self.a1/keep\n",
        "\n",
        "  def network(self):\n",
        "    z1 = np.dot(self.input, self.weight1) + self.bias1\n",
        "    self.a1 = self.sigmoid(z1)\n",
        "    #self.dropout()\n",
        "    z2 = np.dot(self.a1, self.weight2) + self.bias2\n",
        "    self.a2 = self.relu(z2)    \n",
        "    z3 = np.dot(self.a2, self.weight3) + self.bias3\n",
        "    self.a3 = self.relu(z3)\n",
        "    z4 = np.dot(self.a3, self.weight4) + self.bias4\n",
        "    self.a4 = self.relu(z4)\n",
        "    z5 = np.dot(self.a4, self.weight5) + self.bias5\n",
        "    self.a5 = self.relu(z5)\n",
        "    z6 = np.dot(self.a5, self.weight6) + self.bias6\n",
        "    self.a6 = self.softmax(z6)\n",
        "\n",
        "  def predict(self, x):\n",
        "    self.input = x\n",
        "    self.network()\n",
        "    return self.a6.argmax()\n",
        "  \n",
        "  def updateLearningRate():\n",
        "    self.learningRate *= 0.1"
      ],
      "execution_count": 0,
      "outputs": []
    },
    {
      "cell_type": "code",
      "metadata": {
        "id": "ZK9owIFGDbRQ",
        "colab_type": "code",
        "colab": {}
      },
      "source": [
        "def iterate_minibatches(inputs, outputs, batchsize, shuffle=False):\n",
        "    assert len(inputs) == len(outputs)\n",
        "    if shuffle:\n",
        "        indices = np.random.permutation(len(inputs))\n",
        "    for start_idx in range(0, len(inputs) - batchsize + 1, batchsize):\n",
        "        if shuffle:\n",
        "            excerpt = indices[start_idx:start_idx + batchsize]\n",
        "        else:\n",
        "            excerpt = slice(start_idx, start_idx + batchsize)\n",
        "        yield inputs[excerpt], outputs[excerpt]"
      ],
      "execution_count": 0,
      "outputs": []
    },
    {
      "cell_type": "markdown",
      "metadata": {
        "id": "N03oPb10ovas",
        "colab_type": "text"
      },
      "source": [
        "To predict the accuracy of the model on train and test datasets."
      ]
    },
    {
      "cell_type": "code",
      "metadata": {
        "id": "2pQrEI0TQ7-2",
        "colab_type": "code",
        "colab": {}
      },
      "source": [
        "def accuracy(x, y):\n",
        "    model = SimpleFeedForwarddNN(x, y)\n",
        "    acc = 0\n",
        "    for xx,yy in zip(x, y):\n",
        "        pred = model.predict(xx)\n",
        "        if pred == np.argmax(yy):\n",
        "            acc +=1\n",
        "    return acc/len(x)*100"
      ],
      "execution_count": 0,
      "outputs": []
    },
    {
      "cell_type": "markdown",
      "metadata": {
        "id": "eGHqRxhDpDws",
        "colab_type": "text"
      },
      "source": [
        "Train log and test log to store the train and test accuracies after each iteration for plotting."
      ]
    },
    {
      "cell_type": "code",
      "metadata": {
        "id": "VodvqqxNQgsg",
        "colab_type": "code",
        "outputId": "e7004bb4-8a4a-4dce-d82e-57fd868bdc93",
        "colab": {
          "base_uri": "https://localhost:8080/",
          "height": 299
        }
      },
      "source": [
        "#model = SimpleFeedForwarddNN(x_train, y_train)\n",
        "epochs = 3\n",
        "train_log = []\n",
        "test_log = []\n",
        "for e in range(1, epochs):\n",
        "  for x_batch,y_batch in iterate_minibatches(x_train, y_train, batchsize=64, shuffle=True):\n",
        "      model = SimpleFeedForwarddNN(x_batch, y_batch)\n",
        "      model.network() #train the model\n",
        "  train_acc = accuracy(x_train, y_train)\n",
        "  #train_acc = accuracy(x_batch, y_batch)\n",
        "  test_acc = accuracy(x_test, y_test)\n",
        "  print(\"Epoch %s , Train_acc %s, Test_acc %s\" % (e, train_acc , test_acc)) #calculate the accuracies\n",
        "  train_log.append(np.mean(train_acc/100))\n",
        "  test_log.append(np.mean(test_acc/100))\n",
        "  #model.updateLearningRate()\n",
        "\n",
        "plt.plot(train_log,label='train accuracy')\n",
        "plt.plot(test_log,label='test accuracy')\n",
        "plt.legend(loc='best')\n",
        "plt.grid()\n",
        "plt.show()"
      ],
      "execution_count": 0,
      "outputs": [
        {
          "output_type": "stream",
          "text": [
            "Epoch 1 , Train_acc 99.06666666666666, Test_acc 98.66\n",
            "Epoch 2 , Train_acc 98.62333333333333, Test_acc 99.21\n"
          ],
          "name": "stdout"
        },
        {
          "output_type": "display_data",
          "data": {
            "image/png": "[encoded data removed]",
            "text/plain": [
              "<Figure size 432x288 with 1 Axes>"
            ]
          },
          "metadata": {
            "tags": []
          }
        }
      ]
    },
    {
      "cell_type": "markdown",
      "metadata": {
        "colab_type": "text",
        "id": "S5unGVI6xYLn"
      },
      "source": [
        "With dropout in the first hidden layer, the train and test accuracies are:\n",
        "\n",
        "* Epoch 1 , Train_acc 97.45833333333334, Test_acc 98.79 \n",
        "* Epoch 2 , Train_acc 98.81, Test_acc 98.67\n",
        "\n",
        "So, Commenting out the drop out code.\n"
      ]
    }
  ]
}