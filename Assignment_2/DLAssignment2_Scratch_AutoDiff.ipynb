{
  "nbformat": 4,
  "nbformat_minor": 0,
  "metadata": {
    "colab": {
      "name": "DLAssignment2_Scratch_AutoDiff.ipynb",
      "provenance": [],
      "collapsed_sections": [],
      "authorship_tag": "ABX9TyNcE13N8UtNFTsjwUEheVYw",
      "include_colab_link": true
    },
    "kernelspec": {
      "name": "python3",
      "display_name": "Python 3"
    },
    "widgets": {
      "application/vnd.jupyter.widget-state+json": {
        "22acdf88e2a14f8aabcd8cfd56c31955": {
          "model_module": "@jupyter-widgets/controls",
          "model_name": "HBoxModel",
          "state": {
            "_view_name": "HBoxView",
            "_dom_classes": [],
            "_model_name": "HBoxModel",
            "_view_module": "@jupyter-widgets/controls",
            "_model_module_version": "1.5.0",
            "_view_count": null,
            "_view_module_version": "1.5.0",
            "box_style": "",
            "layout": "IPY_MODEL_9c92a87571184ece87dd2cb3ad50c6b6",
            "_model_module": "@jupyter-widgets/controls",
            "children": [
              "IPY_MODEL_18da7a953d41454099a5b5094297b2a4",
              "IPY_MODEL_33fc5304e4624383b0d228c5daf79ccf"
            ]
          }
        },
        "9c92a87571184ece87dd2cb3ad50c6b6": {
          "model_module": "@jupyter-widgets/base",
          "model_name": "LayoutModel",
          "state": {
            "_view_name": "LayoutView",
            "grid_template_rows": null,
            "right": null,
            "justify_content": null,
            "_view_module": "@jupyter-widgets/base",
            "overflow": null,
            "_model_module_version": "1.2.0",
            "_view_count": null,
            "flex_flow": null,
            "width": null,
            "min_width": null,
            "border": null,
            "align_items": null,
            "bottom": null,
            "_model_module": "@jupyter-widgets/base",
            "top": null,
            "grid_column": null,
            "overflow_y": null,
            "overflow_x": null,
            "grid_auto_flow": null,
            "grid_area": null,
            "grid_template_columns": null,
            "flex": null,
            "_model_name": "LayoutModel",
            "justify_items": null,
            "grid_row": null,
            "max_height": null,
            "align_content": null,
            "visibility": null,
            "align_self": null,
            "height": null,
            "min_height": null,
            "padding": null,
            "grid_auto_rows": null,
            "grid_gap": null,
            "max_width": null,
            "order": null,
            "_view_module_version": "1.2.0",
            "grid_template_areas": null,
            "object_position": null,
            "object_fit": null,
            "grid_auto_columns": null,
            "margin": null,
            "display": null,
            "left": null
          }
        },
        "18da7a953d41454099a5b5094297b2a4": {
          "model_module": "@jupyter-widgets/controls",
          "model_name": "FloatProgressModel",
          "state": {
            "_view_name": "ProgressView",
            "style": "IPY_MODEL_d024d8eaf13a4e0cb6e52d6771575b2f",
            "_dom_classes": [],
            "description": "",
            "_model_name": "FloatProgressModel",
            "bar_style": "info",
            "max": 1,
            "_view_module": "@jupyter-widgets/controls",
            "_model_module_version": "1.5.0",
            "value": 1,
            "_view_count": null,
            "_view_module_version": "1.5.0",
            "orientation": "horizontal",
            "min": 0,
            "description_tooltip": null,
            "_model_module": "@jupyter-widgets/controls",
            "layout": "IPY_MODEL_c3fbe528cb914475915e4424a10be42e"
          }
        },
        "33fc5304e4624383b0d228c5daf79ccf": {
          "model_module": "@jupyter-widgets/controls",
          "model_name": "HTMLModel",
          "state": {
            "_view_name": "HTMLView",
            "style": "IPY_MODEL_16e277c1377f4c7fbf6a6708e2834043",
            "_dom_classes": [],
            "description": "",
            "_model_name": "HTMLModel",
            "placeholder": "​",
            "_view_module": "@jupyter-widgets/controls",
            "_model_module_version": "1.5.0",
            "value": " 9920512/? [00:19&lt;00:00, 1093048.85it/s]",
            "_view_count": null,
            "_view_module_version": "1.5.0",
            "description_tooltip": null,
            "_model_module": "@jupyter-widgets/controls",
            "layout": "IPY_MODEL_8b520afe6fe84dee9693faf3c2d43b7f"
          }
        },
        "d024d8eaf13a4e0cb6e52d6771575b2f": {
          "model_module": "@jupyter-widgets/controls",
          "model_name": "ProgressStyleModel",
          "state": {
            "_view_name": "StyleView",
            "_model_name": "ProgressStyleModel",
            "description_width": "initial",
            "_view_module": "@jupyter-widgets/base",
            "_model_module_version": "1.5.0",
            "_view_count": null,
            "_view_module_version": "1.2.0",
            "bar_color": null,
            "_model_module": "@jupyter-widgets/controls"
          }
        },
        "c3fbe528cb914475915e4424a10be42e": {
          "model_module": "@jupyter-widgets/base",
          "model_name": "LayoutModel",
          "state": {
            "_view_name": "LayoutView",
            "grid_template_rows": null,
            "right": null,
            "justify_content": null,
            "_view_module": "@jupyter-widgets/base",
            "overflow": null,
            "_model_module_version": "1.2.0",
            "_view_count": null,
            "flex_flow": null,
            "width": null,
            "min_width": null,
            "border": null,
            "align_items": null,
            "bottom": null,
            "_model_module": "@jupyter-widgets/base",
            "top": null,
            "grid_column": null,
            "overflow_y": null,
            "overflow_x": null,
            "grid_auto_flow": null,
            "grid_area": null,
            "grid_template_columns": null,
            "flex": null,
            "_model_name": "LayoutModel",
            "justify_items": null,
            "grid_row": null,
            "max_height": null,
            "align_content": null,
            "visibility": null,
            "align_self": null,
            "height": null,
            "min_height": null,
            "padding": null,
            "grid_auto_rows": null,
            "grid_gap": null,
            "max_width": null,
            "order": null,
            "_view_module_version": "1.2.0",
            "grid_template_areas": null,
            "object_position": null,
            "object_fit": null,
            "grid_auto_columns": null,
            "margin": null,
            "display": null,
            "left": null
          }
        },
        "16e277c1377f4c7fbf6a6708e2834043": {
          "model_module": "@jupyter-widgets/controls",
          "model_name": "DescriptionStyleModel",
          "state": {
            "_view_name": "StyleView",
            "_model_name": "DescriptionStyleModel",
            "description_width": "",
            "_view_module": "@jupyter-widgets/base",
            "_model_module_version": "1.5.0",
            "_view_count": null,
            "_view_module_version": "1.2.0",
            "_model_module": "@jupyter-widgets/controls"
          }
        },
        "8b520afe6fe84dee9693faf3c2d43b7f": {
          "model_module": "@jupyter-widgets/base",
          "model_name": "LayoutModel",
          "state": {
            "_view_name": "LayoutView",
            "grid_template_rows": null,
            "right": null,
            "justify_content": null,
            "_view_module": "@jupyter-widgets/base",
            "overflow": null,
            "_model_module_version": "1.2.0",
            "_view_count": null,
            "flex_flow": null,
            "width": null,
            "min_width": null,
            "border": null,
            "align_items": null,
            "bottom": null,
            "_model_module": "@jupyter-widgets/base",
            "top": null,
            "grid_column": null,
            "overflow_y": null,
            "overflow_x": null,
            "grid_auto_flow": null,
            "grid_area": null,
            "grid_template_columns": null,
            "flex": null,
            "_model_name": "LayoutModel",
            "justify_items": null,
            "grid_row": null,
            "max_height": null,
            "align_content": null,
            "visibility": null,
            "align_self": null,
            "height": null,
            "min_height": null,
            "padding": null,
            "grid_auto_rows": null,
            "grid_gap": null,
            "max_width": null,
            "order": null,
            "_view_module_version": "1.2.0",
            "grid_template_areas": null,
            "object_position": null,
            "object_fit": null,
            "grid_auto_columns": null,
            "margin": null,
            "display": null,
            "left": null
          }
        },
        "6fdbf3ff855042f08dd04d3e96548797": {
          "model_module": "@jupyter-widgets/controls",
          "model_name": "HBoxModel",
          "state": {
            "_view_name": "HBoxView",
            "_dom_classes": [],
            "_model_name": "HBoxModel",
            "_view_module": "@jupyter-widgets/controls",
            "_model_module_version": "1.5.0",
            "_view_count": null,
            "_view_module_version": "1.5.0",
            "box_style": "",
            "layout": "IPY_MODEL_b71e248bd8e64b36a345952c287ab4d4",
            "_model_module": "@jupyter-widgets/controls",
            "children": [
              "IPY_MODEL_40119f7fb7b84ea6b923d105c4634432",
              "IPY_MODEL_af23328b58db49ffa760deb161e561aa"
            ]
          }
        },
        "b71e248bd8e64b36a345952c287ab4d4": {
          "model_module": "@jupyter-widgets/base",
          "model_name": "LayoutModel",
          "state": {
            "_view_name": "LayoutView",
            "grid_template_rows": null,
            "right": null,
            "justify_content": null,
            "_view_module": "@jupyter-widgets/base",
            "overflow": null,
            "_model_module_version": "1.2.0",
            "_view_count": null,
            "flex_flow": null,
            "width": null,
            "min_width": null,
            "border": null,
            "align_items": null,
            "bottom": null,
            "_model_module": "@jupyter-widgets/base",
            "top": null,
            "grid_column": null,
            "overflow_y": null,
            "overflow_x": null,
            "grid_auto_flow": null,
            "grid_area": null,
            "grid_template_columns": null,
            "flex": null,
            "_model_name": "LayoutModel",
            "justify_items": null,
            "grid_row": null,
            "max_height": null,
            "align_content": null,
            "visibility": null,
            "align_self": null,
            "height": null,
            "min_height": null,
            "padding": null,
            "grid_auto_rows": null,
            "grid_gap": null,
            "max_width": null,
            "order": null,
            "_view_module_version": "1.2.0",
            "grid_template_areas": null,
            "object_position": null,
            "object_fit": null,
            "grid_auto_columns": null,
            "margin": null,
            "display": null,
            "left": null
          }
        },
        "40119f7fb7b84ea6b923d105c4634432": {
          "model_module": "@jupyter-widgets/controls",
          "model_name": "FloatProgressModel",
          "state": {
            "_view_name": "ProgressView",
            "style": "IPY_MODEL_56ed71a611a24bf49986811a99787040",
            "_dom_classes": [],
            "description": "",
            "_model_name": "FloatProgressModel",
            "bar_style": "success",
            "max": 1,
            "_view_module": "@jupyter-widgets/controls",
            "_model_module_version": "1.5.0",
            "value": 1,
            "_view_count": null,
            "_view_module_version": "1.5.0",
            "orientation": "horizontal",
            "min": 0,
            "description_tooltip": null,
            "_model_module": "@jupyter-widgets/controls",
            "layout": "IPY_MODEL_1aee30c5a234401fac8e42450bd8f0f6"
          }
        },
        "af23328b58db49ffa760deb161e561aa": {
          "model_module": "@jupyter-widgets/controls",
          "model_name": "HTMLModel",
          "state": {
            "_view_name": "HTMLView",
            "style": "IPY_MODEL_9ee2dfcb3e8b4be1ad4b1516cd7e95bf",
            "_dom_classes": [],
            "description": "",
            "_model_name": "HTMLModel",
            "placeholder": "​",
            "_view_module": "@jupyter-widgets/controls",
            "_model_module_version": "1.5.0",
            "value": " 32768/? [00:01&lt;00:00, 25847.12it/s]",
            "_view_count": null,
            "_view_module_version": "1.5.0",
            "description_tooltip": null,
            "_model_module": "@jupyter-widgets/controls",
            "layout": "IPY_MODEL_b71a9583b085477fa4d3994cb709e9a2"
          }
        },
        "56ed71a611a24bf49986811a99787040": {
          "model_module": "@jupyter-widgets/controls",
          "model_name": "ProgressStyleModel",
          "state": {
            "_view_name": "StyleView",
            "_model_name": "ProgressStyleModel",
            "description_width": "initial",
            "_view_module": "@jupyter-widgets/base",
            "_model_module_version": "1.5.0",
            "_view_count": null,
            "_view_module_version": "1.2.0",
            "bar_color": null,
            "_model_module": "@jupyter-widgets/controls"
          }
        },
        "1aee30c5a234401fac8e42450bd8f0f6": {
          "model_module": "@jupyter-widgets/base",
          "model_name": "LayoutModel",
          "state": {
            "_view_name": "LayoutView",
            "grid_template_rows": null,
            "right": null,
            "justify_content": null,
            "_view_module": "@jupyter-widgets/base",
            "overflow": null,
            "_model_module_version": "1.2.0",
            "_view_count": null,
            "flex_flow": null,
            "width": null,
            "min_width": null,
            "border": null,
            "align_items": null,
            "bottom": null,
            "_model_module": "@jupyter-widgets/base",
            "top": null,
            "grid_column": null,
            "overflow_y": null,
            "overflow_x": null,
            "grid_auto_flow": null,
            "grid_area": null,
            "grid_template_columns": null,
            "flex": null,
            "_model_name": "LayoutModel",
            "justify_items": null,
            "grid_row": null,
            "max_height": null,
            "align_content": null,
            "visibility": null,
            "align_self": null,
            "height": null,
            "min_height": null,
            "padding": null,
            "grid_auto_rows": null,
            "grid_gap": null,
            "max_width": null,
            "order": null,
            "_view_module_version": "1.2.0",
            "grid_template_areas": null,
            "object_position": null,
            "object_fit": null,
            "grid_auto_columns": null,
            "margin": null,
            "display": null,
            "left": null
          }
        },
        "9ee2dfcb3e8b4be1ad4b1516cd7e95bf": {
          "model_module": "@jupyter-widgets/controls",
          "model_name": "DescriptionStyleModel",
          "state": {
            "_view_name": "StyleView",
            "_model_name": "DescriptionStyleModel",
            "description_width": "",
            "_view_module": "@jupyter-widgets/base",
            "_model_module_version": "1.5.0",
            "_view_count": null,
            "_view_module_version": "1.2.0",
            "_model_module": "@jupyter-widgets/controls"
          }
        },
        "b71a9583b085477fa4d3994cb709e9a2": {
          "model_module": "@jupyter-widgets/base",
          "model_name": "LayoutModel",
          "state": {
            "_view_name": "LayoutView",
            "grid_template_rows": null,
            "right": null,
            "justify_content": null,
            "_view_module": "@jupyter-widgets/base",
            "overflow": null,
            "_model_module_version": "1.2.0",
            "_view_count": null,
            "flex_flow": null,
            "width": null,
            "min_width": null,
            "border": null,
            "align_items": null,
            "bottom": null,
            "_model_module": "@jupyter-widgets/base",
            "top": null,
            "grid_column": null,
            "overflow_y": null,
            "overflow_x": null,
            "grid_auto_flow": null,
            "grid_area": null,
            "grid_template_columns": null,
            "flex": null,
            "_model_name": "LayoutModel",
            "justify_items": null,
            "grid_row": null,
            "max_height": null,
            "align_content": null,
            "visibility": null,
            "align_self": null,
            "height": null,
            "min_height": null,
            "padding": null,
            "grid_auto_rows": null,
            "grid_gap": null,
            "max_width": null,
            "order": null,
            "_view_module_version": "1.2.0",
            "grid_template_areas": null,
            "object_position": null,
            "object_fit": null,
            "grid_auto_columns": null,
            "margin": null,
            "display": null,
            "left": null
          }
        },
        "7c1b1b459f7c44a19a47e16ac5bcc7f3": {
          "model_module": "@jupyter-widgets/controls",
          "model_name": "HBoxModel",
          "state": {
            "_view_name": "HBoxView",
            "_dom_classes": [],
            "_model_name": "HBoxModel",
            "_view_module": "@jupyter-widgets/controls",
            "_model_module_version": "1.5.0",
            "_view_count": null,
            "_view_module_version": "1.5.0",
            "box_style": "",
            "layout": "IPY_MODEL_e82c7528fa8a46eabefef3098f9db3aa",
            "_model_module": "@jupyter-widgets/controls",
            "children": [
              "IPY_MODEL_9a6f17dc337a456a87a05a6ba3efc8f7",
              "IPY_MODEL_5afda16a5e6b469891f52932a3004fb8"
            ]
          }
        },
        "e82c7528fa8a46eabefef3098f9db3aa": {
          "model_module": "@jupyter-widgets/base",
          "model_name": "LayoutModel",
          "state": {
            "_view_name": "LayoutView",
            "grid_template_rows": null,
            "right": null,
            "justify_content": null,
            "_view_module": "@jupyter-widgets/base",
            "overflow": null,
            "_model_module_version": "1.2.0",
            "_view_count": null,
            "flex_flow": null,
            "width": null,
            "min_width": null,
            "border": null,
            "align_items": null,
            "bottom": null,
            "_model_module": "@jupyter-widgets/base",
            "top": null,
            "grid_column": null,
            "overflow_y": null,
            "overflow_x": null,
            "grid_auto_flow": null,
            "grid_area": null,
            "grid_template_columns": null,
            "flex": null,
            "_model_name": "LayoutModel",
            "justify_items": null,
            "grid_row": null,
            "max_height": null,
            "align_content": null,
            "visibility": null,
            "align_self": null,
            "height": null,
            "min_height": null,
            "padding": null,
            "grid_auto_rows": null,
            "grid_gap": null,
            "max_width": null,
            "order": null,
            "_view_module_version": "1.2.0",
            "grid_template_areas": null,
            "object_position": null,
            "object_fit": null,
            "grid_auto_columns": null,
            "margin": null,
            "display": null,
            "left": null
          }
        },
        "9a6f17dc337a456a87a05a6ba3efc8f7": {
          "model_module": "@jupyter-widgets/controls",
          "model_name": "FloatProgressModel",
          "state": {
            "_view_name": "ProgressView",
            "style": "IPY_MODEL_9cdf5044e8304bee9d6874ce17a08bb5",
            "_dom_classes": [],
            "description": "",
            "_model_name": "FloatProgressModel",
            "bar_style": "success",
            "max": 1,
            "_view_module": "@jupyter-widgets/controls",
            "_model_module_version": "1.5.0",
            "value": 1,
            "_view_count": null,
            "_view_module_version": "1.5.0",
            "orientation": "horizontal",
            "min": 0,
            "description_tooltip": null,
            "_model_module": "@jupyter-widgets/controls",
            "layout": "IPY_MODEL_3522f3c434864fc3adb9fdd4cea5836b"
          }
        },
        "5afda16a5e6b469891f52932a3004fb8": {
          "model_module": "@jupyter-widgets/controls",
          "model_name": "HTMLModel",
          "state": {
            "_view_name": "HTMLView",
            "style": "IPY_MODEL_8ff997bfc3124392b57c04d22b81e3d7",
            "_dom_classes": [],
            "description": "",
            "_model_name": "HTMLModel",
            "placeholder": "​",
            "_view_module": "@jupyter-widgets/controls",
            "_model_module_version": "1.5.0",
            "value": " 1654784/? [00:00&lt;00:00, 1655515.39it/s]",
            "_view_count": null,
            "_view_module_version": "1.5.0",
            "description_tooltip": null,
            "_model_module": "@jupyter-widgets/controls",
            "layout": "IPY_MODEL_e7a38d8b1ad1424a88d0fe4287504a7f"
          }
        },
        "9cdf5044e8304bee9d6874ce17a08bb5": {
          "model_module": "@jupyter-widgets/controls",
          "model_name": "ProgressStyleModel",
          "state": {
            "_view_name": "StyleView",
            "_model_name": "ProgressStyleModel",
            "description_width": "initial",
            "_view_module": "@jupyter-widgets/base",
            "_model_module_version": "1.5.0",
            "_view_count": null,
            "_view_module_version": "1.2.0",
            "bar_color": null,
            "_model_module": "@jupyter-widgets/controls"
          }
        },
        "3522f3c434864fc3adb9fdd4cea5836b": {
          "model_module": "@jupyter-widgets/base",
          "model_name": "LayoutModel",
          "state": {
            "_view_name": "LayoutView",
            "grid_template_rows": null,
            "right": null,
            "justify_content": null,
            "_view_module": "@jupyter-widgets/base",
            "overflow": null,
            "_model_module_version": "1.2.0",
            "_view_count": null,
            "flex_flow": null,
            "width": null,
            "min_width": null,
            "border": null,
            "align_items": null,
            "bottom": null,
            "_model_module": "@jupyter-widgets/base",
            "top": null,
            "grid_column": null,
            "overflow_y": null,
            "overflow_x": null,
            "grid_auto_flow": null,
            "grid_area": null,
            "grid_template_columns": null,
            "flex": null,
            "_model_name": "LayoutModel",
            "justify_items": null,
            "grid_row": null,
            "max_height": null,
            "align_content": null,
            "visibility": null,
            "align_self": null,
            "height": null,
            "min_height": null,
            "padding": null,
            "grid_auto_rows": null,
            "grid_gap": null,
            "max_width": null,
            "order": null,
            "_view_module_version": "1.2.0",
            "grid_template_areas": null,
            "object_position": null,
            "object_fit": null,
            "grid_auto_columns": null,
            "margin": null,
            "display": null,
            "left": null
          }
        },
        "8ff997bfc3124392b57c04d22b81e3d7": {
          "model_module": "@jupyter-widgets/controls",
          "model_name": "DescriptionStyleModel",
          "state": {
            "_view_name": "StyleView",
            "_model_name": "DescriptionStyleModel",
            "description_width": "",
            "_view_module": "@jupyter-widgets/base",
            "_model_module_version": "1.5.0",
            "_view_count": null,
            "_view_module_version": "1.2.0",
            "_model_module": "@jupyter-widgets/controls"
          }
        },
        "e7a38d8b1ad1424a88d0fe4287504a7f": {
          "model_module": "@jupyter-widgets/base",
          "model_name": "LayoutModel",
          "state": {
            "_view_name": "LayoutView",
            "grid_template_rows": null,
            "right": null,
            "justify_content": null,
            "_view_module": "@jupyter-widgets/base",
            "overflow": null,
            "_model_module_version": "1.2.0",
            "_view_count": null,
            "flex_flow": null,
            "width": null,
            "min_width": null,
            "border": null,
            "align_items": null,
            "bottom": null,
            "_model_module": "@jupyter-widgets/base",
            "top": null,
            "grid_column": null,
            "overflow_y": null,
            "overflow_x": null,
            "grid_auto_flow": null,
            "grid_area": null,
            "grid_template_columns": null,
            "flex": null,
            "_model_name": "LayoutModel",
            "justify_items": null,
            "grid_row": null,
            "max_height": null,
            "align_content": null,
            "visibility": null,
            "align_self": null,
            "height": null,
            "min_height": null,
            "padding": null,
            "grid_auto_rows": null,
            "grid_gap": null,
            "max_width": null,
            "order": null,
            "_view_module_version": "1.2.0",
            "grid_template_areas": null,
            "object_position": null,
            "object_fit": null,
            "grid_auto_columns": null,
            "margin": null,
            "display": null,
            "left": null
          }
        },
        "5e09c92c7ec74320aca11dc375d073cb": {
          "model_module": "@jupyter-widgets/controls",
          "model_name": "HBoxModel",
          "state": {
            "_view_name": "HBoxView",
            "_dom_classes": [],
            "_model_name": "HBoxModel",
            "_view_module": "@jupyter-widgets/controls",
            "_model_module_version": "1.5.0",
            "_view_count": null,
            "_view_module_version": "1.5.0",
            "box_style": "",
            "layout": "IPY_MODEL_cf5c99b0c95140cbb5d342738e99b852",
            "_model_module": "@jupyter-widgets/controls",
            "children": [
              "IPY_MODEL_b0790dcf449e4dad8352dae0f60c0996",
              "IPY_MODEL_53cda772c77845f39343116d767e9c73"
            ]
          }
        },
        "cf5c99b0c95140cbb5d342738e99b852": {
          "model_module": "@jupyter-widgets/base",
          "model_name": "LayoutModel",
          "state": {
            "_view_name": "LayoutView",
            "grid_template_rows": null,
            "right": null,
            "justify_content": null,
            "_view_module": "@jupyter-widgets/base",
            "overflow": null,
            "_model_module_version": "1.2.0",
            "_view_count": null,
            "flex_flow": null,
            "width": null,
            "min_width": null,
            "border": null,
            "align_items": null,
            "bottom": null,
            "_model_module": "@jupyter-widgets/base",
            "top": null,
            "grid_column": null,
            "overflow_y": null,
            "overflow_x": null,
            "grid_auto_flow": null,
            "grid_area": null,
            "grid_template_columns": null,
            "flex": null,
            "_model_name": "LayoutModel",
            "justify_items": null,
            "grid_row": null,
            "max_height": null,
            "align_content": null,
            "visibility": null,
            "align_self": null,
            "height": null,
            "min_height": null,
            "padding": null,
            "grid_auto_rows": null,
            "grid_gap": null,
            "max_width": null,
            "order": null,
            "_view_module_version": "1.2.0",
            "grid_template_areas": null,
            "object_position": null,
            "object_fit": null,
            "grid_auto_columns": null,
            "margin": null,
            "display": null,
            "left": null
          }
        },
        "b0790dcf449e4dad8352dae0f60c0996": {
          "model_module": "@jupyter-widgets/controls",
          "model_name": "FloatProgressModel",
          "state": {
            "_view_name": "ProgressView",
            "style": "IPY_MODEL_9e67d7f077544d0f9ad92d24a7d67398",
            "_dom_classes": [],
            "description": "",
            "_model_name": "FloatProgressModel",
            "bar_style": "success",
            "max": 1,
            "_view_module": "@jupyter-widgets/controls",
            "_model_module_version": "1.5.0",
            "value": 1,
            "_view_count": null,
            "_view_module_version": "1.5.0",
            "orientation": "horizontal",
            "min": 0,
            "description_tooltip": null,
            "_model_module": "@jupyter-widgets/controls",
            "layout": "IPY_MODEL_cb3fed1a5d28491d93e8d5d3ef1933cc"
          }
        },
        "53cda772c77845f39343116d767e9c73": {
          "model_module": "@jupyter-widgets/controls",
          "model_name": "HTMLModel",
          "state": {
            "_view_name": "HTMLView",
            "style": "IPY_MODEL_6045fa9a748a46e99c2c2fd8c3df97bd",
            "_dom_classes": [],
            "description": "",
            "_model_name": "HTMLModel",
            "placeholder": "​",
            "_view_module": "@jupyter-widgets/controls",
            "_model_module_version": "1.5.0",
            "value": " 8192/? [00:00&lt;00:00, 26425.99it/s]",
            "_view_count": null,
            "_view_module_version": "1.5.0",
            "description_tooltip": null,
            "_model_module": "@jupyter-widgets/controls",
            "layout": "IPY_MODEL_967f6386140f41c293986d8cbf7c2c15"
          }
        },
        "9e67d7f077544d0f9ad92d24a7d67398": {
          "model_module": "@jupyter-widgets/controls",
          "model_name": "ProgressStyleModel",
          "state": {
            "_view_name": "StyleView",
            "_model_name": "ProgressStyleModel",
            "description_width": "initial",
            "_view_module": "@jupyter-widgets/base",
            "_model_module_version": "1.5.0",
            "_view_count": null,
            "_view_module_version": "1.2.0",
            "bar_color": null,
            "_model_module": "@jupyter-widgets/controls"
          }
        },
        "cb3fed1a5d28491d93e8d5d3ef1933cc": {
          "model_module": "@jupyter-widgets/base",
          "model_name": "LayoutModel",
          "state": {
            "_view_name": "LayoutView",
            "grid_template_rows": null,
            "right": null,
            "justify_content": null,
            "_view_module": "@jupyter-widgets/base",
            "overflow": null,
            "_model_module_version": "1.2.0",
            "_view_count": null,
            "flex_flow": null,
            "width": null,
            "min_width": null,
            "border": null,
            "align_items": null,
            "bottom": null,
            "_model_module": "@jupyter-widgets/base",
            "top": null,
            "grid_column": null,
            "overflow_y": null,
            "overflow_x": null,
            "grid_auto_flow": null,
            "grid_area": null,
            "grid_template_columns": null,
            "flex": null,
            "_model_name": "LayoutModel",
            "justify_items": null,
            "grid_row": null,
            "max_height": null,
            "align_content": null,
            "visibility": null,
            "align_self": null,
            "height": null,
            "min_height": null,
            "padding": null,
            "grid_auto_rows": null,
            "grid_gap": null,
            "max_width": null,
            "order": null,
            "_view_module_version": "1.2.0",
            "grid_template_areas": null,
            "object_position": null,
            "object_fit": null,
            "grid_auto_columns": null,
            "margin": null,
            "display": null,
            "left": null
          }
        },
        "6045fa9a748a46e99c2c2fd8c3df97bd": {
          "model_module": "@jupyter-widgets/controls",
          "model_name": "DescriptionStyleModel",
          "state": {
            "_view_name": "StyleView",
            "_model_name": "DescriptionStyleModel",
            "description_width": "",
            "_view_module": "@jupyter-widgets/base",
            "_model_module_version": "1.5.0",
            "_view_count": null,
            "_view_module_version": "1.2.0",
            "_model_module": "@jupyter-widgets/controls"
          }
        },
        "967f6386140f41c293986d8cbf7c2c15": {
          "model_module": "@jupyter-widgets/base",
          "model_name": "LayoutModel",
          "state": {
            "_view_name": "LayoutView",
            "grid_template_rows": null,
            "right": null,
            "justify_content": null,
            "_view_module": "@jupyter-widgets/base",
            "overflow": null,
            "_model_module_version": "1.2.0",
            "_view_count": null,
            "flex_flow": null,
            "width": null,
            "min_width": null,
            "border": null,
            "align_items": null,
            "bottom": null,
            "_model_module": "@jupyter-widgets/base",
            "top": null,
            "grid_column": null,
            "overflow_y": null,
            "overflow_x": null,
            "grid_auto_flow": null,
            "grid_area": null,
            "grid_template_columns": null,
            "flex": null,
            "_model_name": "LayoutModel",
            "justify_items": null,
            "grid_row": null,
            "max_height": null,
            "align_content": null,
            "visibility": null,
            "align_self": null,
            "height": null,
            "min_height": null,
            "padding": null,
            "grid_auto_rows": null,
            "grid_gap": null,
            "max_width": null,
            "order": null,
            "_view_module_version": "1.2.0",
            "grid_template_areas": null,
            "object_position": null,
            "object_fit": null,
            "grid_auto_columns": null,
            "margin": null,
            "display": null,
            "left": null
          }
        }
      }
    }
  },
  "cells": [
    {
      "cell_type": "markdown",
      "metadata": {
        "id": "view-in-github",
        "colab_type": "text"
      },
      "source": [
        "<a href=\"https://colab.research.google.com/github/akshaya-nagarajan/DeepLearningProjects/blob/master/Assignment_2/DLAssignment2_Scratch_AutoDiff.ipynb\" target=\"_parent\"><img src=\"https://colab.research.google.com/assets/colab-badge.svg\" alt=\"Open In Colab\"/></a>"
      ]
    },
    {
      "cell_type": "markdown",
      "metadata": {
        "id": "lLGOv352UJhd",
        "colab_type": "text"
      },
      "source": [
        "# AutoDiff From Scratch"
      ]
    },
    {
      "cell_type": "markdown",
      "metadata": {
        "id": "WKyveAkNUiAl",
        "colab_type": "text"
      },
      "source": [
        "## Import Required Libraries"
      ]
    },
    {
      "cell_type": "code",
      "metadata": {
        "id": "UXx-PDNkUgxu",
        "colab_type": "code",
        "colab": {}
      },
      "source": [
        "import matplotlib.pyplot as plt\n",
        "from torchvision.datasets import MNIST\n",
        "from torchvision import transforms\n",
        "from torch.utils.data import DataLoader\n",
        "import numpy as np"
      ],
      "execution_count": 0,
      "outputs": []
    },
    {
      "cell_type": "markdown",
      "metadata": {
        "id": "C6ZSYXwrVGy9",
        "colab_type": "text"
      },
      "source": [
        "## Creating a Tensor Class"
      ]
    },
    {
      "cell_type": "code",
      "metadata": {
        "id": "GZRPjiUDIQzb",
        "colab_type": "code",
        "colab": {}
      },
      "source": [
        "class Tensor:\n",
        "  def __init__(self, data, requires_grad=False):\n",
        "      self.data = data\n",
        "      if not isinstance(data, np.ndarray):\n",
        "          self.data = np.array(data)\n",
        "      # whether to run backpropagation or not\n",
        "      self.requires_grad = requires_grad\n",
        "      # tensor gradient\n",
        "      self._grad = None\n",
        "      # operation if this tensor was used in it\n",
        "      self._grad_fn = None\n",
        "\n",
        "  @property\n",
        "  def shape(self):\n",
        "      return self.data.shape\n",
        "\n",
        "  @property\n",
        "  def grad_fn(self):\n",
        "      if not self.requires_grad:\n",
        "          raise Exception('This tensor is not backpropagated')\n",
        "      return self._grad_fn\n",
        "\n",
        "  @property\n",
        "  def grad(self):\n",
        "      return self._grad\n",
        "\n",
        "  def backward(self, grad=None):\n",
        "      if not self.grad_fn:\n",
        "          return False\n",
        "\n",
        "      if grad is None and self._grad is None:\n",
        "          grad = self.__class__(1., requires_grad=False)\n",
        "\n",
        "      elif self.grad is not None:\n",
        "          grad = self._grad\n",
        "\n",
        "      if not self.requires_grad:\n",
        "          raise Exception('This tensor is not backpropagated')\n",
        "\n",
        "      self.grad_fn.backward(grad)\n",
        "      return True\n",
        "\n",
        "  def __str__(self):\n",
        "      return f'Tensor({str(self.data)})'\n",
        "\n",
        "  def add_grad(self, grad):\n",
        "      if self._grad is None:\n",
        "          self._grad = grad\n",
        "      else:\n",
        "          self._grad += grad\n",
        "\n",
        "  def __add__(self, o): \n",
        "      if self.data is not None:\n",
        "          self.data += o.data  \n",
        "          return self\n",
        "      self.data = o.data \n",
        "      return self"
      ],
      "execution_count": 0,
      "outputs": []
    },
    {
      "cell_type": "markdown",
      "metadata": {
        "id": "io132-eXVcXF",
        "colab_type": "text"
      },
      "source": [
        "## Creating an Operation Class"
      ]
    },
    {
      "cell_type": "code",
      "metadata": {
        "id": "kqXVYIAUISYz",
        "colab_type": "code",
        "colab": {}
      },
      "source": [
        "class Op:\n",
        "  def forward(self):\n",
        "      raise NotImplemented\n",
        "\n",
        "  def backward(self, grad):\n",
        "      raise NotImplemented\n",
        "\n",
        "  def __call__(self, *args):\n",
        "      self.out = self.forward(*args)\n",
        "      self.out._grad_fn = self\n",
        "      return self.out"
      ],
      "execution_count": 0,
      "outputs": []
    },
    {
      "cell_type": "markdown",
      "metadata": {
        "id": "anbFdcU9VhJf",
        "colab_type": "text"
      },
      "source": [
        "## Creating an Add Operation Class for adding 2 tensors"
      ]
    },
    {
      "cell_type": "code",
      "metadata": {
        "id": "lBeO6AcRIUda",
        "colab_type": "code",
        "colab": {}
      },
      "source": [
        "class AddOp(Op):\n",
        "  def forward(self, x: Tensor, y: Tensor):\n",
        "      self.x = x\n",
        "      self.y = y\n",
        "      requires_grad = x.requires_grad or y.requires_grad\n",
        "      return Tensor(x.data + y.data, requires_grad=requires_grad)\n",
        "\n",
        "  def backward(self, grad):\n",
        "      if self.x.requires_grad:\n",
        "          if self.x.shape != grad.shape:\n",
        "              axis = np.argmax(np.abs(np.array(self.x.shape) - np.array(grad.shape)))\n",
        "              self.x.add_grad(Tensor(grad.data.sum(axis=axis, keepdims=True)))\n",
        "          else:\n",
        "              self.x.add_grad(grad)\n",
        "          if self.x.grad_fn:\n",
        "              self.x.backward()\n",
        "      if self.y.requires_grad:\n",
        "          if self.y.shape != grad.shape:\n",
        "              axis = np.argmax(np.abs(np.array(self.y.shape) - np.array(grad.shape)))\n",
        "              self.y.add_grad(Tensor(grad.data.sum(axis=axis, keepdims=True)))\n",
        "          else:\n",
        "              self.y.add_grad(grad)\n",
        "          if self.y.grad_fn:\n",
        "              self.y.backward()"
      ],
      "execution_count": 0,
      "outputs": []
    },
    {
      "cell_type": "markdown",
      "metadata": {
        "id": "ss5nehLRV6_9",
        "colab_type": "text"
      },
      "source": [
        "## Creating a Multiplication Operation Class for multiplying 2 tensors"
      ]
    },
    {
      "cell_type": "code",
      "metadata": {
        "id": "UFVgoj62IdNK",
        "colab_type": "code",
        "colab": {}
      },
      "source": [
        "class MulOp(Op):\n",
        "  def forward(self, x: Tensor, y: Tensor):\n",
        "      self.x = x\n",
        "      self.y = y\n",
        "      requires_grad = x.requires_grad or y.requires_grad\n",
        "      return Tensor(x.data * y.data, requires_grad=requires_grad)\n",
        "\n",
        "  def backward(self, grad):\n",
        "      if self.x.requires_grad:\n",
        "          print(self.x, self.x._grad, grad)\n",
        "          self.x.add_grad(Tensor(grad.data * self.y.data, False))\n",
        "          if self.x.grad_fn:\n",
        "              self.x.backward()\n",
        "      if self.y.requires_grad:\n",
        "          self.y.add_grad(Tensor(grad.data * self.x.data, False))\n",
        "          if self.y.grad_fn:\n",
        "              self.y.backward()"
      ],
      "execution_count": 0,
      "outputs": []
    },
    {
      "cell_type": "markdown",
      "metadata": {
        "id": "tC-q2ywFWlxl",
        "colab_type": "text"
      },
      "source": [
        "## Creating a Layer Class to be inherited by other Classes like Relu, Sigmoid, etc.,"
      ]
    },
    {
      "cell_type": "code",
      "metadata": {
        "id": "rfto7SrkIn_5",
        "colab_type": "code",
        "colab": {}
      },
      "source": [
        "class Layer:\n",
        "  def forward(self):\n",
        "      raise NotImplemented\n",
        "  \n",
        "  def backward(self, grad):\n",
        "      raise NotImplemented\n",
        "\n",
        "  def __call__(self, *args):\n",
        "      return self.forward(*args)"
      ],
      "execution_count": 0,
      "outputs": []
    },
    {
      "cell_type": "markdown",
      "metadata": {
        "id": "mcQ8PKsAWwx8",
        "colab_type": "text"
      },
      "source": [
        "## Creating a Sigmoid Layer Class"
      ]
    },
    {
      "cell_type": "code",
      "metadata": {
        "id": "nNDGgTS-JE6f",
        "colab_type": "code",
        "colab": {}
      },
      "source": [
        "class Sigmoid:\n",
        "  def forward(self,x):\n",
        "      self.x = x   \n",
        "      return 1/(1+np.exp(-x))\n",
        "    \n",
        "  def backward(self, grad):\n",
        "      grad_input = self.x*(1-self.x) * grad\n",
        "      return grad_input"
      ],
      "execution_count": 0,
      "outputs": []
    },
    {
      "cell_type": "markdown",
      "metadata": {
        "id": "_A5Wv2Q3W09V",
        "colab_type": "text"
      },
      "source": [
        "## Creating a Relu Layer Class"
      ]
    },
    {
      "cell_type": "code",
      "metadata": {
        "id": "2Ji9IFFIJGvI",
        "colab_type": "code",
        "colab": {}
      },
      "source": [
        "class Relu(Layer):\n",
        "  def forward(self,x):\n",
        "      self.x = x\n",
        "      return np.maximum(np.zeros_like(x), x)\n",
        "    \n",
        "  def backward(self, grad):\n",
        "      grad_input = (self.x > 0) * grad\n",
        "      return grad_input"
      ],
      "execution_count": 0,
      "outputs": []
    },
    {
      "cell_type": "code",
      "metadata": {
        "id": "pTGkRTsYW3fH",
        "colab_type": "code",
        "colab": {}
      },
      "source": [
        "## Creating a Softmax Layer Class"
      ],
      "execution_count": 0,
      "outputs": []
    },
    {
      "cell_type": "code",
      "metadata": {
        "id": "MypBpICiJI90",
        "colab_type": "code",
        "colab": {}
      },
      "source": [
        "class SoftmaxCrossentropyWithLogits(Layer):\n",
        "  def forward(self, x, y):\n",
        "      self.x = x\n",
        "      self.y = y\n",
        "      exps = np.exp(x) \n",
        "      self.softmax = exps / np.sum(exps, axis=-1, keepdims=True)\n",
        "      logits = self.softmax[np.arange(x.shape[0]),y]\n",
        "      log_likelihood = -np.log(logits)\n",
        "      loss = np.sum(log_likelihood) / x.shape[0]\n",
        "      return loss\n",
        "    \n",
        "  def backward(self, grad=None):\n",
        "      batch = self.x.shape[0]\n",
        "      grad = self.softmax\n",
        "      grad[np.arange(batch),self.y] -= 1\n",
        "      grad = grad/batch\n",
        "      return grad"
      ],
      "execution_count": 0,
      "outputs": []
    },
    {
      "cell_type": "markdown",
      "metadata": {
        "id": "OkwhQAppW84d",
        "colab_type": "text"
      },
      "source": [
        "## Creating a Mean Squared Error Class"
      ]
    },
    {
      "cell_type": "code",
      "metadata": {
        "id": "gPXYnFVqJKkQ",
        "colab_type": "code",
        "colab": {}
      },
      "source": [
        "class MSE(Layer):\n",
        "  def forward(self, x, y):\n",
        "      self.x = x\n",
        "      self.y = y\n",
        "      return ((x - y)**2) / (self.x.shape[0]*2)\n",
        "\n",
        "  def backward(self, grad=None):\n",
        "      return (self.x - self.y) / self.x.shape[0]"
      ],
      "execution_count": 0,
      "outputs": []
    },
    {
      "cell_type": "markdown",
      "metadata": {
        "id": "40EMh6SvXD4U",
        "colab_type": "text"
      },
      "source": [
        "## Creating a Linear Layer Class"
      ]
    },
    {
      "cell_type": "code",
      "metadata": {
        "id": "xRw0gry8JMu6",
        "colab_type": "code",
        "colab": {}
      },
      "source": [
        "class Linear(Layer):\n",
        "  def __init__(self, input, output, lr=0.0001):\n",
        "      self.A = 2*np.random.random((input, output)) - 1\n",
        "      self.b = 2*np.random.random((output)) - 1\n",
        "      self.lr = lr\n",
        "\n",
        "  def forward(self, x):\n",
        "      self.x = x\n",
        "      return np.dot(x,self.A) + self.b\n",
        "\n",
        "  def backward(self, grad):\n",
        "      b_grad = grad.mean(axis=0)*self.x.shape[0]\n",
        "      A_grad = np.dot(self.x.T, grad)\n",
        "      grad_input = np.dot(grad, self.A.T)\n",
        "      self.A -= A_grad * self.lr\n",
        "      self.b -= b_grad * self.lr\n",
        "      return grad_input"
      ],
      "execution_count": 0,
      "outputs": []
    },
    {
      "cell_type": "code",
      "metadata": {
        "id": "cqcP47rrJO2f",
        "colab_type": "code",
        "colab": {}
      },
      "source": [
        "class Model(Layer):\n",
        "  def __init__(self, lr=0.0001):\n",
        "      self.lr = lr\n",
        "      self.layers = [Linear(3,15, lr=self.lr), Relu(), Linear(15,1, lr=self.lr)]\n",
        "  def forward(self,x):\n",
        "      for l in self.layers:\n",
        "          x = l(x)\n",
        "      return x\n",
        "  def backward(self, grad):\n",
        "      for l in self.layers[::-1]:\n",
        "          grad = l.backward(grad)\n",
        "      return grad\n",
        "\n",
        "mm = Model()\n",
        "\n",
        "def yf(x1,x2,x3):\n",
        "    return np.array([2 * x1 + 3*x2 + 4*x3 + 5],dtype=np.float32)\n",
        "\n",
        "loss = MSE()\n",
        "\n",
        "for i in range(20000):\n",
        "    x1 = np.random.random()*30\n",
        "    x2 = np.random.random()*20\n",
        "    x3 = np.random.random()*11\n",
        "    y = mm(np.array([[x1,x2,x3]]))\n",
        "    err = loss(y, yf(x1,x2,x3))   \n",
        "    yb = loss.backward()\n",
        "    yb = mm.backward(yb)"
      ],
      "execution_count": 0,
      "outputs": []
    },
    {
      "cell_type": "code",
      "metadata": {
        "id": "1EzM0nnkJTvH",
        "colab_type": "code",
        "outputId": "6c30982b-5a6f-40f0-803d-f6d5841881ef",
        "colab": {
          "base_uri": "https://localhost:8080/",
          "height": 403,
          "referenced_widgets": [
            "22acdf88e2a14f8aabcd8cfd56c31955",
            "9c92a87571184ece87dd2cb3ad50c6b6",
            "18da7a953d41454099a5b5094297b2a4",
            "33fc5304e4624383b0d228c5daf79ccf",
            "d024d8eaf13a4e0cb6e52d6771575b2f",
            "c3fbe528cb914475915e4424a10be42e",
            "16e277c1377f4c7fbf6a6708e2834043",
            "8b520afe6fe84dee9693faf3c2d43b7f",
            "6fdbf3ff855042f08dd04d3e96548797",
            "b71e248bd8e64b36a345952c287ab4d4",
            "40119f7fb7b84ea6b923d105c4634432",
            "af23328b58db49ffa760deb161e561aa",
            "56ed71a611a24bf49986811a99787040",
            "1aee30c5a234401fac8e42450bd8f0f6",
            "9ee2dfcb3e8b4be1ad4b1516cd7e95bf",
            "b71a9583b085477fa4d3994cb709e9a2",
            "7c1b1b459f7c44a19a47e16ac5bcc7f3",
            "e82c7528fa8a46eabefef3098f9db3aa",
            "9a6f17dc337a456a87a05a6ba3efc8f7",
            "5afda16a5e6b469891f52932a3004fb8",
            "9cdf5044e8304bee9d6874ce17a08bb5",
            "3522f3c434864fc3adb9fdd4cea5836b",
            "8ff997bfc3124392b57c04d22b81e3d7",
            "e7a38d8b1ad1424a88d0fe4287504a7f",
            "5e09c92c7ec74320aca11dc375d073cb",
            "cf5c99b0c95140cbb5d342738e99b852",
            "b0790dcf449e4dad8352dae0f60c0996",
            "53cda772c77845f39343116d767e9c73",
            "9e67d7f077544d0f9ad92d24a7d67398",
            "cb3fed1a5d28491d93e8d5d3ef1933cc",
            "6045fa9a748a46e99c2c2fd8c3df97bd",
            "967f6386140f41c293986d8cbf7c2c15"
          ]
        }
      },
      "source": [
        "class Model(Layer):\n",
        "    def __init__(self, lr=0.00001):\n",
        "        self.lr = lr\n",
        "        self.layers = [Linear(784,100, lr=self.lr), Relu(), Linear(100,200, lr=self.lr), Relu(), Linear(200,10, lr=self.lr)]\n",
        "\n",
        "    def forward(self,x):\n",
        "        for l in self.layers:\n",
        "            x = l(x)\n",
        "        return x\n",
        "\n",
        "    def backward(self, grad):\n",
        "        for l in self.layers[::-1]:\n",
        "            grad = l.backward(grad)\n",
        "        return grad\n",
        "\n",
        "\n",
        "simple = transforms.Compose([transforms.ToTensor()])\n",
        "ds = MNIST('./mnist', download=True, transform=simple)\n",
        "ld = DataLoader(ds, batch_size=2, pin_memory=True, drop_last=True) \n",
        "\n",
        "mm = Model()\n",
        "loss = SoftmaxCrossentropyWithLogits()\n",
        "_loss_avg = 0 \n",
        "\n",
        "for e in range(5):\n",
        "    for i, (img, label) in enumerate(ld):\n",
        "        x = img.view(2,-1).numpy()\n",
        "        res = mm(x)\n",
        "        _loss = loss(res, label.numpy())\n",
        "        _loss_avg += _loss.mean() # running loss mean\n",
        "        grad = loss.backward(1)\n",
        "        mm.backward(grad)"
      ],
      "execution_count": 0,
      "outputs": [
        {
          "output_type": "stream",
          "text": [
            "Downloading http://yann.lecun.com/exdb/mnist/train-images-idx3-ubyte.gz to ./mnist/MNIST/raw/train-images-idx3-ubyte.gz\n"
          ],
          "name": "stdout"
        },
        {
          "output_type": "display_data",
          "data": {
            "application/vnd.jupyter.widget-view+json": {
              "model_id": "22acdf88e2a14f8aabcd8cfd56c31955",
              "version_minor": 0,
              "version_major": 2
            },
            "text/plain": [
              "HBox(children=(FloatProgress(value=1.0, bar_style='info', max=1.0), HTML(value='')))"
            ]
          },
          "metadata": {
            "tags": []
          }
        },
        {
          "output_type": "stream",
          "text": [
            "Extracting ./mnist/MNIST/raw/train-images-idx3-ubyte.gz to ./mnist/MNIST/raw\n",
            "Downloading http://yann.lecun.com/exdb/mnist/train-labels-idx1-ubyte.gz to ./mnist/MNIST/raw/train-labels-idx1-ubyte.gz\n"
          ],
          "name": "stdout"
        },
        {
          "output_type": "display_data",
          "data": {
            "application/vnd.jupyter.widget-view+json": {
              "model_id": "6fdbf3ff855042f08dd04d3e96548797",
              "version_minor": 0,
              "version_major": 2
            },
            "text/plain": [
              "HBox(children=(FloatProgress(value=1.0, bar_style='info', max=1.0), HTML(value='')))"
            ]
          },
          "metadata": {
            "tags": []
          }
        },
        {
          "output_type": "stream",
          "text": [
            "Extracting ./mnist/MNIST/raw/train-labels-idx1-ubyte.gz to ./mnist/MNIST/raw\n",
            "Downloading http://yann.lecun.com/exdb/mnist/t10k-images-idx3-ubyte.gz to ./mnist/MNIST/raw/t10k-images-idx3-ubyte.gz\n"
          ],
          "name": "stdout"
        },
        {
          "output_type": "display_data",
          "data": {
            "application/vnd.jupyter.widget-view+json": {
              "model_id": "7c1b1b459f7c44a19a47e16ac5bcc7f3",
              "version_minor": 0,
              "version_major": 2
            },
            "text/plain": [
              "HBox(children=(FloatProgress(value=1.0, bar_style='info', max=1.0), HTML(value='')))"
            ]
          },
          "metadata": {
            "tags": []
          }
        },
        {
          "output_type": "stream",
          "text": [
            "Extracting ./mnist/MNIST/raw/t10k-images-idx3-ubyte.gz to ./mnist/MNIST/raw\n",
            "Downloading http://yann.lecun.com/exdb/mnist/t10k-labels-idx1-ubyte.gz to ./mnist/MNIST/raw/t10k-labels-idx1-ubyte.gz\n"
          ],
          "name": "stdout"
        },
        {
          "output_type": "display_data",
          "data": {
            "application/vnd.jupyter.widget-view+json": {
              "model_id": "5e09c92c7ec74320aca11dc375d073cb",
              "version_minor": 0,
              "version_major": 2
            },
            "text/plain": [
              "HBox(children=(FloatProgress(value=1.0, bar_style='info', max=1.0), HTML(value='')))"
            ]
          },
          "metadata": {
            "tags": []
          }
        },
        {
          "output_type": "stream",
          "text": [
            "Extracting ./mnist/MNIST/raw/t10k-labels-idx1-ubyte.gz to ./mnist/MNIST/raw\n",
            "Processing...\n",
            "Done!\n",
            "\n",
            "\n",
            "\n"
          ],
          "name": "stdout"
        },
        {
          "output_type": "stream",
          "text": [
            "/pytorch/torch/csrc/utils/tensor_numpy.cpp:141: UserWarning: The given NumPy array is not writeable, and PyTorch does not support non-writeable tensors. This means you can write to the underlying (supposedly non-writeable) NumPy array using the tensor. You may want to copy the array to protect its data or make it writeable before converting it to a tensor. This type of warning will be suppressed for the rest of this program.\n"
          ],
          "name": "stderr"
        }
      ]
    },
    {
      "cell_type": "code",
      "metadata": {
        "id": "3nSprNQ4JbiK",
        "colab_type": "code",
        "outputId": "4388732c-ab4d-4a3e-956a-5926c03542ea",
        "colab": {
          "base_uri": "https://localhost:8080/",
          "height": 812
        }
      },
      "source": [
        "for i in range(3):\n",
        "    img, target = ds[i]\n",
        "    plt.imshow(img[0])\n",
        "    plt.show()\n",
        "    x = img.view(1,-1).numpy()\n",
        "    res = mm(x)[0]\n",
        "    pred = np.argmax(res)\n",
        "    print(f'target: {target} predicted: {pred}' )"
      ],
      "execution_count": 0,
      "outputs": [
        {
          "output_type": "display_data",
          "data": {
            "image/png": "[encoded data removed]",
            "text/plain": [
              "<Figure size 432x288 with 1 Axes>"
            ]
          },
          "metadata": {
            "tags": [],
            "needs_background": "light"
          }
        },
        {
          "output_type": "stream",
          "text": [
            "target: 5 predicted: 5\n"
          ],
          "name": "stdout"
        },
        {
          "output_type": "display_data",
          "data": {
            "image/png": "[encoded data removed]",
            "text/plain": [
              "<Figure size 432x288 with 1 Axes>"
            ]
          },
          "metadata": {
            "tags": [],
            "needs_background": "light"
          }
        },
        {
          "output_type": "stream",
          "text": [
            "target: 0 predicted: 0\n"
          ],
          "name": "stdout"
        },
        {
          "output_type": "display_data",
          "data": {
            "image/png": "[encoded data removed]",
            "text/plain": [
              "<Figure size 432x288 with 1 Axes>"
            ]
          },
          "metadata": {
            "tags": [],
            "needs_background": "light"
          }
        },
        {
          "output_type": "stream",
          "text": [
            "target: 4 predicted: 4\n"
          ],
          "name": "stdout"
        }
      ]
    }
  ]
}