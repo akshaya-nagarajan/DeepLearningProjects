{
  "nbformat": 4,
  "nbformat_minor": 0,
  "metadata": {
    "colab": {
      "name": "DLAssignment2_LogisticRegression.ipynb",
      "provenance": [],
      "collapsed_sections": [],
      "authorship_tag": "ABX9TyMa/4vYO743B2rzuoFILpbQ",
      "include_colab_link": true
    },
    "kernelspec": {
      "name": "python3",
      "display_name": "Python 3"
    }
  },
  "cells": [
    {
      "cell_type": "markdown",
      "metadata": {
        "id": "view-in-github",
        "colab_type": "text"
      },
      "source": [
        "<a href=\"https://colab.research.google.com/github/akshaya-nagarajan/DeepLearningProjects/blob/master/Assignment_2/DLAssignment2_LogisticRegression.ipynb\" target=\"_parent\"><img src=\"https://colab.research.google.com/assets/colab-badge.svg\" alt=\"Open In Colab\"/></a>"
      ]
    },
    {
      "cell_type": "markdown",
      "metadata": {
        "id": "lsCllYOsavXf",
        "colab_type": "text"
      },
      "source": [
        "## Import the libraries"
      ]
    },
    {
      "cell_type": "code",
      "metadata": {
        "id": "m_JwBNbutHSz",
        "colab_type": "code",
        "outputId": "2102e625-cbe8-402d-bfc7-8a89664b6a8b",
        "colab": {
          "base_uri": "https://localhost:8080/",
          "height": 69
        }
      },
      "source": [
        "import seaborn as sns\n",
        "import numpy as np\n",
        "\n",
        "from sklearn.model_selection import train_test_split\n",
        "\n",
        "from keras.layers.core import Dense, Activation, Dropout\n",
        "from keras.utils import np_utils\n",
        "from keras.models import Sequential, model_from_json\n",
        "from keras.optimizers import RMSprop\n",
        "from keras.optimizers import SGD\n",
        "from keras.regularizers import L1L2"
      ],
      "execution_count": 0,
      "outputs": [
        {
          "output_type": "stream",
          "text": [
            "/usr/local/lib/python3.6/dist-packages/statsmodels/tools/_testing.py:19: FutureWarning: pandas.util.testing is deprecated. Use the functions in the public API at pandas.testing instead.\n",
            "  import pandas.util.testing as tm\n",
            "Using TensorFlow backend.\n"
          ],
          "name": "stderr"
        }
      ]
    },
    {
      "cell_type": "markdown",
      "metadata": {
        "id": "zur-xktPbDgT",
        "colab_type": "text"
      },
      "source": [
        "## Seaborn dataset direct download for Diamond Dataset"
      ]
    },
    {
      "cell_type": "code",
      "metadata": {
        "id": "6W_KNccFtJ9Y",
        "colab_type": "code",
        "colab": {}
      },
      "source": [
        "diamond_dataset = sns.load_dataset(\"diamonds\")"
      ],
      "execution_count": 0,
      "outputs": []
    },
    {
      "cell_type": "markdown",
      "metadata": {
        "id": "XeQ9Vs8dbNRa",
        "colab_type": "text"
      },
      "source": [
        "## Displaying the top 5 rows in the dataset"
      ]
    },
    {
      "cell_type": "code",
      "metadata": {
        "id": "1ycYGxwzu06w",
        "colab_type": "code",
        "outputId": "78eacf1a-536d-4f22-e608-7bba4f49d855",
        "colab": {
          "base_uri": "https://localhost:8080/",
          "height": 202
        }
      },
      "source": [
        "diamond_dataset.head(5)"
      ],
      "execution_count": 0,
      "outputs": [
        {
          "output_type": "execute_result",
          "data": {
            "text/html": [
              "<div>\n",
              "<style scoped>\n",
              "    .dataframe tbody tr th:only-of-type {\n",
              "        vertical-align: middle;\n",
              "    }\n",
              "\n",
              "    .dataframe tbody tr th {\n",
              "        vertical-align: top;\n",
              "    }\n",
              "\n",
              "    .dataframe thead th {\n",
              "        text-align: right;\n",
              "    }\n",
              "</style>\n",
              "<table border=\"1\" class=\"dataframe\">\n",
              "  <thead>\n",
              "    <tr style=\"text-align: right;\">\n",
              "      <th></th>\n",
              "      <th>carat</th>\n",
              "      <th>cut</th>\n",
              "      <th>color</th>\n",
              "      <th>clarity</th>\n",
              "      <th>depth</th>\n",
              "      <th>table</th>\n",
              "      <th>price</th>\n",
              "      <th>x</th>\n",
              "      <th>y</th>\n",
              "      <th>z</th>\n",
              "    </tr>\n",
              "  </thead>\n",
              "  <tbody>\n",
              "    <tr>\n",
              "      <th>0</th>\n",
              "      <td>0.23</td>\n",
              "      <td>Ideal</td>\n",
              "      <td>E</td>\n",
              "      <td>SI2</td>\n",
              "      <td>61.5</td>\n",
              "      <td>55.0</td>\n",
              "      <td>326</td>\n",
              "      <td>3.95</td>\n",
              "      <td>3.98</td>\n",
              "      <td>2.43</td>\n",
              "    </tr>\n",
              "    <tr>\n",
              "      <th>1</th>\n",
              "      <td>0.21</td>\n",
              "      <td>Premium</td>\n",
              "      <td>E</td>\n",
              "      <td>SI1</td>\n",
              "      <td>59.8</td>\n",
              "      <td>61.0</td>\n",
              "      <td>326</td>\n",
              "      <td>3.89</td>\n",
              "      <td>3.84</td>\n",
              "      <td>2.31</td>\n",
              "    </tr>\n",
              "    <tr>\n",
              "      <th>2</th>\n",
              "      <td>0.23</td>\n",
              "      <td>Good</td>\n",
              "      <td>E</td>\n",
              "      <td>VS1</td>\n",
              "      <td>56.9</td>\n",
              "      <td>65.0</td>\n",
              "      <td>327</td>\n",
              "      <td>4.05</td>\n",
              "      <td>4.07</td>\n",
              "      <td>2.31</td>\n",
              "    </tr>\n",
              "    <tr>\n",
              "      <th>3</th>\n",
              "      <td>0.29</td>\n",
              "      <td>Premium</td>\n",
              "      <td>I</td>\n",
              "      <td>VS2</td>\n",
              "      <td>62.4</td>\n",
              "      <td>58.0</td>\n",
              "      <td>334</td>\n",
              "      <td>4.20</td>\n",
              "      <td>4.23</td>\n",
              "      <td>2.63</td>\n",
              "    </tr>\n",
              "    <tr>\n",
              "      <th>4</th>\n",
              "      <td>0.31</td>\n",
              "      <td>Good</td>\n",
              "      <td>J</td>\n",
              "      <td>SI2</td>\n",
              "      <td>63.3</td>\n",
              "      <td>58.0</td>\n",
              "      <td>335</td>\n",
              "      <td>4.34</td>\n",
              "      <td>4.35</td>\n",
              "      <td>2.75</td>\n",
              "    </tr>\n",
              "  </tbody>\n",
              "</table>\n",
              "</div>"
            ],
            "text/plain": [
              "   carat      cut color clarity  depth  table  price     x     y     z\n",
              "0   0.23    Ideal     E     SI2   61.5   55.0    326  3.95  3.98  2.43\n",
              "1   0.21  Premium     E     SI1   59.8   61.0    326  3.89  3.84  2.31\n",
              "2   0.23     Good     E     VS1   56.9   65.0    327  4.05  4.07  2.31\n",
              "3   0.29  Premium     I     VS2   62.4   58.0    334  4.20  4.23  2.63\n",
              "4   0.31     Good     J     SI2   63.3   58.0    335  4.34  4.35  2.75"
            ]
          },
          "metadata": {
            "tags": []
          },
          "execution_count": 3
        }
      ]
    },
    {
      "cell_type": "markdown",
      "metadata": {
        "id": "GAHHziqIbSi0",
        "colab_type": "text"
      },
      "source": [
        "## Printing the minimum, maximum and mean in the price values. This is done to make a equal number of split for 0 and 1 binary classes."
      ]
    },
    {
      "cell_type": "code",
      "metadata": {
        "id": "dtAAx1zdFVBx",
        "colab_type": "code",
        "outputId": "7deb7240-25e5-4508-d89c-98960eae550c",
        "colab": {
          "base_uri": "https://localhost:8080/",
          "height": 69
        }
      },
      "source": [
        "print(diamond_dataset.price.min())\n",
        "print(diamond_dataset.price.max())\n",
        "print(diamond_dataset.price.mean())"
      ],
      "execution_count": 0,
      "outputs": [
        {
          "output_type": "stream",
          "text": [
            "326\n",
            "18823\n",
            "3932.799721913237\n"
          ],
          "name": "stdout"
        }
      ]
    },
    {
      "cell_type": "markdown",
      "metadata": {
        "id": "zDOFsKfubazA",
        "colab_type": "text"
      },
      "source": [
        "## Creating binary Labels to perform Logistic Regression"
      ]
    },
    {
      "cell_type": "code",
      "metadata": {
        "id": "jK3TtFm4GO6-",
        "colab_type": "code",
        "colab": {}
      },
      "source": [
        "def priceLabel(value):\n",
        "  if value < 9000:\n",
        "    return 0\n",
        "  else:\n",
        "    return 1"
      ],
      "execution_count": 0,
      "outputs": []
    },
    {
      "cell_type": "markdown",
      "metadata": {
        "id": "6ZYPzE2ybtXc",
        "colab_type": "text"
      },
      "source": [
        "## Adding the binary values as labels Column to the dataset"
      ]
    },
    {
      "cell_type": "code",
      "metadata": {
        "id": "hPibSIPAF_Wg",
        "colab_type": "code",
        "colab": {}
      },
      "source": [
        "diamond_dataset['priceLabel'] = diamond_dataset['price'].apply(priceLabel)"
      ],
      "execution_count": 0,
      "outputs": []
    },
    {
      "cell_type": "markdown",
      "metadata": {
        "id": "wP7mpRBCbzET",
        "colab_type": "text"
      },
      "source": [
        "## Dropping the unnecessary Columns"
      ]
    },
    {
      "cell_type": "code",
      "metadata": {
        "id": "mp7qn9AmHz4z",
        "colab_type": "code",
        "colab": {}
      },
      "source": [
        "diamond_dataset.drop('price', axis=1, inplace=True)"
      ],
      "execution_count": 0,
      "outputs": []
    },
    {
      "cell_type": "markdown",
      "metadata": {
        "id": "1KXwgg2Wb3ZC",
        "colab_type": "text"
      },
      "source": [
        "## Changing all the categorical columns to numerical columns"
      ]
    },
    {
      "cell_type": "code",
      "metadata": {
        "id": "mqgT2Ydvyz6V",
        "colab_type": "code",
        "colab": {}
      },
      "source": [
        "diamond_dataset['cut'] = diamond_dataset['cut'].map({'Ideal':1,'Good':2,'Very Good':3,'Fair':4,'Premium':5})\n",
        "diamond_dataset['color'] = diamond_dataset['color'].map({'E':1,'D':2,'F':3,'G':4,'H':5,'I':6,'J':7})\n",
        "diamond_dataset['clarity'] = diamond_dataset['clarity'].map({'VVS1':1,'IF':2,'VVS2':3,'VS1':4,'I1':5,'VS2':6,'SI1':7,'SI2':8})"
      ],
      "execution_count": 0,
      "outputs": []
    },
    {
      "cell_type": "markdown",
      "metadata": {
        "id": "FiTgQQBpb9UC",
        "colab_type": "text"
      },
      "source": [
        "## Considering all the columns except the last one for X and Considering only the last column as target Y"
      ]
    },
    {
      "cell_type": "code",
      "metadata": {
        "id": "taqFKzD4vWyU",
        "colab_type": "code",
        "colab": {}
      },
      "source": [
        "X = diamond_dataset.values[:, diamond_dataset.columns != 'priceLabel']\n",
        "y = diamond_dataset.values[:, 9]"
      ],
      "execution_count": 0,
      "outputs": []
    },
    {
      "cell_type": "code",
      "metadata": {
        "id": "LG70rsTDv442",
        "colab_type": "code",
        "outputId": "047cdd58-3bfd-4c04-8306-12a950430190",
        "colab": {
          "base_uri": "https://localhost:8080/",
          "height": 34
        }
      },
      "source": [
        "diamond_dataset.shape"
      ],
      "execution_count": 0,
      "outputs": [
        {
          "output_type": "execute_result",
          "data": {
            "text/plain": [
              "(53940, 10)"
            ]
          },
          "metadata": {
            "tags": []
          },
          "execution_count": 10
        }
      ]
    },
    {
      "cell_type": "code",
      "metadata": {
        "id": "ShOdHMlFHLbm",
        "colab_type": "code",
        "outputId": "46113baa-0767-4ddc-a831-fde06839094c",
        "colab": {
          "base_uri": "https://localhost:8080/",
          "height": 202
        }
      },
      "source": [
        "diamond_dataset.head(5)"
      ],
      "execution_count": 0,
      "outputs": [
        {
          "output_type": "execute_result",
          "data": {
            "text/html": [
              "<div>\n",
              "<style scoped>\n",
              "    .dataframe tbody tr th:only-of-type {\n",
              "        vertical-align: middle;\n",
              "    }\n",
              "\n",
              "    .dataframe tbody tr th {\n",
              "        vertical-align: top;\n",
              "    }\n",
              "\n",
              "    .dataframe thead th {\n",
              "        text-align: right;\n",
              "    }\n",
              "</style>\n",
              "<table border=\"1\" class=\"dataframe\">\n",
              "  <thead>\n",
              "    <tr style=\"text-align: right;\">\n",
              "      <th></th>\n",
              "      <th>carat</th>\n",
              "      <th>cut</th>\n",
              "      <th>color</th>\n",
              "      <th>clarity</th>\n",
              "      <th>depth</th>\n",
              "      <th>table</th>\n",
              "      <th>x</th>\n",
              "      <th>y</th>\n",
              "      <th>z</th>\n",
              "      <th>priceLabel</th>\n",
              "    </tr>\n",
              "  </thead>\n",
              "  <tbody>\n",
              "    <tr>\n",
              "      <th>0</th>\n",
              "      <td>0.23</td>\n",
              "      <td>1</td>\n",
              "      <td>1</td>\n",
              "      <td>8</td>\n",
              "      <td>61.5</td>\n",
              "      <td>55.0</td>\n",
              "      <td>3.95</td>\n",
              "      <td>3.98</td>\n",
              "      <td>2.43</td>\n",
              "      <td>0</td>\n",
              "    </tr>\n",
              "    <tr>\n",
              "      <th>1</th>\n",
              "      <td>0.21</td>\n",
              "      <td>5</td>\n",
              "      <td>1</td>\n",
              "      <td>7</td>\n",
              "      <td>59.8</td>\n",
              "      <td>61.0</td>\n",
              "      <td>3.89</td>\n",
              "      <td>3.84</td>\n",
              "      <td>2.31</td>\n",
              "      <td>0</td>\n",
              "    </tr>\n",
              "    <tr>\n",
              "      <th>2</th>\n",
              "      <td>0.23</td>\n",
              "      <td>2</td>\n",
              "      <td>1</td>\n",
              "      <td>4</td>\n",
              "      <td>56.9</td>\n",
              "      <td>65.0</td>\n",
              "      <td>4.05</td>\n",
              "      <td>4.07</td>\n",
              "      <td>2.31</td>\n",
              "      <td>0</td>\n",
              "    </tr>\n",
              "    <tr>\n",
              "      <th>3</th>\n",
              "      <td>0.29</td>\n",
              "      <td>5</td>\n",
              "      <td>6</td>\n",
              "      <td>6</td>\n",
              "      <td>62.4</td>\n",
              "      <td>58.0</td>\n",
              "      <td>4.20</td>\n",
              "      <td>4.23</td>\n",
              "      <td>2.63</td>\n",
              "      <td>0</td>\n",
              "    </tr>\n",
              "    <tr>\n",
              "      <th>4</th>\n",
              "      <td>0.31</td>\n",
              "      <td>2</td>\n",
              "      <td>7</td>\n",
              "      <td>8</td>\n",
              "      <td>63.3</td>\n",
              "      <td>58.0</td>\n",
              "      <td>4.34</td>\n",
              "      <td>4.35</td>\n",
              "      <td>2.75</td>\n",
              "      <td>0</td>\n",
              "    </tr>\n",
              "  </tbody>\n",
              "</table>\n",
              "</div>"
            ],
            "text/plain": [
              "   carat  cut  color  clarity  depth  table     x     y     z  priceLabel\n",
              "0   0.23    1      1        8   61.5   55.0  3.95  3.98  2.43           0\n",
              "1   0.21    5      1        7   59.8   61.0  3.89  3.84  2.31           0\n",
              "2   0.23    2      1        4   56.9   65.0  4.05  4.07  2.31           0\n",
              "3   0.29    5      6        6   62.4   58.0  4.20  4.23  2.63           0\n",
              "4   0.31    2      7        8   63.3   58.0  4.34  4.35  2.75           0"
            ]
          },
          "metadata": {
            "tags": []
          },
          "execution_count": 11
        }
      ]
    },
    {
      "cell_type": "markdown",
      "metadata": {
        "id": "BumCgoYBcHdg",
        "colab_type": "text"
      },
      "source": [
        "## Printing the shapes"
      ]
    },
    {
      "cell_type": "code",
      "metadata": {
        "id": "7Oi2aQiOvkMD",
        "colab_type": "code",
        "outputId": "2aff0587-64c2-4cc3-a19e-be89ace17f65",
        "colab": {
          "base_uri": "https://localhost:8080/",
          "height": 34
        }
      },
      "source": [
        "X.shape"
      ],
      "execution_count": 0,
      "outputs": [
        {
          "output_type": "execute_result",
          "data": {
            "text/plain": [
              "(53940, 9)"
            ]
          },
          "metadata": {
            "tags": []
          },
          "execution_count": 12
        }
      ]
    },
    {
      "cell_type": "code",
      "metadata": {
        "id": "SF_HqunXG7bS",
        "colab_type": "code",
        "outputId": "668b868f-47da-43e6-d7dc-12ca8ba08bfe",
        "colab": {
          "base_uri": "https://localhost:8080/",
          "height": 34
        }
      },
      "source": [
        "X[0, :]"
      ],
      "execution_count": 0,
      "outputs": [
        {
          "output_type": "execute_result",
          "data": {
            "text/plain": [
              "array([ 0.23,  1.  ,  1.  ,  8.  , 61.5 , 55.  ,  3.95,  3.98,  2.43])"
            ]
          },
          "metadata": {
            "tags": []
          },
          "execution_count": 13
        }
      ]
    },
    {
      "cell_type": "code",
      "metadata": {
        "id": "tjurbBUFvngI",
        "colab_type": "code",
        "outputId": "f9df491e-6f05-4c4e-e963-46cc06efae4a",
        "colab": {
          "base_uri": "https://localhost:8080/",
          "height": 34
        }
      },
      "source": [
        "y.shape"
      ],
      "execution_count": 0,
      "outputs": [
        {
          "output_type": "execute_result",
          "data": {
            "text/plain": [
              "(53940,)"
            ]
          },
          "metadata": {
            "tags": []
          },
          "execution_count": 14
        }
      ]
    },
    {
      "cell_type": "markdown",
      "metadata": {
        "id": "cqyXmCNbcJ0X",
        "colab_type": "text"
      },
      "source": [
        "## Making a Train-Test Split"
      ]
    },
    {
      "cell_type": "code",
      "metadata": {
        "id": "33K6vCKWv-Y2",
        "colab_type": "code",
        "colab": {}
      },
      "source": [
        "train_X, test_X, train_y, test_y = train_test_split(X, y, train_size=0.8, random_state=42)"
      ],
      "execution_count": 0,
      "outputs": []
    },
    {
      "cell_type": "markdown",
      "metadata": {
        "id": "u7ElW7A2cNDx",
        "colab_type": "text"
      },
      "source": [
        "## Creating a sequential model with multiple Dense Relu, Sigmoid layers and Dropouts"
      ]
    },
    {
      "cell_type": "code",
      "metadata": {
        "id": "MLgLVCtewIuF",
        "colab_type": "code",
        "outputId": "59fa5a75-5d80-48d1-8db9-091b4c390436",
        "colab": {
          "base_uri": "https://localhost:8080/",
          "height": 1000
        }
      },
      "source": [
        "opt = SGD(lr=0.01)\n",
        "\n",
        "model = Sequential()\n",
        "\n",
        "model.add(Dense(256, activation='relu', input_shape=(9,)))\n",
        "model.add(Dense(256, activation='relu'))\n",
        "# model.add(Dense(256, activation='relu', kernel_regularizer=L1L2(l1=0.0, l2=0.1)))\n",
        "model.add(Dropout(0.25))\n",
        "model.add(Dense(1, activation='relu'))\n",
        "model.add(Dropout(0.25))\n",
        "model.add(Dense(1, activation='sigmoid'))\n",
        "\n",
        "model.summary()\n",
        "\n",
        "model.compile(loss='binary_crossentropy', optimizer='RMSProp', metrics=['binary_accuracy'])\n",
        "# model.compile(loss='binary_crossentropy', optimizer='adam', metrics=['accuracy'])\n",
        "# model.compile(loss='binary_crossentropy', optimizer=opt, metrics=['accuracy'])\n",
        "\n",
        "history = model.fit(train_X, train_y, batch_size=256, epochs=50, verbose=1)\n",
        "\n",
        "test = model.evaluate(test_X, test_y, verbose=1)"
      ],
      "execution_count": 0,
      "outputs": [
        {
          "output_type": "stream",
          "text": [
            "Model: \"sequential_1\"\n",
            "_________________________________________________________________\n",
            "Layer (type)                 Output Shape              Param #   \n",
            "=================================================================\n",
            "dense_1 (Dense)              (None, 256)               2560      \n",
            "_________________________________________________________________\n",
            "dense_2 (Dense)              (None, 256)               65792     \n",
            "_________________________________________________________________\n",
            "dropout_1 (Dropout)          (None, 256)               0         \n",
            "_________________________________________________________________\n",
            "dense_3 (Dense)              (None, 1)                 257       \n",
            "_________________________________________________________________\n",
            "dropout_2 (Dropout)          (None, 1)                 0         \n",
            "_________________________________________________________________\n",
            "dense_4 (Dense)              (None, 1)                 2         \n",
            "=================================================================\n",
            "Total params: 68,611\n",
            "Trainable params: 68,611\n",
            "Non-trainable params: 0\n",
            "_________________________________________________________________\n",
            "Epoch 1/50\n",
            "43152/43152 [==============================] - 2s 37us/step - loss: 0.6730 - binary_accuracy: 0.8811\n",
            "Epoch 2/50\n",
            "43152/43152 [==============================] - 1s 27us/step - loss: 0.6027 - binary_accuracy: 0.8829\n",
            "Epoch 3/50\n",
            "43152/43152 [==============================] - 1s 23us/step - loss: 0.5530 - binary_accuracy: 0.8829\n",
            "Epoch 4/50\n",
            "43152/43152 [==============================] - 1s 23us/step - loss: 0.5098 - binary_accuracy: 0.8829\n",
            "Epoch 5/50\n",
            "43152/43152 [==============================] - 1s 25us/step - loss: 0.4729 - binary_accuracy: 0.8829\n",
            "Epoch 6/50\n",
            "43152/43152 [==============================] - 1s 27us/step - loss: 0.4423 - binary_accuracy: 0.8829\n",
            "Epoch 7/50\n",
            "43152/43152 [==============================] - 1s 24us/step - loss: 0.4175 - binary_accuracy: 0.8829\n",
            "Epoch 8/50\n",
            "43152/43152 [==============================] - 1s 28us/step - loss: 0.3979 - binary_accuracy: 0.8829\n",
            "Epoch 9/50\n",
            "43152/43152 [==============================] - 1s 29us/step - loss: 0.3831 - binary_accuracy: 0.8829\n",
            "Epoch 10/50\n",
            "43152/43152 [==============================] - 1s 25us/step - loss: 0.3726 - binary_accuracy: 0.8829\n",
            "Epoch 11/50\n",
            "43152/43152 [==============================] - 1s 27us/step - loss: 0.3660 - binary_accuracy: 0.8829\n",
            "Epoch 12/50\n",
            "43152/43152 [==============================] - 1s 27us/step - loss: 0.3626 - binary_accuracy: 0.8829\n",
            "Epoch 13/50\n",
            "43152/43152 [==============================] - 1s 24us/step - loss: 0.3614 - binary_accuracy: 0.8829\n",
            "Epoch 14/50\n",
            "43152/43152 [==============================] - 1s 24us/step - loss: 0.3611 - binary_accuracy: 0.8829\n",
            "Epoch 15/50\n",
            "43152/43152 [==============================] - 1s 24us/step - loss: 0.3611 - binary_accuracy: 0.8829\n",
            "Epoch 16/50\n",
            "43152/43152 [==============================] - 1s 22us/step - loss: 0.3611 - binary_accuracy: 0.8829\n",
            "Epoch 17/50\n",
            "43152/43152 [==============================] - 1s 24us/step - loss: 0.3611 - binary_accuracy: 0.8829\n",
            "Epoch 18/50\n",
            "43152/43152 [==============================] - 1s 26us/step - loss: 0.3611 - binary_accuracy: 0.8829\n",
            "Epoch 19/50\n",
            "43152/43152 [==============================] - 1s 26us/step - loss: 0.3611 - binary_accuracy: 0.8829\n",
            "Epoch 20/50\n",
            "43152/43152 [==============================] - 1s 26us/step - loss: 0.3611 - binary_accuracy: 0.8829\n",
            "Epoch 21/50\n",
            "43152/43152 [==============================] - 1s 26us/step - loss: 0.3611 - binary_accuracy: 0.8829\n",
            "Epoch 22/50\n",
            "43152/43152 [==============================] - 1s 25us/step - loss: 0.3611 - binary_accuracy: 0.8829\n",
            "Epoch 23/50\n",
            "43152/43152 [==============================] - 1s 23us/step - loss: 0.3611 - binary_accuracy: 0.8829\n",
            "Epoch 24/50\n",
            "43152/43152 [==============================] - 1s 27us/step - loss: 0.3611 - binary_accuracy: 0.8829\n",
            "Epoch 25/50\n",
            "43152/43152 [==============================] - 1s 26us/step - loss: 0.3611 - binary_accuracy: 0.8829\n",
            "Epoch 26/50\n",
            "43152/43152 [==============================] - 1s 26us/step - loss: 0.3611 - binary_accuracy: 0.8829\n",
            "Epoch 27/50\n",
            "43152/43152 [==============================] - 1s 24us/step - loss: 0.3611 - binary_accuracy: 0.8829\n",
            "Epoch 28/50\n",
            "43152/43152 [==============================] - 1s 23us/step - loss: 0.3611 - binary_accuracy: 0.8829\n",
            "Epoch 29/50\n",
            "43152/43152 [==============================] - 1s 24us/step - loss: 0.3611 - binary_accuracy: 0.8829\n",
            "Epoch 30/50\n",
            "43152/43152 [==============================] - 1s 26us/step - loss: 0.3611 - binary_accuracy: 0.8829\n",
            "Epoch 31/50\n",
            "43152/43152 [==============================] - 1s 23us/step - loss: 0.3611 - binary_accuracy: 0.8829\n",
            "Epoch 32/50\n",
            "43152/43152 [==============================] - 1s 23us/step - loss: 0.3611 - binary_accuracy: 0.8829\n",
            "Epoch 33/50\n",
            "43152/43152 [==============================] - 1s 26us/step - loss: 0.3611 - binary_accuracy: 0.8829\n",
            "Epoch 34/50\n",
            "43152/43152 [==============================] - 1s 27us/step - loss: 0.3611 - binary_accuracy: 0.8829\n",
            "Epoch 35/50\n",
            "43152/43152 [==============================] - 1s 24us/step - loss: 0.3611 - binary_accuracy: 0.8829\n",
            "Epoch 36/50\n",
            "43152/43152 [==============================] - 1s 24us/step - loss: 0.3611 - binary_accuracy: 0.8829\n",
            "Epoch 37/50\n",
            "43152/43152 [==============================] - 1s 27us/step - loss: 0.3611 - binary_accuracy: 0.8829\n",
            "Epoch 38/50\n",
            "43152/43152 [==============================] - 1s 29us/step - loss: 0.3611 - binary_accuracy: 0.8829\n",
            "Epoch 39/50\n",
            "43152/43152 [==============================] - 1s 30us/step - loss: 0.3611 - binary_accuracy: 0.8829\n",
            "Epoch 40/50\n",
            "43152/43152 [==============================] - 1s 30us/step - loss: 0.3611 - binary_accuracy: 0.8829\n",
            "Epoch 41/50\n",
            "43152/43152 [==============================] - 1s 27us/step - loss: 0.3611 - binary_accuracy: 0.8829\n",
            "Epoch 42/50\n",
            "43152/43152 [==============================] - 1s 24us/step - loss: 0.3611 - binary_accuracy: 0.8829\n",
            "Epoch 43/50\n",
            "43152/43152 [==============================] - 1s 24us/step - loss: 0.3611 - binary_accuracy: 0.8829\n",
            "Epoch 44/50\n",
            "43152/43152 [==============================] - 1s 26us/step - loss: 0.3611 - binary_accuracy: 0.8829\n",
            "Epoch 45/50\n",
            "43152/43152 [==============================] - 1s 30us/step - loss: 0.3611 - binary_accuracy: 0.8829\n",
            "Epoch 46/50\n",
            "43152/43152 [==============================] - 1s 27us/step - loss: 0.3611 - binary_accuracy: 0.8829\n",
            "Epoch 47/50\n",
            "43152/43152 [==============================] - 1s 24us/step - loss: 0.3611 - binary_accuracy: 0.8829\n",
            "Epoch 48/50\n",
            "43152/43152 [==============================] - 1s 25us/step - loss: 0.3611 - binary_accuracy: 0.8829\n",
            "Epoch 49/50\n",
            "43152/43152 [==============================] - 1s 24us/step - loss: 0.3611 - binary_accuracy: 0.8829\n",
            "Epoch 50/50\n",
            "43152/43152 [==============================] - 1s 25us/step - loss: 0.3611 - binary_accuracy: 0.8829\n",
            "10788/10788 [==============================] - 0s 27us/step\n"
          ],
          "name": "stdout"
        }
      ]
    },
    {
      "cell_type": "code",
      "metadata": {
        "id": "8NRvMxrLOiYi",
        "colab_type": "code",
        "outputId": "ad677ee1-bd16-4e4f-f142-a39944e23420",
        "colab": {
          "base_uri": "https://localhost:8080/",
          "height": 34
        }
      },
      "source": [
        "test"
      ],
      "execution_count": 0,
      "outputs": [
        {
          "output_type": "execute_result",
          "data": {
            "text/plain": [
              "[0.3580605084912884, 0.8844085931777954]"
            ]
          },
          "metadata": {
            "tags": []
          },
          "execution_count": 17
        }
      ]
    },
    {
      "cell_type": "markdown",
      "metadata": {
        "id": "HE3obK2ecbwK",
        "colab_type": "text"
      },
      "source": [
        "## Test Accuracy"
      ]
    },
    {
      "cell_type": "code",
      "metadata": {
        "id": "36B6Z-DWOi1p",
        "colab_type": "code",
        "outputId": "e2ebb645-1323-49bf-8a39-edaeee4f6487",
        "colab": {
          "base_uri": "https://localhost:8080/",
          "height": 34
        }
      },
      "source": [
        "accuracy = test[1] * 100\n",
        "print('Accuracy of Logistic Regression', accuracy)"
      ],
      "execution_count": 0,
      "outputs": [
        {
          "output_type": "stream",
          "text": [
            "Accuracy of Logistic Regression 88.44085931777954\n"
          ],
          "name": "stdout"
        }
      ]
    },
    {
      "cell_type": "markdown",
      "metadata": {
        "id": "QZY71_CnU_Fj",
        "colab_type": "text"
      },
      "source": [
        "## Visualization"
      ]
    },
    {
      "cell_type": "code",
      "metadata": {
        "id": "r4ZcxVuLSZCl",
        "colab_type": "code",
        "colab": {}
      },
      "source": [
        "from matplotlib import pyplot as plt"
      ],
      "execution_count": 0,
      "outputs": []
    },
    {
      "cell_type": "code",
      "metadata": {
        "id": "-6GSebWaR36B",
        "colab_type": "code",
        "outputId": "000503b1-57e8-41d2-9681-a428bbcb159c",
        "colab": {
          "base_uri": "https://localhost:8080/",
          "height": 278
        }
      },
      "source": [
        "plt.plot(history.history['loss'], label='Loss')\n",
        "plt.ylabel('Loss value')\n",
        "plt.yscale('log')\n",
        "plt.xlabel('No of epoch')\n",
        "plt.show()"
      ],
      "execution_count": 0,
      "outputs": [
        {
          "output_type": "display_data",
          "data": {
            "image/png": "[encoded data removed]",
            "text/plain": [
              "<Figure size 432x288 with 1 Axes>"
            ]
          },
          "metadata": {
            "tags": [],
            "needs_background": "light"
          }
        }
      ]
    },
    {
      "cell_type": "markdown",
      "metadata": {
        "id": "lPDnIb_achHL",
        "colab_type": "text"
      },
      "source": [
        "## Keras Tuner"
      ]
    },
    {
      "cell_type": "code",
      "metadata": {
        "id": "_Zwdvol7awPq",
        "colab_type": "code",
        "outputId": "ee5f5236-0f49-4d9b-f21d-f999271cd003",
        "colab": {
          "base_uri": "https://localhost:8080/",
          "height": 520
        }
      },
      "source": [
        "!pip install -U keras-tuner"
      ],
      "execution_count": 0,
      "outputs": [
        {
          "output_type": "stream",
          "text": [
            "Collecting keras-tuner\n",
            "\u001b[?25l  Downloading https://files.pythonhosted.org/packages/a7/f7/4b41b6832abf4c9bef71a664dc563adb25afc5812831667c6db572b1a261/keras-tuner-1.0.1.tar.gz (54kB)\n",
            "\r\u001b[K     |██████                          | 10kB 12.3MB/s eta 0:00:01\r\u001b[K     |████████████                    | 20kB 1.7MB/s eta 0:00:01\r\u001b[K     |██████████████████              | 30kB 2.4MB/s eta 0:00:01\r\u001b[K     |████████████████████████        | 40kB 1.7MB/s eta 0:00:01\r\u001b[K     |██████████████████████████████  | 51kB 2.0MB/s eta 0:00:01\r\u001b[K     |████████████████████████████████| 61kB 1.8MB/s \n",
            "\u001b[?25hRequirement already satisfied, skipping upgrade: future in /usr/local/lib/python3.6/dist-packages (from keras-tuner) (0.16.0)\n",
            "Requirement already satisfied, skipping upgrade: numpy in /usr/local/lib/python3.6/dist-packages (from keras-tuner) (1.18.3)\n",
            "Requirement already satisfied, skipping upgrade: tabulate in /usr/local/lib/python3.6/dist-packages (from keras-tuner) (0.8.7)\n",
            "Collecting terminaltables\n",
            "  Downloading https://files.pythonhosted.org/packages/9b/c4/4a21174f32f8a7e1104798c445dacdc1d4df86f2f26722767034e4de4bff/terminaltables-3.1.0.tar.gz\n",
            "Collecting colorama\n",
            "  Downloading https://files.pythonhosted.org/packages/c9/dc/45cdef1b4d119eb96316b3117e6d5708a08029992b2fee2c143c7a0a5cc5/colorama-0.4.3-py2.py3-none-any.whl\n",
            "Requirement already satisfied, skipping upgrade: tqdm in /usr/local/lib/python3.6/dist-packages (from keras-tuner) (4.38.0)\n",
            "Requirement already satisfied, skipping upgrade: requests in /usr/local/lib/python3.6/dist-packages (from keras-tuner) (2.23.0)\n",
            "Requirement already satisfied, skipping upgrade: scipy in /usr/local/lib/python3.6/dist-packages (from keras-tuner) (1.4.1)\n",
            "Requirement already satisfied, skipping upgrade: scikit-learn in /usr/local/lib/python3.6/dist-packages (from keras-tuner) (0.22.2.post1)\n",
            "Requirement already satisfied, skipping upgrade: chardet<4,>=3.0.2 in /usr/local/lib/python3.6/dist-packages (from requests->keras-tuner) (3.0.4)\n",
            "Requirement already satisfied, skipping upgrade: certifi>=2017.4.17 in /usr/local/lib/python3.6/dist-packages (from requests->keras-tuner) (2020.4.5.1)\n",
            "Requirement already satisfied, skipping upgrade: idna<3,>=2.5 in /usr/local/lib/python3.6/dist-packages (from requests->keras-tuner) (2.9)\n",
            "Requirement already satisfied, skipping upgrade: urllib3!=1.25.0,!=1.25.1,<1.26,>=1.21.1 in /usr/local/lib/python3.6/dist-packages (from requests->keras-tuner) (1.24.3)\n",
            "Requirement already satisfied, skipping upgrade: joblib>=0.11 in /usr/local/lib/python3.6/dist-packages (from scikit-learn->keras-tuner) (0.14.1)\n",
            "Building wheels for collected packages: keras-tuner, terminaltables\n",
            "  Building wheel for keras-tuner (setup.py) ... \u001b[?25l\u001b[?25hdone\n",
            "  Created wheel for keras-tuner: filename=keras_tuner-1.0.1-cp36-none-any.whl size=73200 sha256=77c1293767489018ec68002fbacac158dcee5520795f46697e12ec2df8f3bf4a\n",
            "  Stored in directory: /root/.cache/pip/wheels/b9/cc/62/52716b70dd90f3db12519233c3a93a5360bc672da1a10ded43\n",
            "  Building wheel for terminaltables (setup.py) ... \u001b[?25l\u001b[?25hdone\n",
            "  Created wheel for terminaltables: filename=terminaltables-3.1.0-cp36-none-any.whl size=15356 sha256=f73ed3094eae5a4e8d85f64a1268f240d252ea094b16de141b990d5dfa5a0fee\n",
            "  Stored in directory: /root/.cache/pip/wheels/30/6b/50/6c75775b681fb36cdfac7f19799888ef9d8813aff9e379663e\n",
            "Successfully built keras-tuner terminaltables\n",
            "Installing collected packages: terminaltables, colorama, keras-tuner\n",
            "Successfully installed colorama-0.4.3 keras-tuner-1.0.1 terminaltables-3.1.0\n"
          ],
          "name": "stdout"
        }
      ]
    },
    {
      "cell_type": "markdown",
      "metadata": {
        "id": "nxvEMQ5mcjol",
        "colab_type": "text"
      },
      "source": [
        "## Creating a model similar to the above model but sending the parameters for the models as an hyperparameter argument"
      ]
    },
    {
      "cell_type": "code",
      "metadata": {
        "id": "2PgKZgTVawI3",
        "colab_type": "code",
        "colab": {}
      },
      "source": [
        "from tensorflow import keras\n",
        "from tensorflow.keras import layers\n",
        "from kerastuner.tuners import RandomSearch\n",
        "\n",
        "def build_model(hp):\n",
        "    model = keras.Sequential()\n",
        "    model.add(layers.Dense(units=hp.Int('units', min_value=32, max_value=512, step=32), activation='relu', input_shape=(9,)))\n",
        "    model.add(layers.Dense(1, activation='sigmoid'))\n",
        "    model.compile(optimizer=keras.optimizers.RMSprop(hp.Choice('learning_rate', values=[1e-2, 1e-3, 1e-4])), loss='binary_crossentropy', metrics=['accuracy'])\n",
        "    return model"
      ],
      "execution_count": 0,
      "outputs": []
    },
    {
      "cell_type": "markdown",
      "metadata": {
        "id": "ZooWzDH-cvWr",
        "colab_type": "text"
      },
      "source": [
        "## Using Keras Tuner RandomSearch to get the best model. Before Tuning the model accuracy was 88%. After tuning and testing with hyperparameters, the possible accuracy that can be achieved is 96%"
      ]
    },
    {
      "cell_type": "code",
      "metadata": {
        "id": "utITwqfNbpTP",
        "colab_type": "code",
        "colab": {}
      },
      "source": [
        "tuner = RandomSearch(build_model, objective='val_accuracy', max_trials=5, executions_per_trial=3,  project_name='kerastuning-test1')"
      ],
      "execution_count": 0,
      "outputs": []
    },
    {
      "cell_type": "markdown",
      "metadata": {
        "id": "FjvSfDE5c152",
        "colab_type": "text"
      },
      "source": [
        "## Keras Tuner Summary"
      ]
    },
    {
      "cell_type": "code",
      "metadata": {
        "id": "liaEhGKCcAzU",
        "colab_type": "code",
        "outputId": "0d35915b-ad46-4e8d-904c-22b33b63401e",
        "colab": {
          "base_uri": "https://localhost:8080/",
          "height": 282
        }
      },
      "source": [
        "tuner.search_space_summary()"
      ],
      "execution_count": 0,
      "outputs": [
        {
          "output_type": "display_data",
          "data": {
            "text/html": [
              "<span style=\"color:#4527A0\"><h1 style=\"font-size:18px\">Search space summary</h1></span>"
            ],
            "text/plain": [
              "<IPython.core.display.HTML object>"
            ]
          },
          "metadata": {
            "tags": []
          }
        },
        {
          "output_type": "display_data",
          "data": {
            "text/html": [
              "<span style=\"color:cyan\"> |-Default search space size: 2</span>"
            ],
            "text/plain": [
              "<IPython.core.display.HTML object>"
            ]
          },
          "metadata": {
            "tags": []
          }
        },
        {
          "output_type": "display_data",
          "data": {
            "text/html": [
              "<span style=\"color:#7E57C2\"><h2 style=\"font-size:16px\">units (Int)</h2></span>"
            ],
            "text/plain": [
              "<IPython.core.display.HTML object>"
            ]
          },
          "metadata": {
            "tags": []
          }
        },
        {
          "output_type": "display_data",
          "data": {
            "text/html": [
              "<span style=\"color:cyan\"> |-default: None</span>"
            ],
            "text/plain": [
              "<IPython.core.display.HTML object>"
            ]
          },
          "metadata": {
            "tags": []
          }
        },
        {
          "output_type": "display_data",
          "data": {
            "text/html": [
              "<span style=\"color:blue\"> |-max_value: 512</span>"
            ],
            "text/plain": [
              "<IPython.core.display.HTML object>"
            ]
          },
          "metadata": {
            "tags": []
          }
        },
        {
          "output_type": "display_data",
          "data": {
            "text/html": [
              "<span style=\"color:cyan\"> |-min_value: 32</span>"
            ],
            "text/plain": [
              "<IPython.core.display.HTML object>"
            ]
          },
          "metadata": {
            "tags": []
          }
        },
        {
          "output_type": "display_data",
          "data": {
            "text/html": [
              "<span style=\"color:blue\"> |-sampling: None</span>"
            ],
            "text/plain": [
              "<IPython.core.display.HTML object>"
            ]
          },
          "metadata": {
            "tags": []
          }
        },
        {
          "output_type": "display_data",
          "data": {
            "text/html": [
              "<span style=\"color:cyan\"> |-step: 32</span>"
            ],
            "text/plain": [
              "<IPython.core.display.HTML object>"
            ]
          },
          "metadata": {
            "tags": []
          }
        },
        {
          "output_type": "display_data",
          "data": {
            "text/html": [
              "<span style=\"color:#7E57C2\"><h2 style=\"font-size:16px\">learning_rate (Choice)</h2></span>"
            ],
            "text/plain": [
              "<IPython.core.display.HTML object>"
            ]
          },
          "metadata": {
            "tags": []
          }
        },
        {
          "output_type": "display_data",
          "data": {
            "text/html": [
              "<span style=\"color:cyan\"> |-default: 0.01</span>"
            ],
            "text/plain": [
              "<IPython.core.display.HTML object>"
            ]
          },
          "metadata": {
            "tags": []
          }
        },
        {
          "output_type": "display_data",
          "data": {
            "text/html": [
              "<span style=\"color:blue\"> |-ordered: True</span>"
            ],
            "text/plain": [
              "<IPython.core.display.HTML object>"
            ]
          },
          "metadata": {
            "tags": []
          }
        },
        {
          "output_type": "display_data",
          "data": {
            "text/html": [
              "<span style=\"color:cyan\"> |-values: [0.01, 0.001, 0.0001]</span>"
            ],
            "text/plain": [
              "<IPython.core.display.HTML object>"
            ]
          },
          "metadata": {
            "tags": []
          }
        }
      ]
    },
    {
      "cell_type": "markdown",
      "metadata": {
        "id": "ViZjdSOrc5cw",
        "colab_type": "text"
      },
      "source": [
        "## Keras Tuner Search - Running 5 searches (Max Trail param) with 5 Epochs each"
      ]
    },
    {
      "cell_type": "code",
      "metadata": {
        "id": "gTe2RIzjcHVr",
        "colab_type": "code",
        "outputId": "70d3f2d9-84e9-40a2-9929-b027a9a8a5bb",
        "colab": {
          "base_uri": "https://localhost:8080/",
          "height": 1000
        }
      },
      "source": [
        "tuner.search(train_X, train_y, epochs=5, validation_split=0.33)"
      ],
      "execution_count": 0,
      "outputs": [
        {
          "output_type": "stream",
          "text": [
            "Epoch 1/5\n",
            "904/904 [==============================] - 2s 2ms/step - loss: 0.2649 - accuracy: 0.8909 - val_loss: 0.1905 - val_accuracy: 0.9336\n",
            "Epoch 2/5\n",
            "904/904 [==============================] - 2s 2ms/step - loss: 0.1593 - accuracy: 0.9337 - val_loss: 0.1363 - val_accuracy: 0.9327\n",
            "Epoch 3/5\n",
            "904/904 [==============================] - 2s 2ms/step - loss: 0.1226 - accuracy: 0.9551 - val_loss: 0.1083 - val_accuracy: 0.9655\n",
            "Epoch 4/5\n",
            "904/904 [==============================] - 2s 2ms/step - loss: 0.1056 - accuracy: 0.9625 - val_loss: 0.0988 - val_accuracy: 0.9709\n",
            "Epoch 5/5\n",
            "904/904 [==============================] - 2s 2ms/step - loss: 0.0965 - accuracy: 0.9666 - val_loss: 0.0987 - val_accuracy: 0.9509\n",
            "Epoch 1/5\n",
            "904/904 [==============================] - 2s 2ms/step - loss: 0.2945 - accuracy: 0.8776 - val_loss: 0.1954 - val_accuracy: 0.9109\n",
            "Epoch 2/5\n",
            "904/904 [==============================] - 2s 2ms/step - loss: 0.1677 - accuracy: 0.9280 - val_loss: 0.1410 - val_accuracy: 0.9528\n",
            "Epoch 3/5\n",
            "904/904 [==============================] - 2s 2ms/step - loss: 0.1300 - accuracy: 0.9504 - val_loss: 0.1141 - val_accuracy: 0.9525\n",
            "Epoch 4/5\n",
            "904/904 [==============================] - 2s 2ms/step - loss: 0.1107 - accuracy: 0.9602 - val_loss: 0.1009 - val_accuracy: 0.9693\n",
            "Epoch 5/5\n",
            "904/904 [==============================] - 2s 2ms/step - loss: 0.1002 - accuracy: 0.9649 - val_loss: 0.0934 - val_accuracy: 0.9601\n",
            "Epoch 1/5\n",
            "904/904 [==============================] - 2s 2ms/step - loss: 0.5245 - accuracy: 0.8443 - val_loss: 0.2202 - val_accuracy: 0.8935\n",
            "Epoch 2/5\n",
            "904/904 [==============================] - 2s 2ms/step - loss: 0.1814 - accuracy: 0.9190 - val_loss: 0.1498 - val_accuracy: 0.9495\n",
            "Epoch 3/5\n",
            "904/904 [==============================] - 2s 2ms/step - loss: 0.1350 - accuracy: 0.9467 - val_loss: 0.1167 - val_accuracy: 0.9565\n",
            "Epoch 4/5\n",
            "904/904 [==============================] - 2s 2ms/step - loss: 0.1132 - accuracy: 0.9583 - val_loss: 0.1014 - val_accuracy: 0.9652\n",
            "Epoch 5/5\n",
            "904/904 [==============================] - 2s 2ms/step - loss: 0.1013 - accuracy: 0.9649 - val_loss: 0.0928 - val_accuracy: 0.9702\n"
          ],
          "name": "stdout"
        },
        {
          "output_type": "display_data",
          "data": {
            "text/html": [
              "<span style=\"color:#4527A0\"><h1 style=\"font-size:18px\">Trial complete</h1></span>"
            ],
            "text/plain": [
              "<IPython.core.display.HTML object>"
            ]
          },
          "metadata": {
            "tags": []
          }
        },
        {
          "output_type": "display_data",
          "data": {
            "text/html": [
              "<span style=\"color:#4527A0\"><h1 style=\"font-size:18px\">Trial summary</h1></span>"
            ],
            "text/plain": [
              "<IPython.core.display.HTML object>"
            ]
          },
          "metadata": {
            "tags": []
          }
        },
        {
          "output_type": "display_data",
          "data": {
            "text/html": [
              "<span style=\"color:cyan\"> |-Trial ID: 2130cf0ef793f9b134f4afe8ec789790</span>"
            ],
            "text/plain": [
              "<IPython.core.display.HTML object>"
            ]
          },
          "metadata": {
            "tags": []
          }
        },
        {
          "output_type": "display_data",
          "data": {
            "text/html": [
              "<span style=\"color:cyan\"> |-Score: 0.9701098004976908</span>"
            ],
            "text/plain": [
              "<IPython.core.display.HTML object>"
            ]
          },
          "metadata": {
            "tags": []
          }
        },
        {
          "output_type": "display_data",
          "data": {
            "text/html": [
              "<span style=\"color:cyan\"> |-Best step: 0</span>"
            ],
            "text/plain": [
              "<IPython.core.display.HTML object>"
            ]
          },
          "metadata": {
            "tags": []
          }
        },
        {
          "output_type": "display_data",
          "data": {
            "text/html": [
              "<span style=\"color:#7E57C2\"><h2 style=\"font-size:16px\">Hyperparameters:</h2></span>"
            ],
            "text/plain": [
              "<IPython.core.display.HTML object>"
            ]
          },
          "metadata": {
            "tags": []
          }
        },
        {
          "output_type": "display_data",
          "data": {
            "text/html": [
              "<span style=\"color:cyan\"> |-learning_rate: 0.0001</span>"
            ],
            "text/plain": [
              "<IPython.core.display.HTML object>"
            ]
          },
          "metadata": {
            "tags": []
          }
        },
        {
          "output_type": "display_data",
          "data": {
            "text/html": [
              "<span style=\"color:blue\"> |-units: 224</span>"
            ],
            "text/plain": [
              "<IPython.core.display.HTML object>"
            ]
          },
          "metadata": {
            "tags": []
          }
        },
        {
          "output_type": "stream",
          "text": [
            "Epoch 1/5\n",
            "904/904 [==============================] - 2s 2ms/step - loss: 0.2144 - accuracy: 0.9144 - val_loss: 0.0818 - val_accuracy: 0.9705\n",
            "Epoch 2/5\n",
            "904/904 [==============================] - 2s 2ms/step - loss: 0.1242 - accuracy: 0.9504 - val_loss: 0.0911 - val_accuracy: 0.9558\n",
            "Epoch 3/5\n",
            "904/904 [==============================] - 2s 2ms/step - loss: 0.1075 - accuracy: 0.9567 - val_loss: 0.1223 - val_accuracy: 0.9441\n",
            "Epoch 4/5\n",
            "904/904 [==============================] - 2s 2ms/step - loss: 0.0984 - accuracy: 0.9623 - val_loss: 0.4256 - val_accuracy: 0.8959\n",
            "Epoch 5/5\n",
            "904/904 [==============================] - 2s 2ms/step - loss: 0.0923 - accuracy: 0.9631 - val_loss: 0.0652 - val_accuracy: 0.9739\n",
            "Epoch 1/5\n",
            "904/904 [==============================] - 2s 2ms/step - loss: 0.2128 - accuracy: 0.9167 - val_loss: 0.1040 - val_accuracy: 0.9464\n",
            "Epoch 2/5\n",
            "904/904 [==============================] - 2s 2ms/step - loss: 0.1280 - accuracy: 0.9495 - val_loss: 0.2258 - val_accuracy: 0.9144\n",
            "Epoch 3/5\n",
            "904/904 [==============================] - 2s 2ms/step - loss: 0.1119 - accuracy: 0.9547 - val_loss: 0.3193 - val_accuracy: 0.9058\n",
            "Epoch 4/5\n",
            "904/904 [==============================] - 2s 2ms/step - loss: 0.1012 - accuracy: 0.9590 - val_loss: 0.2451 - val_accuracy: 0.9049\n",
            "Epoch 5/5\n",
            "904/904 [==============================] - 2s 2ms/step - loss: 0.0945 - accuracy: 0.9628 - val_loss: 0.1346 - val_accuracy: 0.9440\n",
            "Epoch 1/5\n",
            "904/904 [==============================] - 2s 2ms/step - loss: 0.2181 - accuracy: 0.9160 - val_loss: 0.0832 - val_accuracy: 0.9704\n",
            "Epoch 2/5\n",
            "904/904 [==============================] - 2s 2ms/step - loss: 0.1238 - accuracy: 0.9507 - val_loss: 0.1169 - val_accuracy: 0.9436\n",
            "Epoch 3/5\n",
            "904/904 [==============================] - 2s 2ms/step - loss: 0.1090 - accuracy: 0.9562 - val_loss: 0.1546 - val_accuracy: 0.9328\n",
            "Epoch 4/5\n",
            "904/904 [==============================] - 2s 2ms/step - loss: 0.0968 - accuracy: 0.9620 - val_loss: 0.0780 - val_accuracy: 0.9647\n",
            "Epoch 5/5\n",
            "904/904 [==============================] - 2s 2ms/step - loss: 0.0938 - accuracy: 0.9641 - val_loss: 0.0644 - val_accuracy: 0.9746\n"
          ],
          "name": "stdout"
        },
        {
          "output_type": "display_data",
          "data": {
            "text/html": [
              "<span style=\"color:#4527A0\"><h1 style=\"font-size:18px\">Trial complete</h1></span>"
            ],
            "text/plain": [
              "<IPython.core.display.HTML object>"
            ]
          },
          "metadata": {
            "tags": []
          }
        },
        {
          "output_type": "display_data",
          "data": {
            "text/html": [
              "<span style=\"color:#4527A0\"><h1 style=\"font-size:18px\">Trial summary</h1></span>"
            ],
            "text/plain": [
              "<IPython.core.display.HTML object>"
            ]
          },
          "metadata": {
            "tags": []
          }
        },
        {
          "output_type": "display_data",
          "data": {
            "text/html": [
              "<span style=\"color:cyan\"> |-Trial ID: d10b7c4ec4fae9a33492c00b0b4bbb54</span>"
            ],
            "text/plain": [
              "<IPython.core.display.HTML object>"
            ]
          },
          "metadata": {
            "tags": []
          }
        },
        {
          "output_type": "display_data",
          "data": {
            "text/html": [
              "<span style=\"color:cyan\"> |-Score: 0.9649837215741476</span>"
            ],
            "text/plain": [
              "<IPython.core.display.HTML object>"
            ]
          },
          "metadata": {
            "tags": []
          }
        },
        {
          "output_type": "display_data",
          "data": {
            "text/html": [
              "<span style=\"color:cyan\"> |-Best step: 0</span>"
            ],
            "text/plain": [
              "<IPython.core.display.HTML object>"
            ]
          },
          "metadata": {
            "tags": []
          }
        },
        {
          "output_type": "display_data",
          "data": {
            "text/html": [
              "<span style=\"color:#7E57C2\"><h2 style=\"font-size:16px\">Hyperparameters:</h2></span>"
            ],
            "text/plain": [
              "<IPython.core.display.HTML object>"
            ]
          },
          "metadata": {
            "tags": []
          }
        },
        {
          "output_type": "display_data",
          "data": {
            "text/html": [
              "<span style=\"color:cyan\"> |-learning_rate: 0.001</span>"
            ],
            "text/plain": [
              "<IPython.core.display.HTML object>"
            ]
          },
          "metadata": {
            "tags": []
          }
        },
        {
          "output_type": "display_data",
          "data": {
            "text/html": [
              "<span style=\"color:blue\"> |-units: 512</span>"
            ],
            "text/plain": [
              "<IPython.core.display.HTML object>"
            ]
          },
          "metadata": {
            "tags": []
          }
        },
        {
          "output_type": "stream",
          "text": [
            "Epoch 1/5\n",
            "904/904 [==============================] - 2s 2ms/step - loss: 0.6087 - accuracy: 0.8319 - val_loss: 0.2195 - val_accuracy: 0.8929\n",
            "Epoch 2/5\n",
            "904/904 [==============================] - 2s 2ms/step - loss: 0.1869 - accuracy: 0.9170 - val_loss: 0.1619 - val_accuracy: 0.9502\n",
            "Epoch 3/5\n",
            "904/904 [==============================] - 2s 2ms/step - loss: 0.1428 - accuracy: 0.9428 - val_loss: 0.1256 - val_accuracy: 0.9466\n",
            "Epoch 4/5\n",
            "904/904 [==============================] - 2s 2ms/step - loss: 0.1208 - accuracy: 0.9560 - val_loss: 0.1116 - val_accuracy: 0.9487\n",
            "Epoch 5/5\n",
            "904/904 [==============================] - 2s 2ms/step - loss: 0.1080 - accuracy: 0.9625 - val_loss: 0.0991 - val_accuracy: 0.9667\n",
            "Epoch 1/5\n",
            "904/904 [==============================] - 2s 2ms/step - loss: 0.2507 - accuracy: 0.8960 - val_loss: 0.1921 - val_accuracy: 0.9076\n",
            "Epoch 2/5\n",
            "904/904 [==============================] - 2s 2ms/step - loss: 0.1658 - accuracy: 0.9306 - val_loss: 0.1406 - val_accuracy: 0.9506\n",
            "Epoch 3/5\n",
            "904/904 [==============================] - 2s 2ms/step - loss: 0.1307 - accuracy: 0.9505 - val_loss: 0.1402 - val_accuracy: 0.9650\n",
            "Epoch 4/5\n",
            "904/904 [==============================] - 2s 2ms/step - loss: 0.1139 - accuracy: 0.9599 - val_loss: 0.1034 - val_accuracy: 0.9586\n",
            "Epoch 5/5\n",
            "904/904 [==============================] - 2s 2ms/step - loss: 0.1036 - accuracy: 0.9640 - val_loss: 0.0958 - val_accuracy: 0.9612\n",
            "Epoch 1/5\n",
            "904/904 [==============================] - 2s 2ms/step - loss: 2.2491 - accuracy: 0.7473 - val_loss: 0.2666 - val_accuracy: 0.8839\n",
            "Epoch 2/5\n",
            "904/904 [==============================] - 2s 2ms/step - loss: 0.2180 - accuracy: 0.8964 - val_loss: 0.1759 - val_accuracy: 0.9336\n",
            "Epoch 3/5\n",
            "904/904 [==============================] - 2s 2ms/step - loss: 0.1570 - accuracy: 0.9357 - val_loss: 0.1367 - val_accuracy: 0.9519\n",
            "Epoch 4/5\n",
            "904/904 [==============================] - 2s 2ms/step - loss: 0.1292 - accuracy: 0.9529 - val_loss: 0.1302 - val_accuracy: 0.9700\n",
            "Epoch 5/5\n",
            "904/904 [==============================] - 2s 2ms/step - loss: 0.1136 - accuracy: 0.9605 - val_loss: 0.1069 - val_accuracy: 0.9693\n"
          ],
          "name": "stdout"
        },
        {
          "output_type": "display_data",
          "data": {
            "text/html": [
              "<span style=\"color:#4527A0\"><h1 style=\"font-size:18px\">Trial complete</h1></span>"
            ],
            "text/plain": [
              "<IPython.core.display.HTML object>"
            ]
          },
          "metadata": {
            "tags": []
          }
        },
        {
          "output_type": "display_data",
          "data": {
            "text/html": [
              "<span style=\"color:#4527A0\"><h1 style=\"font-size:18px\">Trial summary</h1></span>"
            ],
            "text/plain": [
              "<IPython.core.display.HTML object>"
            ]
          },
          "metadata": {
            "tags": []
          }
        },
        {
          "output_type": "display_data",
          "data": {
            "text/html": [
              "<span style=\"color:cyan\"> |-Trial ID: 3ab3a151b753ab7de0d7fc213e74b73f</span>"
            ],
            "text/plain": [
              "<IPython.core.display.HTML object>"
            ]
          },
          "metadata": {
            "tags": []
          }
        },
        {
          "output_type": "display_data",
          "data": {
            "text/html": [
              "<span style=\"color:cyan\"> |-Score: 0.9672541618347168</span>"
            ],
            "text/plain": [
              "<IPython.core.display.HTML object>"
            ]
          },
          "metadata": {
            "tags": []
          }
        },
        {
          "output_type": "display_data",
          "data": {
            "text/html": [
              "<span style=\"color:cyan\"> |-Best step: 0</span>"
            ],
            "text/plain": [
              "<IPython.core.display.HTML object>"
            ]
          },
          "metadata": {
            "tags": []
          }
        },
        {
          "output_type": "display_data",
          "data": {
            "text/html": [
              "<span style=\"color:#7E57C2\"><h2 style=\"font-size:16px\">Hyperparameters:</h2></span>"
            ],
            "text/plain": [
              "<IPython.core.display.HTML object>"
            ]
          },
          "metadata": {
            "tags": []
          }
        },
        {
          "output_type": "display_data",
          "data": {
            "text/html": [
              "<span style=\"color:cyan\"> |-learning_rate: 0.0001</span>"
            ],
            "text/plain": [
              "<IPython.core.display.HTML object>"
            ]
          },
          "metadata": {
            "tags": []
          }
        },
        {
          "output_type": "display_data",
          "data": {
            "text/html": [
              "<span style=\"color:blue\"> |-units: 160</span>"
            ],
            "text/plain": [
              "<IPython.core.display.HTML object>"
            ]
          },
          "metadata": {
            "tags": []
          }
        },
        {
          "output_type": "stream",
          "text": [
            "Epoch 1/5\n",
            "904/904 [==============================] - 2s 2ms/step - loss: 0.1883 - accuracy: 0.9258 - val_loss: 0.0926 - val_accuracy: 0.9717\n",
            "Epoch 2/5\n",
            "904/904 [==============================] - 2s 2ms/step - loss: 0.1179 - accuracy: 0.9509 - val_loss: 0.1934 - val_accuracy: 0.9202\n",
            "Epoch 3/5\n",
            "904/904 [==============================] - 2s 2ms/step - loss: 0.1057 - accuracy: 0.9589 - val_loss: 0.1556 - val_accuracy: 0.9343\n",
            "Epoch 4/5\n",
            "904/904 [==============================] - 2s 2ms/step - loss: 0.0991 - accuracy: 0.9609 - val_loss: 0.0782 - val_accuracy: 0.9657\n",
            "Epoch 5/5\n",
            "904/904 [==============================] - 2s 2ms/step - loss: 0.0953 - accuracy: 0.9636 - val_loss: 0.3039 - val_accuracy: 0.8851\n",
            "Epoch 1/5\n",
            "904/904 [==============================] - 2s 2ms/step - loss: 0.2023 - accuracy: 0.9189 - val_loss: 0.1066 - val_accuracy: 0.9452\n",
            "Epoch 2/5\n",
            "904/904 [==============================] - 2s 2ms/step - loss: 0.1191 - accuracy: 0.9524 - val_loss: 0.2182 - val_accuracy: 0.9079\n",
            "Epoch 3/5\n",
            "904/904 [==============================] - 2s 2ms/step - loss: 0.1055 - accuracy: 0.9582 - val_loss: 0.1601 - val_accuracy: 0.9334\n",
            "Epoch 4/5\n",
            "904/904 [==============================] - 2s 2ms/step - loss: 0.0988 - accuracy: 0.9626 - val_loss: 0.0957 - val_accuracy: 0.9557\n",
            "Epoch 5/5\n",
            "904/904 [==============================] - 2s 2ms/step - loss: 0.0940 - accuracy: 0.9641 - val_loss: 0.0870 - val_accuracy: 0.9657\n",
            "Epoch 1/5\n",
            "904/904 [==============================] - 2s 2ms/step - loss: 0.1928 - accuracy: 0.9230 - val_loss: 0.0880 - val_accuracy: 0.9716\n",
            "Epoch 2/5\n",
            "904/904 [==============================] - 2s 2ms/step - loss: 0.1190 - accuracy: 0.9516 - val_loss: 0.1423 - val_accuracy: 0.9348\n",
            "Epoch 3/5\n",
            "904/904 [==============================] - 2s 2ms/step - loss: 0.1056 - accuracy: 0.9580 - val_loss: 0.4750 - val_accuracy: 0.8258\n",
            "Epoch 4/5\n",
            "904/904 [==============================] - 2s 2ms/step - loss: 0.0999 - accuracy: 0.9611 - val_loss: 0.2003 - val_accuracy: 0.9200\n",
            "Epoch 5/5\n",
            "904/904 [==============================] - 2s 2ms/step - loss: 0.0961 - accuracy: 0.9627 - val_loss: 0.1688 - val_accuracy: 0.9308\n"
          ],
          "name": "stdout"
        },
        {
          "output_type": "display_data",
          "data": {
            "text/html": [
              "<span style=\"color:#4527A0\"><h1 style=\"font-size:18px\">Trial complete</h1></span>"
            ],
            "text/plain": [
              "<IPython.core.display.HTML object>"
            ]
          },
          "metadata": {
            "tags": []
          }
        },
        {
          "output_type": "display_data",
          "data": {
            "text/html": [
              "<span style=\"color:#4527A0\"><h1 style=\"font-size:18px\">Trial summary</h1></span>"
            ],
            "text/plain": [
              "<IPython.core.display.HTML object>"
            ]
          },
          "metadata": {
            "tags": []
          }
        },
        {
          "output_type": "display_data",
          "data": {
            "text/html": [
              "<span style=\"color:cyan\"> |-Trial ID: 4e2d2e359766dd91110a039fa13c4b22</span>"
            ],
            "text/plain": [
              "<IPython.core.display.HTML object>"
            ]
          },
          "metadata": {
            "tags": []
          }
        },
        {
          "output_type": "display_data",
          "data": {
            "text/html": [
              "<span style=\"color:cyan\"> |-Score: 0.9696650703748068</span>"
            ],
            "text/plain": [
              "<IPython.core.display.HTML object>"
            ]
          },
          "metadata": {
            "tags": []
          }
        },
        {
          "output_type": "display_data",
          "data": {
            "text/html": [
              "<span style=\"color:cyan\"> |-Best step: 0</span>"
            ],
            "text/plain": [
              "<IPython.core.display.HTML object>"
            ]
          },
          "metadata": {
            "tags": []
          }
        },
        {
          "output_type": "display_data",
          "data": {
            "text/html": [
              "<span style=\"color:#7E57C2\"><h2 style=\"font-size:16px\">Hyperparameters:</h2></span>"
            ],
            "text/plain": [
              "<IPython.core.display.HTML object>"
            ]
          },
          "metadata": {
            "tags": []
          }
        },
        {
          "output_type": "display_data",
          "data": {
            "text/html": [
              "<span style=\"color:cyan\"> |-learning_rate: 0.001</span>"
            ],
            "text/plain": [
              "<IPython.core.display.HTML object>"
            ]
          },
          "metadata": {
            "tags": []
          }
        },
        {
          "output_type": "display_data",
          "data": {
            "text/html": [
              "<span style=\"color:blue\"> |-units: 256</span>"
            ],
            "text/plain": [
              "<IPython.core.display.HTML object>"
            ]
          },
          "metadata": {
            "tags": []
          }
        },
        {
          "output_type": "stream",
          "text": [
            "Epoch 1/5\n",
            "904/904 [==============================] - 2s 2ms/step - loss: 0.3126 - accuracy: 0.9111 - val_loss: 0.1153 - val_accuracy: 0.9492\n",
            "Epoch 2/5\n",
            "904/904 [==============================] - 2s 2ms/step - loss: 0.1233 - accuracy: 0.9486 - val_loss: 0.1062 - val_accuracy: 0.9527\n",
            "Epoch 3/5\n",
            "904/904 [==============================] - 2s 2ms/step - loss: 0.1097 - accuracy: 0.9557 - val_loss: 0.0662 - val_accuracy: 0.9727\n",
            "Epoch 4/5\n",
            "904/904 [==============================] - 2s 3ms/step - loss: 0.0992 - accuracy: 0.9584 - val_loss: 0.0702 - val_accuracy: 0.9709\n",
            "Epoch 5/5\n",
            "904/904 [==============================] - 2s 2ms/step - loss: 0.0932 - accuracy: 0.9622 - val_loss: 0.0770 - val_accuracy: 0.9655\n",
            "Epoch 1/5\n",
            "904/904 [==============================] - 2s 2ms/step - loss: 0.2799 - accuracy: 0.9122 - val_loss: 0.1778 - val_accuracy: 0.9216\n",
            "Epoch 2/5\n",
            "904/904 [==============================] - 2s 2ms/step - loss: 0.1230 - accuracy: 0.9495 - val_loss: 0.0710 - val_accuracy: 0.9722\n",
            "Epoch 3/5\n",
            "904/904 [==============================] - 2s 2ms/step - loss: 0.1091 - accuracy: 0.9566 - val_loss: 0.3991 - val_accuracy: 0.9029\n",
            "Epoch 4/5\n",
            "904/904 [==============================] - 2s 2ms/step - loss: 0.1001 - accuracy: 0.9604 - val_loss: 0.0738 - val_accuracy: 0.9673\n",
            "Epoch 5/5\n",
            "904/904 [==============================] - 2s 2ms/step - loss: 0.0940 - accuracy: 0.9623 - val_loss: 0.0708 - val_accuracy: 0.9725\n",
            "Epoch 1/5\n",
            "904/904 [==============================] - 2s 2ms/step - loss: 0.2547 - accuracy: 0.9135 - val_loss: 0.3065 - val_accuracy: 0.8542\n",
            "Epoch 2/5\n",
            "904/904 [==============================] - 2s 2ms/step - loss: 0.1205 - accuracy: 0.9511 - val_loss: 0.0850 - val_accuracy: 0.9598\n",
            "Epoch 3/5\n",
            "904/904 [==============================] - 2s 2ms/step - loss: 0.1081 - accuracy: 0.9548 - val_loss: 0.2781 - val_accuracy: 0.8782\n",
            "Epoch 4/5\n",
            "904/904 [==============================] - 2s 2ms/step - loss: 0.0972 - accuracy: 0.9605 - val_loss: 0.0802 - val_accuracy: 0.9637\n",
            "Epoch 5/5\n",
            "904/904 [==============================] - 2s 2ms/step - loss: 0.0912 - accuracy: 0.9628 - val_loss: 0.0873 - val_accuracy: 0.9643\n"
          ],
          "name": "stdout"
        },
        {
          "output_type": "display_data",
          "data": {
            "text/html": [
              "<span style=\"color:#4527A0\"><h1 style=\"font-size:18px\">Trial complete</h1></span>"
            ],
            "text/plain": [
              "<IPython.core.display.HTML object>"
            ]
          },
          "metadata": {
            "tags": []
          }
        },
        {
          "output_type": "display_data",
          "data": {
            "text/html": [
              "<span style=\"color:#4527A0\"><h1 style=\"font-size:18px\">Trial summary</h1></span>"
            ],
            "text/plain": [
              "<IPython.core.display.HTML object>"
            ]
          },
          "metadata": {
            "tags": []
          }
        },
        {
          "output_type": "display_data",
          "data": {
            "text/html": [
              "<span style=\"color:cyan\"> |-Trial ID: 731754c98356f07b50d7167f4526ac63</span>"
            ],
            "text/plain": [
              "<IPython.core.display.HTML object>"
            ]
          },
          "metadata": {
            "tags": []
          }
        },
        {
          "output_type": "display_data",
          "data": {
            "text/html": [
              "<span style=\"color:cyan\"> |-Score: 0.9698054989178976</span>"
            ],
            "text/plain": [
              "<IPython.core.display.HTML object>"
            ]
          },
          "metadata": {
            "tags": []
          }
        },
        {
          "output_type": "display_data",
          "data": {
            "text/html": [
              "<span style=\"color:cyan\"> |-Best step: 0</span>"
            ],
            "text/plain": [
              "<IPython.core.display.HTML object>"
            ]
          },
          "metadata": {
            "tags": []
          }
        },
        {
          "output_type": "display_data",
          "data": {
            "text/html": [
              "<span style=\"color:#7E57C2\"><h2 style=\"font-size:16px\">Hyperparameters:</h2></span>"
            ],
            "text/plain": [
              "<IPython.core.display.HTML object>"
            ]
          },
          "metadata": {
            "tags": []
          }
        },
        {
          "output_type": "display_data",
          "data": {
            "text/html": [
              "<span style=\"color:cyan\"> |-learning_rate: 0.01</span>"
            ],
            "text/plain": [
              "<IPython.core.display.HTML object>"
            ]
          },
          "metadata": {
            "tags": []
          }
        },
        {
          "output_type": "display_data",
          "data": {
            "text/html": [
              "<span style=\"color:blue\"> |-units: 480</span>"
            ],
            "text/plain": [
              "<IPython.core.display.HTML object>"
            ]
          },
          "metadata": {
            "tags": []
          }
        },
        {
          "output_type": "stream",
          "text": [
            "INFO:tensorflow:Oracle triggered exit\n"
          ],
          "name": "stdout"
        }
      ]
    },
    {
      "cell_type": "code",
      "metadata": {
        "id": "WR14sWEcfxlQ",
        "colab_type": "code",
        "outputId": "ac7f6303-fade-4cbc-a056-83ed02d9a5ae",
        "colab": {
          "base_uri": "https://localhost:8080/",
          "height": 906
        }
      },
      "source": [
        "tuner.results_summary()"
      ],
      "execution_count": 0,
      "outputs": [
        {
          "output_type": "display_data",
          "data": {
            "text/html": [
              "<span style=\"color:#4527A0\"><h1 style=\"font-size:18px\">Results summary</h1></span>"
            ],
            "text/plain": [
              "<IPython.core.display.HTML object>"
            ]
          },
          "metadata": {
            "tags": []
          }
        },
        {
          "output_type": "display_data",
          "data": {
            "text/html": [
              "<span style=\"color:cyan\"> |-Results in ./kerastuning-test1</span>"
            ],
            "text/plain": [
              "<IPython.core.display.HTML object>"
            ]
          },
          "metadata": {
            "tags": []
          }
        },
        {
          "output_type": "display_data",
          "data": {
            "text/html": [
              "<span style=\"color:cyan\"> |-Showing 10 best trials</span>"
            ],
            "text/plain": [
              "<IPython.core.display.HTML object>"
            ]
          },
          "metadata": {
            "tags": []
          }
        },
        {
          "output_type": "display_data",
          "data": {
            "text/html": [
              "<span style=\"color:cyan\"> |-Objective(name='val_accuracy', direction='max')</span>"
            ],
            "text/plain": [
              "<IPython.core.display.HTML object>"
            ]
          },
          "metadata": {
            "tags": []
          }
        },
        {
          "output_type": "display_data",
          "data": {
            "text/html": [
              "<span style=\"color:#4527A0\"><h1 style=\"font-size:18px\">Trial summary</h1></span>"
            ],
            "text/plain": [
              "<IPython.core.display.HTML object>"
            ]
          },
          "metadata": {
            "tags": []
          }
        },
        {
          "output_type": "display_data",
          "data": {
            "text/html": [
              "<span style=\"color:cyan\"> |-Trial ID: 2130cf0ef793f9b134f4afe8ec789790</span>"
            ],
            "text/plain": [
              "<IPython.core.display.HTML object>"
            ]
          },
          "metadata": {
            "tags": []
          }
        },
        {
          "output_type": "display_data",
          "data": {
            "text/html": [
              "<span style=\"color:cyan\"> |-Score: 0.9701098004976908</span>"
            ],
            "text/plain": [
              "<IPython.core.display.HTML object>"
            ]
          },
          "metadata": {
            "tags": []
          }
        },
        {
          "output_type": "display_data",
          "data": {
            "text/html": [
              "<span style=\"color:cyan\"> |-Best step: 0</span>"
            ],
            "text/plain": [
              "<IPython.core.display.HTML object>"
            ]
          },
          "metadata": {
            "tags": []
          }
        },
        {
          "output_type": "display_data",
          "data": {
            "text/html": [
              "<span style=\"color:#7E57C2\"><h2 style=\"font-size:16px\">Hyperparameters:</h2></span>"
            ],
            "text/plain": [
              "<IPython.core.display.HTML object>"
            ]
          },
          "metadata": {
            "tags": []
          }
        },
        {
          "output_type": "display_data",
          "data": {
            "text/html": [
              "<span style=\"color:cyan\"> |-learning_rate: 0.0001</span>"
            ],
            "text/plain": [
              "<IPython.core.display.HTML object>"
            ]
          },
          "metadata": {
            "tags": []
          }
        },
        {
          "output_type": "display_data",
          "data": {
            "text/html": [
              "<span style=\"color:blue\"> |-units: 224</span>"
            ],
            "text/plain": [
              "<IPython.core.display.HTML object>"
            ]
          },
          "metadata": {
            "tags": []
          }
        },
        {
          "output_type": "display_data",
          "data": {
            "text/html": [
              "<span style=\"color:#4527A0\"><h1 style=\"font-size:18px\">Trial summary</h1></span>"
            ],
            "text/plain": [
              "<IPython.core.display.HTML object>"
            ]
          },
          "metadata": {
            "tags": []
          }
        },
        {
          "output_type": "display_data",
          "data": {
            "text/html": [
              "<span style=\"color:cyan\"> |-Trial ID: 731754c98356f07b50d7167f4526ac63</span>"
            ],
            "text/plain": [
              "<IPython.core.display.HTML object>"
            ]
          },
          "metadata": {
            "tags": []
          }
        },
        {
          "output_type": "display_data",
          "data": {
            "text/html": [
              "<span style=\"color:cyan\"> |-Score: 0.9698054989178976</span>"
            ],
            "text/plain": [
              "<IPython.core.display.HTML object>"
            ]
          },
          "metadata": {
            "tags": []
          }
        },
        {
          "output_type": "display_data",
          "data": {
            "text/html": [
              "<span style=\"color:cyan\"> |-Best step: 0</span>"
            ],
            "text/plain": [
              "<IPython.core.display.HTML object>"
            ]
          },
          "metadata": {
            "tags": []
          }
        },
        {
          "output_type": "display_data",
          "data": {
            "text/html": [
              "<span style=\"color:#7E57C2\"><h2 style=\"font-size:16px\">Hyperparameters:</h2></span>"
            ],
            "text/plain": [
              "<IPython.core.display.HTML object>"
            ]
          },
          "metadata": {
            "tags": []
          }
        },
        {
          "output_type": "display_data",
          "data": {
            "text/html": [
              "<span style=\"color:cyan\"> |-learning_rate: 0.01</span>"
            ],
            "text/plain": [
              "<IPython.core.display.HTML object>"
            ]
          },
          "metadata": {
            "tags": []
          }
        },
        {
          "output_type": "display_data",
          "data": {
            "text/html": [
              "<span style=\"color:blue\"> |-units: 480</span>"
            ],
            "text/plain": [
              "<IPython.core.display.HTML object>"
            ]
          },
          "metadata": {
            "tags": []
          }
        },
        {
          "output_type": "display_data",
          "data": {
            "text/html": [
              "<span style=\"color:#4527A0\"><h1 style=\"font-size:18px\">Trial summary</h1></span>"
            ],
            "text/plain": [
              "<IPython.core.display.HTML object>"
            ]
          },
          "metadata": {
            "tags": []
          }
        },
        {
          "output_type": "display_data",
          "data": {
            "text/html": [
              "<span style=\"color:cyan\"> |-Trial ID: 4e2d2e359766dd91110a039fa13c4b22</span>"
            ],
            "text/plain": [
              "<IPython.core.display.HTML object>"
            ]
          },
          "metadata": {
            "tags": []
          }
        },
        {
          "output_type": "display_data",
          "data": {
            "text/html": [
              "<span style=\"color:cyan\"> |-Score: 0.9696650703748068</span>"
            ],
            "text/plain": [
              "<IPython.core.display.HTML object>"
            ]
          },
          "metadata": {
            "tags": []
          }
        },
        {
          "output_type": "display_data",
          "data": {
            "text/html": [
              "<span style=\"color:cyan\"> |-Best step: 0</span>"
            ],
            "text/plain": [
              "<IPython.core.display.HTML object>"
            ]
          },
          "metadata": {
            "tags": []
          }
        },
        {
          "output_type": "display_data",
          "data": {
            "text/html": [
              "<span style=\"color:#7E57C2\"><h2 style=\"font-size:16px\">Hyperparameters:</h2></span>"
            ],
            "text/plain": [
              "<IPython.core.display.HTML object>"
            ]
          },
          "metadata": {
            "tags": []
          }
        },
        {
          "output_type": "display_data",
          "data": {
            "text/html": [
              "<span style=\"color:cyan\"> |-learning_rate: 0.001</span>"
            ],
            "text/plain": [
              "<IPython.core.display.HTML object>"
            ]
          },
          "metadata": {
            "tags": []
          }
        },
        {
          "output_type": "display_data",
          "data": {
            "text/html": [
              "<span style=\"color:blue\"> |-units: 256</span>"
            ],
            "text/plain": [
              "<IPython.core.display.HTML object>"
            ]
          },
          "metadata": {
            "tags": []
          }
        },
        {
          "output_type": "display_data",
          "data": {
            "text/html": [
              "<span style=\"color:#4527A0\"><h1 style=\"font-size:18px\">Trial summary</h1></span>"
            ],
            "text/plain": [
              "<IPython.core.display.HTML object>"
            ]
          },
          "metadata": {
            "tags": []
          }
        },
        {
          "output_type": "display_data",
          "data": {
            "text/html": [
              "<span style=\"color:cyan\"> |-Trial ID: 3ab3a151b753ab7de0d7fc213e74b73f</span>"
            ],
            "text/plain": [
              "<IPython.core.display.HTML object>"
            ]
          },
          "metadata": {
            "tags": []
          }
        },
        {
          "output_type": "display_data",
          "data": {
            "text/html": [
              "<span style=\"color:cyan\"> |-Score: 0.9672541618347168</span>"
            ],
            "text/plain": [
              "<IPython.core.display.HTML object>"
            ]
          },
          "metadata": {
            "tags": []
          }
        },
        {
          "output_type": "display_data",
          "data": {
            "text/html": [
              "<span style=\"color:cyan\"> |-Best step: 0</span>"
            ],
            "text/plain": [
              "<IPython.core.display.HTML object>"
            ]
          },
          "metadata": {
            "tags": []
          }
        },
        {
          "output_type": "display_data",
          "data": {
            "text/html": [
              "<span style=\"color:#7E57C2\"><h2 style=\"font-size:16px\">Hyperparameters:</h2></span>"
            ],
            "text/plain": [
              "<IPython.core.display.HTML object>"
            ]
          },
          "metadata": {
            "tags": []
          }
        },
        {
          "output_type": "display_data",
          "data": {
            "text/html": [
              "<span style=\"color:cyan\"> |-learning_rate: 0.0001</span>"
            ],
            "text/plain": [
              "<IPython.core.display.HTML object>"
            ]
          },
          "metadata": {
            "tags": []
          }
        },
        {
          "output_type": "display_data",
          "data": {
            "text/html": [
              "<span style=\"color:blue\"> |-units: 160</span>"
            ],
            "text/plain": [
              "<IPython.core.display.HTML object>"
            ]
          },
          "metadata": {
            "tags": []
          }
        },
        {
          "output_type": "display_data",
          "data": {
            "text/html": [
              "<span style=\"color:#4527A0\"><h1 style=\"font-size:18px\">Trial summary</h1></span>"
            ],
            "text/plain": [
              "<IPython.core.display.HTML object>"
            ]
          },
          "metadata": {
            "tags": []
          }
        },
        {
          "output_type": "display_data",
          "data": {
            "text/html": [
              "<span style=\"color:cyan\"> |-Trial ID: d10b7c4ec4fae9a33492c00b0b4bbb54</span>"
            ],
            "text/plain": [
              "<IPython.core.display.HTML object>"
            ]
          },
          "metadata": {
            "tags": []
          }
        },
        {
          "output_type": "display_data",
          "data": {
            "text/html": [
              "<span style=\"color:cyan\"> |-Score: 0.9649837215741476</span>"
            ],
            "text/plain": [
              "<IPython.core.display.HTML object>"
            ]
          },
          "metadata": {
            "tags": []
          }
        },
        {
          "output_type": "display_data",
          "data": {
            "text/html": [
              "<span style=\"color:cyan\"> |-Best step: 0</span>"
            ],
            "text/plain": [
              "<IPython.core.display.HTML object>"
            ]
          },
          "metadata": {
            "tags": []
          }
        },
        {
          "output_type": "display_data",
          "data": {
            "text/html": [
              "<span style=\"color:#7E57C2\"><h2 style=\"font-size:16px\">Hyperparameters:</h2></span>"
            ],
            "text/plain": [
              "<IPython.core.display.HTML object>"
            ]
          },
          "metadata": {
            "tags": []
          }
        },
        {
          "output_type": "display_data",
          "data": {
            "text/html": [
              "<span style=\"color:cyan\"> |-learning_rate: 0.001</span>"
            ],
            "text/plain": [
              "<IPython.core.display.HTML object>"
            ]
          },
          "metadata": {
            "tags": []
          }
        },
        {
          "output_type": "display_data",
          "data": {
            "text/html": [
              "<span style=\"color:blue\"> |-units: 512</span>"
            ],
            "text/plain": [
              "<IPython.core.display.HTML object>"
            ]
          },
          "metadata": {
            "tags": []
          }
        }
      ]
    },
    {
      "cell_type": "markdown",
      "metadata": {
        "id": "KdQlF9SgdRNS",
        "colab_type": "text"
      },
      "source": [
        "## Printing the Best Model"
      ]
    },
    {
      "cell_type": "code",
      "metadata": {
        "id": "ZIxk1yyHgKuu",
        "colab_type": "code",
        "outputId": "933bec57-8f42-4529-accd-50fcd3165c4b",
        "colab": {
          "base_uri": "https://localhost:8080/",
          "height": 225
        }
      },
      "source": [
        "best_model = tuner.get_best_models(num_models=1)[0]\n",
        "best_model.summary()"
      ],
      "execution_count": 0,
      "outputs": [
        {
          "output_type": "stream",
          "text": [
            "Model: \"sequential\"\n",
            "_________________________________________________________________\n",
            "Layer (type)                 Output Shape              Param #   \n",
            "=================================================================\n",
            "dense (Dense)                (None, 224)               2240      \n",
            "_________________________________________________________________\n",
            "dense_1 (Dense)              (None, 1)                 225       \n",
            "=================================================================\n",
            "Total params: 2,465\n",
            "Trainable params: 2,465\n",
            "Non-trainable params: 0\n",
            "_________________________________________________________________\n"
          ],
          "name": "stdout"
        }
      ]
    }
  ]
}